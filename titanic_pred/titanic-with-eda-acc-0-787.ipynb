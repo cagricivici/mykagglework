{
 "cells": [
  {
   "cell_type": "code",
   "execution_count": 1,
   "id": "d6c0be12",
   "metadata": {
    "execution": {
     "iopub.execute_input": "2024-10-17T09:42:54.320469Z",
     "iopub.status.busy": "2024-10-17T09:42:54.320039Z",
     "iopub.status.idle": "2024-10-17T09:42:54.347355Z",
     "shell.execute_reply": "2024-10-17T09:42:54.346260Z"
    },
    "papermill": {
     "duration": 0.046624,
     "end_time": "2024-10-17T09:42:54.349933",
     "exception": false,
     "start_time": "2024-10-17T09:42:54.303309",
     "status": "completed"
    },
    "tags": []
   },
   "outputs": [
    {
     "name": "stdout",
     "output_type": "stream",
     "text": [
      "/kaggle/input/titanic-competition-how-top-lb-got-their-score/__results__.html\n",
      "/kaggle/input/titanic-competition-how-top-lb-got-their-score/submission.csv\n",
      "/kaggle/input/titanic-competition-how-top-lb-got-their-score/__resultx__.html\n",
      "/kaggle/input/titanic-competition-how-top-lb-got-their-score/__notebook__.ipynb\n",
      "/kaggle/input/titanic-competition-how-top-lb-got-their-score/__output__.json\n",
      "/kaggle/input/titanic-competition-how-top-lb-got-their-score/custom.css\n",
      "/kaggle/input/titanic/train.csv\n",
      "/kaggle/input/titanic/test.csv\n",
      "/kaggle/input/titanic/gender_submission.csv\n"
     ]
    }
   ],
   "source": [
    "import os\n",
    "for dirname, _, filenames in os.walk('/kaggle/input'):\n",
    "    for filename in filenames:\n",
    "        print(os.path.join(dirname, filename))"
   ]
  },
  {
   "cell_type": "markdown",
   "id": "4404a585",
   "metadata": {
    "papermill": {
     "duration": 0.014218,
     "end_time": "2024-10-17T09:42:54.380109",
     "exception": false,
     "start_time": "2024-10-17T09:42:54.365891",
     "status": "completed"
    },
    "tags": []
   },
   "source": [
    "# Data Preperation "
   ]
  },
  {
   "cell_type": "markdown",
   "id": "e3f0caf9",
   "metadata": {
    "papermill": {
     "duration": 0.014001,
     "end_time": "2024-10-17T09:42:54.408450",
     "exception": false,
     "start_time": "2024-10-17T09:42:54.394449",
     "status": "completed"
    },
    "tags": []
   },
   "source": [
    "First of all, I merge the train and test data into full data so preparation would be easy."
   ]
  },
  {
   "cell_type": "code",
   "execution_count": 2,
   "id": "50e64956",
   "metadata": {
    "execution": {
     "iopub.execute_input": "2024-10-17T09:42:54.438680Z",
     "iopub.status.busy": "2024-10-17T09:42:54.438234Z",
     "iopub.status.idle": "2024-10-17T09:42:55.432427Z",
     "shell.execute_reply": "2024-10-17T09:42:55.431439Z"
    },
    "papermill": {
     "duration": 1.012459,
     "end_time": "2024-10-17T09:42:55.435118",
     "exception": false,
     "start_time": "2024-10-17T09:42:54.422659",
     "status": "completed"
    },
    "tags": []
   },
   "outputs": [],
   "source": [
    "import pandas as pd \n",
    "df_train = pd.read_csv('/kaggle/input/titanic/train.csv')\n",
    "df_test = pd.read_csv('/kaggle/input/titanic/test.csv')\n",
    "df_full = pd.concat([df_train,df_test],axis = 0)"
   ]
  },
  {
   "cell_type": "code",
   "execution_count": 3,
   "id": "78a9b7d6",
   "metadata": {
    "execution": {
     "iopub.execute_input": "2024-10-17T09:42:55.465994Z",
     "iopub.status.busy": "2024-10-17T09:42:55.465587Z",
     "iopub.status.idle": "2024-10-17T09:42:55.471145Z",
     "shell.execute_reply": "2024-10-17T09:42:55.470017Z"
    },
    "papermill": {
     "duration": 0.024155,
     "end_time": "2024-10-17T09:42:55.474033",
     "exception": false,
     "start_time": "2024-10-17T09:42:55.449878",
     "status": "completed"
    },
    "tags": []
   },
   "outputs": [
    {
     "name": "stdout",
     "output_type": "stream",
     "text": [
      "(891, 12)\n",
      "(418, 11)\n",
      "(1309, 12)\n"
     ]
    }
   ],
   "source": [
    "print(df_train.shape)\n",
    "print(df_test.shape)\n",
    "print(df_full.shape)"
   ]
  },
  {
   "cell_type": "markdown",
   "id": "a77744c0",
   "metadata": {
    "papermill": {
     "duration": 0.014163,
     "end_time": "2024-10-17T09:42:55.503003",
     "exception": false,
     "start_time": "2024-10-17T09:42:55.488840",
     "status": "completed"
    },
    "tags": []
   },
   "source": [
    "According to NA value:\n",
    "* Filling the Age by doing EDA\n",
    "* Filling the Embark by doing EDA\n",
    "* Filling the Fare by doing EDA\n",
    "* Ignore Cabin because there are a lot of data missing which is no sense to recover/imitate it\n"
   ]
  },
  {
   "cell_type": "code",
   "execution_count": 4,
   "id": "e36fb8e4",
   "metadata": {
    "execution": {
     "iopub.execute_input": "2024-10-17T09:42:55.534385Z",
     "iopub.status.busy": "2024-10-17T09:42:55.533618Z",
     "iopub.status.idle": "2024-10-17T09:42:55.546674Z",
     "shell.execute_reply": "2024-10-17T09:42:55.545584Z"
    },
    "papermill": {
     "duration": 0.031637,
     "end_time": "2024-10-17T09:42:55.549010",
     "exception": false,
     "start_time": "2024-10-17T09:42:55.517373",
     "status": "completed"
    },
    "tags": []
   },
   "outputs": [
    {
     "data": {
      "text/plain": [
       "PassengerId       0\n",
       "Survived        418\n",
       "Pclass            0\n",
       "Name              0\n",
       "Sex               0\n",
       "Age             263\n",
       "SibSp             0\n",
       "Parch             0\n",
       "Ticket            0\n",
       "Fare              1\n",
       "Cabin          1014\n",
       "Embarked          2\n",
       "dtype: int64"
      ]
     },
     "execution_count": 4,
     "metadata": {},
     "output_type": "execute_result"
    }
   ],
   "source": [
    "df_full.isna().sum()"
   ]
  },
  {
   "cell_type": "markdown",
   "id": "794e9c1a",
   "metadata": {
    "papermill": {
     "duration": 0.014315,
     "end_time": "2024-10-17T09:42:55.577941",
     "exception": false,
     "start_time": "2024-10-17T09:42:55.563626",
     "status": "completed"
    },
    "tags": []
   },
   "source": [
    "# EDA (Exploratory Data Analysis)\n",
    "For missing values or creating new features that helps the model to be trained"
   ]
  },
  {
   "cell_type": "code",
   "execution_count": 5,
   "id": "3b32ad6c",
   "metadata": {
    "execution": {
     "iopub.execute_input": "2024-10-17T09:42:55.608828Z",
     "iopub.status.busy": "2024-10-17T09:42:55.608397Z",
     "iopub.status.idle": "2024-10-17T09:42:55.631517Z",
     "shell.execute_reply": "2024-10-17T09:42:55.630265Z"
    },
    "papermill": {
     "duration": 0.04152,
     "end_time": "2024-10-17T09:42:55.634069",
     "exception": false,
     "start_time": "2024-10-17T09:42:55.592549",
     "status": "completed"
    },
    "tags": []
   },
   "outputs": [
    {
     "data": {
      "text/html": [
       "<div>\n",
       "<style scoped>\n",
       "    .dataframe tbody tr th:only-of-type {\n",
       "        vertical-align: middle;\n",
       "    }\n",
       "\n",
       "    .dataframe tbody tr th {\n",
       "        vertical-align: top;\n",
       "    }\n",
       "\n",
       "    .dataframe thead th {\n",
       "        text-align: right;\n",
       "    }\n",
       "</style>\n",
       "<table border=\"1\" class=\"dataframe\">\n",
       "  <thead>\n",
       "    <tr style=\"text-align: right;\">\n",
       "      <th></th>\n",
       "      <th>PassengerId</th>\n",
       "      <th>Survived</th>\n",
       "      <th>Pclass</th>\n",
       "      <th>Name</th>\n",
       "      <th>Sex</th>\n",
       "      <th>Age</th>\n",
       "      <th>SibSp</th>\n",
       "      <th>Parch</th>\n",
       "      <th>Ticket</th>\n",
       "      <th>Fare</th>\n",
       "      <th>Cabin</th>\n",
       "      <th>Embarked</th>\n",
       "    </tr>\n",
       "  </thead>\n",
       "  <tbody>\n",
       "    <tr>\n",
       "      <th>0</th>\n",
       "      <td>1</td>\n",
       "      <td>0.0</td>\n",
       "      <td>3</td>\n",
       "      <td>Braund, Mr. Owen Harris</td>\n",
       "      <td>male</td>\n",
       "      <td>22.0</td>\n",
       "      <td>1</td>\n",
       "      <td>0</td>\n",
       "      <td>A/5 21171</td>\n",
       "      <td>7.2500</td>\n",
       "      <td>NaN</td>\n",
       "      <td>S</td>\n",
       "    </tr>\n",
       "    <tr>\n",
       "      <th>1</th>\n",
       "      <td>2</td>\n",
       "      <td>1.0</td>\n",
       "      <td>1</td>\n",
       "      <td>Cumings, Mrs. John Bradley (Florence Briggs Th...</td>\n",
       "      <td>female</td>\n",
       "      <td>38.0</td>\n",
       "      <td>1</td>\n",
       "      <td>0</td>\n",
       "      <td>PC 17599</td>\n",
       "      <td>71.2833</td>\n",
       "      <td>C85</td>\n",
       "      <td>C</td>\n",
       "    </tr>\n",
       "    <tr>\n",
       "      <th>2</th>\n",
       "      <td>3</td>\n",
       "      <td>1.0</td>\n",
       "      <td>3</td>\n",
       "      <td>Heikkinen, Miss. Laina</td>\n",
       "      <td>female</td>\n",
       "      <td>26.0</td>\n",
       "      <td>0</td>\n",
       "      <td>0</td>\n",
       "      <td>STON/O2. 3101282</td>\n",
       "      <td>7.9250</td>\n",
       "      <td>NaN</td>\n",
       "      <td>S</td>\n",
       "    </tr>\n",
       "    <tr>\n",
       "      <th>3</th>\n",
       "      <td>4</td>\n",
       "      <td>1.0</td>\n",
       "      <td>1</td>\n",
       "      <td>Futrelle, Mrs. Jacques Heath (Lily May Peel)</td>\n",
       "      <td>female</td>\n",
       "      <td>35.0</td>\n",
       "      <td>1</td>\n",
       "      <td>0</td>\n",
       "      <td>113803</td>\n",
       "      <td>53.1000</td>\n",
       "      <td>C123</td>\n",
       "      <td>S</td>\n",
       "    </tr>\n",
       "    <tr>\n",
       "      <th>4</th>\n",
       "      <td>5</td>\n",
       "      <td>0.0</td>\n",
       "      <td>3</td>\n",
       "      <td>Allen, Mr. William Henry</td>\n",
       "      <td>male</td>\n",
       "      <td>35.0</td>\n",
       "      <td>0</td>\n",
       "      <td>0</td>\n",
       "      <td>373450</td>\n",
       "      <td>8.0500</td>\n",
       "      <td>NaN</td>\n",
       "      <td>S</td>\n",
       "    </tr>\n",
       "  </tbody>\n",
       "</table>\n",
       "</div>"
      ],
      "text/plain": [
       "   PassengerId  Survived  Pclass  \\\n",
       "0            1       0.0       3   \n",
       "1            2       1.0       1   \n",
       "2            3       1.0       3   \n",
       "3            4       1.0       1   \n",
       "4            5       0.0       3   \n",
       "\n",
       "                                                Name     Sex   Age  SibSp  \\\n",
       "0                            Braund, Mr. Owen Harris    male  22.0      1   \n",
       "1  Cumings, Mrs. John Bradley (Florence Briggs Th...  female  38.0      1   \n",
       "2                             Heikkinen, Miss. Laina  female  26.0      0   \n",
       "3       Futrelle, Mrs. Jacques Heath (Lily May Peel)  female  35.0      1   \n",
       "4                           Allen, Mr. William Henry    male  35.0      0   \n",
       "\n",
       "   Parch            Ticket     Fare Cabin Embarked  \n",
       "0      0         A/5 21171   7.2500   NaN        S  \n",
       "1      0          PC 17599  71.2833   C85        C  \n",
       "2      0  STON/O2. 3101282   7.9250   NaN        S  \n",
       "3      0            113803  53.1000  C123        S  \n",
       "4      0            373450   8.0500   NaN        S  "
      ]
     },
     "execution_count": 5,
     "metadata": {},
     "output_type": "execute_result"
    }
   ],
   "source": [
    "df_full.head(5)"
   ]
  },
  {
   "cell_type": "markdown",
   "id": "1b0586b2",
   "metadata": {
    "papermill": {
     "duration": 0.014591,
     "end_time": "2024-10-17T09:42:55.663953",
     "exception": false,
     "start_time": "2024-10-17T09:42:55.649362",
     "status": "completed"
    },
    "tags": []
   },
   "source": [
    "## Age"
   ]
  },
  {
   "cell_type": "code",
   "execution_count": 6,
   "id": "8393a89e",
   "metadata": {
    "execution": {
     "iopub.execute_input": "2024-10-17T09:42:55.695363Z",
     "iopub.status.busy": "2024-10-17T09:42:55.694961Z",
     "iopub.status.idle": "2024-10-17T09:42:55.729526Z",
     "shell.execute_reply": "2024-10-17T09:42:55.728517Z"
    },
    "papermill": {
     "duration": 0.053471,
     "end_time": "2024-10-17T09:42:55.732240",
     "exception": false,
     "start_time": "2024-10-17T09:42:55.678769",
     "status": "completed"
    },
    "tags": []
   },
   "outputs": [
    {
     "data": {
      "text/html": [
       "<div>\n",
       "<style scoped>\n",
       "    .dataframe tbody tr th:only-of-type {\n",
       "        vertical-align: middle;\n",
       "    }\n",
       "\n",
       "    .dataframe tbody tr th {\n",
       "        vertical-align: top;\n",
       "    }\n",
       "\n",
       "    .dataframe thead th {\n",
       "        text-align: right;\n",
       "    }\n",
       "</style>\n",
       "<table border=\"1\" class=\"dataframe\">\n",
       "  <thead>\n",
       "    <tr style=\"text-align: right;\">\n",
       "      <th></th>\n",
       "      <th>feature1</th>\n",
       "      <th>feature2</th>\n",
       "      <th>score</th>\n",
       "    </tr>\n",
       "  </thead>\n",
       "  <tbody>\n",
       "    <tr>\n",
       "      <th>1</th>\n",
       "      <td>Age</td>\n",
       "      <td>Age</td>\n",
       "      <td>1.000000</td>\n",
       "    </tr>\n",
       "    <tr>\n",
       "      <th>8</th>\n",
       "      <td>Age</td>\n",
       "      <td>Pclass</td>\n",
       "      <td>0.408106</td>\n",
       "    </tr>\n",
       "    <tr>\n",
       "      <th>11</th>\n",
       "      <td>Age</td>\n",
       "      <td>SibSp</td>\n",
       "      <td>0.243699</td>\n",
       "    </tr>\n",
       "    <tr>\n",
       "      <th>15</th>\n",
       "      <td>Age</td>\n",
       "      <td>Fare</td>\n",
       "      <td>0.178740</td>\n",
       "    </tr>\n",
       "    <tr>\n",
       "      <th>19</th>\n",
       "      <td>Age</td>\n",
       "      <td>Parch</td>\n",
       "      <td>0.150917</td>\n",
       "    </tr>\n",
       "  </tbody>\n",
       "</table>\n",
       "</div>"
      ],
      "text/plain": [
       "   feature1 feature2     score\n",
       "1       Age      Age  1.000000\n",
       "8       Age   Pclass  0.408106\n",
       "11      Age    SibSp  0.243699\n",
       "15      Age     Fare  0.178740\n",
       "19      Age    Parch  0.150917"
      ]
     },
     "execution_count": 6,
     "metadata": {},
     "output_type": "execute_result"
    }
   ],
   "source": [
    "# what is the best correlation for age:\n",
    "\n",
    "full_cor=df_full[['Pclass','Age','SibSp','Parch','Fare']].corr().abs().unstack().sort_values(kind=\"quicksort\", ascending=False).reset_index()\n",
    "full_cor=full_cor.rename(columns={'level_0':'feature1','level_1':'feature2',0:'score'})\n",
    "age_corr=full_cor[full_cor['feature1'] == 'Age']\n",
    "age_corr"
   ]
  },
  {
   "cell_type": "code",
   "execution_count": 7,
   "id": "f4743083",
   "metadata": {
    "execution": {
     "iopub.execute_input": "2024-10-17T09:42:55.764677Z",
     "iopub.status.busy": "2024-10-17T09:42:55.763775Z",
     "iopub.status.idle": "2024-10-17T09:42:55.771546Z",
     "shell.execute_reply": "2024-10-17T09:42:55.770313Z"
    },
    "papermill": {
     "duration": 0.026667,
     "end_time": "2024-10-17T09:42:55.774079",
     "exception": false,
     "start_time": "2024-10-17T09:42:55.747412",
     "status": "completed"
    },
    "tags": []
   },
   "outputs": [
    {
     "name": "stdout",
     "output_type": "stream",
     "text": [
      "Missing value for AGE as percentage: % 20\n"
     ]
    }
   ],
   "source": [
    "print('Missing value for AGE as percentage: %',int(100*(df_full.isna().sum()['Age']/len(df_full))))"
   ]
  },
  {
   "cell_type": "code",
   "execution_count": 8,
   "id": "75eff98f",
   "metadata": {
    "execution": {
     "iopub.execute_input": "2024-10-17T09:42:55.805800Z",
     "iopub.status.busy": "2024-10-17T09:42:55.805390Z",
     "iopub.status.idle": "2024-10-17T09:42:55.813716Z",
     "shell.execute_reply": "2024-10-17T09:42:55.812385Z"
    },
    "papermill": {
     "duration": 0.026832,
     "end_time": "2024-10-17T09:42:55.815921",
     "exception": false,
     "start_time": "2024-10-17T09:42:55.789089",
     "status": "completed"
    },
    "tags": []
   },
   "outputs": [
    {
     "data": {
      "text/plain": [
       "29.881137667304014"
      ]
     },
     "execution_count": 8,
     "metadata": {},
     "output_type": "execute_result"
    }
   ],
   "source": [
    "#what if i use mean() in filling na of age:\n",
    "\n",
    "df_full['Age'].mean()"
   ]
  },
  {
   "cell_type": "code",
   "execution_count": 9,
   "id": "0b8ee393",
   "metadata": {
    "execution": {
     "iopub.execute_input": "2024-10-17T09:42:55.848459Z",
     "iopub.status.busy": "2024-10-17T09:42:55.847621Z",
     "iopub.status.idle": "2024-10-17T09:42:57.703868Z",
     "shell.execute_reply": "2024-10-17T09:42:57.702855Z"
    },
    "papermill": {
     "duration": 1.87488,
     "end_time": "2024-10-17T09:42:57.706015",
     "exception": false,
     "start_time": "2024-10-17T09:42:55.831135",
     "status": "completed"
    },
    "tags": []
   },
   "outputs": [
    {
     "name": "stdout",
     "output_type": "stream",
     "text": [
      "*Here the gender distribution in each PClass*\n"
     ]
    },
    {
     "data": {
      "text/plain": [
       "Pclass  Sex   \n",
       "1       male      179\n",
       "        female    144\n",
       "2       male      171\n",
       "        female    106\n",
       "3       male      493\n",
       "        female    216\n",
       "Name: count, dtype: int64"
      ]
     },
     "execution_count": 9,
     "metadata": {},
     "output_type": "execute_result"
    }
   ],
   "source": [
    "import matplotlib.pyplot as plt\n",
    "import seaborn as sns\n",
    "\n",
    "print('*Here the gender distribution in each PClass*')\n",
    "df_full.groupby('Pclass')['Sex'].value_counts()"
   ]
  },
  {
   "cell_type": "code",
   "execution_count": 10,
   "id": "875d1c7c",
   "metadata": {
    "execution": {
     "iopub.execute_input": "2024-10-17T09:42:57.738894Z",
     "iopub.status.busy": "2024-10-17T09:42:57.738349Z",
     "iopub.status.idle": "2024-10-17T09:42:57.752630Z",
     "shell.execute_reply": "2024-10-17T09:42:57.751550Z"
    },
    "papermill": {
     "duration": 0.033596,
     "end_time": "2024-10-17T09:42:57.754984",
     "exception": false,
     "start_time": "2024-10-17T09:42:57.721388",
     "status": "completed"
    },
    "tags": []
   },
   "outputs": [
    {
     "name": "stdout",
     "output_type": "stream",
     "text": [
      "Mean Value of C1 class for man has 41.03 age\n",
      "Mean Value of C1 class for man has 37.04 age\n",
      "Mean Value of C2 class for man has 30.82 age\n",
      "Mean Value of C2 class for man has 27.5 age\n",
      "Mean Value of C3 class for man has 25.96 age\n",
      "Mean Value of C3 class for man has 22.19 age\n"
     ]
    }
   ],
   "source": [
    "for k in range (1,4):\n",
    "    for each in ('male','female'):\n",
    "        value=df_full[(df_full['Pclass'] == k) & (df_full['Sex'] == each)]['Age'].mean()\n",
    "        print('Mean Value of C{0} class for man has {1} age'.format(k,round(value,2)))"
   ]
  },
  {
   "cell_type": "markdown",
   "id": "e3185322",
   "metadata": {
    "papermill": {
     "duration": 0.015086,
     "end_time": "2024-10-17T09:42:57.785523",
     "exception": false,
     "start_time": "2024-10-17T09:42:57.770437",
     "status": "completed"
    },
    "tags": []
   },
   "source": [
    "> We can see that each mean value in Pclass and Sex section is different. That's why,filling NA value of age with mean value of full data can deviate the age data from the correctness. So I need the missing value to be filled out by these mean values above.\n"
   ]
  },
  {
   "cell_type": "code",
   "execution_count": 11,
   "id": "c7bde3f3",
   "metadata": {
    "execution": {
     "iopub.execute_input": "2024-10-17T09:42:57.818624Z",
     "iopub.status.busy": "2024-10-17T09:42:57.818191Z",
     "iopub.status.idle": "2024-10-17T09:42:57.836854Z",
     "shell.execute_reply": "2024-10-17T09:42:57.835845Z"
    },
    "papermill": {
     "duration": 0.037971,
     "end_time": "2024-10-17T09:42:57.839212",
     "exception": false,
     "start_time": "2024-10-17T09:42:57.801241",
     "status": "completed"
    },
    "tags": []
   },
   "outputs": [],
   "source": [
    "# Fill missing Age values for Pclass 1 and Sex male\n",
    "df_full.loc[(df_full['Age'].isna()) & (df_full['Pclass'] == 1) & (df_full['Sex'] == 'male'), 'Age'] = 41\n",
    "\n",
    "# Fill missing Age values for Pclass 1 and Sex female\n",
    "df_full.loc[(df_full['Age'].isna()) & (df_full['Pclass'] == 1) & (df_full['Sex'] == 'female'), 'Age'] = 37\n",
    "\n",
    "# Fill missing Age values for Pclass 2 and Sex male\n",
    "df_full.loc[(df_full['Age'].isna()) & (df_full['Pclass'] == 2) & (df_full['Sex'] == 'male'), 'Age'] = 28\n",
    "\n",
    "# Fill missing Age values for Pclass 2 and Sex female\n",
    "df_full.loc[(df_full['Age'].isna()) & (df_full['Pclass'] == 2) & (df_full['Sex'] == 'female'), 'Age'] = 37\n",
    "\n",
    "# Fill missing Age values for Pclass 3 and Sex male\n",
    "df_full.loc[(df_full['Age'].isna()) & (df_full['Pclass'] == 3) & (df_full['Sex'] == 'male'), 'Age'] = 26\n",
    "\n",
    "# Fill missing Age values for Pclass 3 and Sex female\n",
    "df_full.loc[(df_full['Age'].isna()) & (df_full['Pclass'] == 3) & (df_full['Sex'] == 'female'), 'Age'] = 22\n"
   ]
  },
  {
   "cell_type": "code",
   "execution_count": 12,
   "id": "f6163d2d",
   "metadata": {
    "execution": {
     "iopub.execute_input": "2024-10-17T09:42:57.872432Z",
     "iopub.status.busy": "2024-10-17T09:42:57.871448Z",
     "iopub.status.idle": "2024-10-17T09:42:57.956439Z",
     "shell.execute_reply": "2024-10-17T09:42:57.955309Z"
    },
    "papermill": {
     "duration": 0.104071,
     "end_time": "2024-10-17T09:42:57.958836",
     "exception": false,
     "start_time": "2024-10-17T09:42:57.854765",
     "status": "completed"
    },
    "tags": []
   },
   "outputs": [],
   "source": [
    "age_class = []\n",
    "vulnerable = []\n",
    "for _, row in df_full.iterrows():\n",
    "    age = row['Age']\n",
    "    if age < 12:\n",
    "        if age < 5:\n",
    "            vulnerable.append('Very High')\n",
    "        else:\n",
    "            vulnerable.append('High')\n",
    "        age_class.append('Child')\n",
    "    elif age >12 and age <18:\n",
    "        vulnerable.append('Normal')\n",
    "        age_class.append('Teen')\n",
    "    elif age >18 and age < 30:\n",
    "        vulnerable.append('Low')\n",
    "        age_class.append('Adult')\n",
    "    elif age >30 and age < 60:\n",
    "        if age < 50:\n",
    "            vulnerable.append('Normal')\n",
    "        else:\n",
    "            vulnerable.append('High')\n",
    "        age_class.append('Mid-Age')\n",
    "    else:\n",
    "        age_class.append('Elder')\n",
    "        vulnerable.append('Very High')\n",
    "\n",
    "df_full['AgeClass'] = age_class\n",
    "df_full['Vulnerability'] = vulnerable\n"
   ]
  },
  {
   "cell_type": "markdown",
   "id": "9044bc78",
   "metadata": {
    "papermill": {
     "duration": 0.0157,
     "end_time": "2024-10-17T09:42:57.990030",
     "exception": false,
     "start_time": "2024-10-17T09:42:57.974330",
     "status": "completed"
    },
    "tags": []
   },
   "source": [
    "## Embarked"
   ]
  },
  {
   "cell_type": "code",
   "execution_count": 13,
   "id": "78a291e1",
   "metadata": {
    "execution": {
     "iopub.execute_input": "2024-10-17T09:42:58.022300Z",
     "iopub.status.busy": "2024-10-17T09:42:58.021907Z",
     "iopub.status.idle": "2024-10-17T09:42:58.029056Z",
     "shell.execute_reply": "2024-10-17T09:42:58.028130Z"
    },
    "papermill": {
     "duration": 0.025786,
     "end_time": "2024-10-17T09:42:58.031175",
     "exception": false,
     "start_time": "2024-10-17T09:42:58.005389",
     "status": "completed"
    },
    "tags": []
   },
   "outputs": [
    {
     "data": {
      "text/plain": [
       "2"
      ]
     },
     "execution_count": 13,
     "metadata": {},
     "output_type": "execute_result"
    }
   ],
   "source": [
    "df_full['Embarked'].isna().sum()"
   ]
  },
  {
   "cell_type": "code",
   "execution_count": 14,
   "id": "f660020a",
   "metadata": {
    "execution": {
     "iopub.execute_input": "2024-10-17T09:42:58.065276Z",
     "iopub.status.busy": "2024-10-17T09:42:58.064539Z",
     "iopub.status.idle": "2024-10-17T09:42:58.072872Z",
     "shell.execute_reply": "2024-10-17T09:42:58.071849Z"
    },
    "papermill": {
     "duration": 0.028326,
     "end_time": "2024-10-17T09:42:58.074936",
     "exception": false,
     "start_time": "2024-10-17T09:42:58.046610",
     "status": "completed"
    },
    "tags": []
   },
   "outputs": [
    {
     "data": {
      "text/plain": [
       "0      S\n",
       "1      C\n",
       "2      S\n",
       "3      S\n",
       "4      S\n",
       "      ..\n",
       "413    S\n",
       "414    C\n",
       "415    S\n",
       "416    S\n",
       "417    C\n",
       "Name: Embarked, Length: 1309, dtype: object"
      ]
     },
     "execution_count": 14,
     "metadata": {},
     "output_type": "execute_result"
    }
   ],
   "source": [
    "df_full['Embarked']"
   ]
  },
  {
   "cell_type": "code",
   "execution_count": 15,
   "id": "98358265",
   "metadata": {
    "execution": {
     "iopub.execute_input": "2024-10-17T09:42:58.108699Z",
     "iopub.status.busy": "2024-10-17T09:42:58.107819Z",
     "iopub.status.idle": "2024-10-17T09:42:58.304643Z",
     "shell.execute_reply": "2024-10-17T09:42:58.303356Z"
    },
    "papermill": {
     "duration": 0.216284,
     "end_time": "2024-10-17T09:42:58.306973",
     "exception": false,
     "start_time": "2024-10-17T09:42:58.090689",
     "status": "completed"
    },
    "tags": []
   },
   "outputs": [
    {
     "data": {
      "text/html": [
       "<div>\n",
       "<style scoped>\n",
       "    .dataframe tbody tr th:only-of-type {\n",
       "        vertical-align: middle;\n",
       "    }\n",
       "\n",
       "    .dataframe tbody tr th {\n",
       "        vertical-align: top;\n",
       "    }\n",
       "\n",
       "    .dataframe thead th {\n",
       "        text-align: right;\n",
       "    }\n",
       "</style>\n",
       "<table border=\"1\" class=\"dataframe\">\n",
       "  <thead>\n",
       "    <tr style=\"text-align: right;\">\n",
       "      <th></th>\n",
       "      <th>feature1</th>\n",
       "      <th>feature2</th>\n",
       "      <th>score</th>\n",
       "    </tr>\n",
       "  </thead>\n",
       "  <tbody>\n",
       "    <tr>\n",
       "      <th>0</th>\n",
       "      <td>Embarked</td>\n",
       "      <td>Embarked</td>\n",
       "      <td>1.000000</td>\n",
       "    </tr>\n",
       "    <tr>\n",
       "      <th>14</th>\n",
       "      <td>Embarked</td>\n",
       "      <td>Fare</td>\n",
       "      <td>0.235763</td>\n",
       "    </tr>\n",
       "    <tr>\n",
       "      <th>26</th>\n",
       "      <td>Embarked</td>\n",
       "      <td>Pclass</td>\n",
       "      <td>0.182154</td>\n",
       "    </tr>\n",
       "    <tr>\n",
       "      <th>35</th>\n",
       "      <td>Embarked</td>\n",
       "      <td>Sex</td>\n",
       "      <td>0.095215</td>\n",
       "    </tr>\n",
       "    <tr>\n",
       "      <th>39</th>\n",
       "      <td>Embarked</td>\n",
       "      <td>SibSp</td>\n",
       "      <td>0.064519</td>\n",
       "    </tr>\n",
       "    <tr>\n",
       "      <th>43</th>\n",
       "      <td>Embarked</td>\n",
       "      <td>Age</td>\n",
       "      <td>0.050023</td>\n",
       "    </tr>\n",
       "    <tr>\n",
       "      <th>46</th>\n",
       "      <td>Embarked</td>\n",
       "      <td>Parch</td>\n",
       "      <td>0.043835</td>\n",
       "    </tr>\n",
       "  </tbody>\n",
       "</table>\n",
       "</div>"
      ],
      "text/plain": [
       "    feature1  feature2     score\n",
       "0   Embarked  Embarked  1.000000\n",
       "14  Embarked      Fare  0.235763\n",
       "26  Embarked    Pclass  0.182154\n",
       "35  Embarked       Sex  0.095215\n",
       "39  Embarked     SibSp  0.064519\n",
       "43  Embarked       Age  0.050023\n",
       "46  Embarked     Parch  0.043835"
      ]
     },
     "execution_count": 15,
     "metadata": {},
     "output_type": "execute_result"
    }
   ],
   "source": [
    "from sklearn.preprocessing import LabelEncoder\n",
    "label_encoder = LabelEncoder()\n",
    "df = df_full.copy()\n",
    "df['Embarked'] = label_encoder.fit_transform(df['Embarked'])\n",
    "df['Sex'] = label_encoder.fit_transform(df['Sex'])\n",
    "\n",
    "\n",
    "df_cor=df[['Embarked','Pclass', 'Age','Sex','SibSp','Parch','Fare']].corr().abs().unstack().sort_values(kind=\"quicksort\", ascending=False).reset_index()\n",
    "full_cor=df_cor.rename(columns={'level_0':'feature1','level_1':'feature2',0:'score'})\n",
    "full_cor[full_cor['feature1'] == 'Embarked']"
   ]
  },
  {
   "cell_type": "code",
   "execution_count": 16,
   "id": "e784cd0d",
   "metadata": {
    "execution": {
     "iopub.execute_input": "2024-10-17T09:42:58.340584Z",
     "iopub.status.busy": "2024-10-17T09:42:58.340151Z",
     "iopub.status.idle": "2024-10-17T09:42:58.349644Z",
     "shell.execute_reply": "2024-10-17T09:42:58.348588Z"
    },
    "papermill": {
     "duration": 0.028818,
     "end_time": "2024-10-17T09:42:58.351796",
     "exception": false,
     "start_time": "2024-10-17T09:42:58.322978",
     "status": "completed"
    },
    "tags": []
   },
   "outputs": [
    {
     "data": {
      "text/plain": [
       "61     80.0\n",
       "829    80.0\n",
       "Name: Fare, dtype: float64"
      ]
     },
     "execution_count": 16,
     "metadata": {},
     "output_type": "execute_result"
    }
   ],
   "source": [
    "df_full[df_full['Embarked'].isna()]['Fare']"
   ]
  },
  {
   "cell_type": "code",
   "execution_count": 17,
   "id": "4ef2f499",
   "metadata": {
    "execution": {
     "iopub.execute_input": "2024-10-17T09:42:58.385881Z",
     "iopub.status.busy": "2024-10-17T09:42:58.384885Z",
     "iopub.status.idle": "2024-10-17T09:42:58.392432Z",
     "shell.execute_reply": "2024-10-17T09:42:58.391222Z"
    },
    "papermill": {
     "duration": 0.027131,
     "end_time": "2024-10-17T09:42:58.394789",
     "exception": false,
     "start_time": "2024-10-17T09:42:58.367658",
     "status": "completed"
    },
    "tags": []
   },
   "outputs": [
    {
     "data": {
      "text/plain": [
       "{'C', 'Q', 'S', nan}"
      ]
     },
     "execution_count": 17,
     "metadata": {},
     "output_type": "execute_result"
    }
   ],
   "source": [
    "set(df_full['Embarked'])"
   ]
  },
  {
   "cell_type": "code",
   "execution_count": 18,
   "id": "53260340",
   "metadata": {
    "execution": {
     "iopub.execute_input": "2024-10-17T09:42:58.429834Z",
     "iopub.status.busy": "2024-10-17T09:42:58.428637Z",
     "iopub.status.idle": "2024-10-17T09:42:58.440468Z",
     "shell.execute_reply": "2024-10-17T09:42:58.439230Z"
    },
    "papermill": {
     "duration": 0.032114,
     "end_time": "2024-10-17T09:42:58.443167",
     "exception": false,
     "start_time": "2024-10-17T09:42:58.411053",
     "status": "completed"
    },
    "tags": []
   },
   "outputs": [
    {
     "name": "stdout",
     "output_type": "stream",
     "text": [
      "62.33626740740739\n",
      "12.409012195121951\n",
      "27.418823877327494\n"
     ]
    }
   ],
   "source": [
    "#how much as mean is which embarked to get in:\n",
    "print(df[df_full['Embarked'] == 'C']['Fare'].mean())\n",
    "print(df[df_full['Embarked'] == 'Q']['Fare'].mean())\n",
    "print(df[df_full['Embarked'] == 'S']['Fare'].mean())"
   ]
  },
  {
   "cell_type": "markdown",
   "id": "af1bfd69",
   "metadata": {
    "papermill": {
     "duration": 0.015969,
     "end_time": "2024-10-17T09:42:58.475894",
     "exception": false,
     "start_time": "2024-10-17T09:42:58.459925",
     "status": "completed"
    },
    "tags": []
   },
   "source": [
    "**According to the average value, we can say that fare in the person who is not known where they got in is high as 80 euro. So we can say that they are C.**"
   ]
  },
  {
   "cell_type": "code",
   "execution_count": 19,
   "id": "888cc116",
   "metadata": {
    "execution": {
     "iopub.execute_input": "2024-10-17T09:42:58.510901Z",
     "iopub.status.busy": "2024-10-17T09:42:58.509882Z",
     "iopub.status.idle": "2024-10-17T09:42:58.516031Z",
     "shell.execute_reply": "2024-10-17T09:42:58.514975Z"
    },
    "papermill": {
     "duration": 0.02605,
     "end_time": "2024-10-17T09:42:58.518235",
     "exception": false,
     "start_time": "2024-10-17T09:42:58.492185",
     "status": "completed"
    },
    "tags": []
   },
   "outputs": [],
   "source": [
    "df_full.loc[df_full['Embarked'].isna(),'Embarked'] = 'C'"
   ]
  },
  {
   "cell_type": "code",
   "execution_count": 20,
   "id": "87d0b0bf",
   "metadata": {
    "execution": {
     "iopub.execute_input": "2024-10-17T09:42:58.553816Z",
     "iopub.status.busy": "2024-10-17T09:42:58.552991Z",
     "iopub.status.idle": "2024-10-17T09:42:58.560305Z",
     "shell.execute_reply": "2024-10-17T09:42:58.559368Z"
    },
    "papermill": {
     "duration": 0.027646,
     "end_time": "2024-10-17T09:42:58.562413",
     "exception": false,
     "start_time": "2024-10-17T09:42:58.534767",
     "status": "completed"
    },
    "tags": []
   },
   "outputs": [
    {
     "data": {
      "text/plain": [
       "0"
      ]
     },
     "execution_count": 20,
     "metadata": {},
     "output_type": "execute_result"
    }
   ],
   "source": [
    "df_full['Embarked'].isna().sum()"
   ]
  },
  {
   "cell_type": "markdown",
   "id": "e0342bbc",
   "metadata": {
    "papermill": {
     "duration": 0.015769,
     "end_time": "2024-10-17T09:42:58.594244",
     "exception": false,
     "start_time": "2024-10-17T09:42:58.578475",
     "status": "completed"
    },
    "tags": []
   },
   "source": [
    "## Cabin\n",
    "\n",
    "Ignore it because of lack of data"
   ]
  },
  {
   "cell_type": "code",
   "execution_count": 21,
   "id": "d205202e",
   "metadata": {
    "execution": {
     "iopub.execute_input": "2024-10-17T09:42:58.628471Z",
     "iopub.status.busy": "2024-10-17T09:42:58.627764Z",
     "iopub.status.idle": "2024-10-17T09:42:58.634143Z",
     "shell.execute_reply": "2024-10-17T09:42:58.633153Z"
    },
    "papermill": {
     "duration": 0.025922,
     "end_time": "2024-10-17T09:42:58.636186",
     "exception": false,
     "start_time": "2024-10-17T09:42:58.610264",
     "status": "completed"
    },
    "tags": []
   },
   "outputs": [],
   "source": [
    "df_full= df_full.drop('Cabin',axis = 1)"
   ]
  },
  {
   "cell_type": "code",
   "execution_count": 22,
   "id": "72c6231f",
   "metadata": {
    "execution": {
     "iopub.execute_input": "2024-10-17T09:42:58.671085Z",
     "iopub.status.busy": "2024-10-17T09:42:58.670266Z",
     "iopub.status.idle": "2024-10-17T09:42:58.676813Z",
     "shell.execute_reply": "2024-10-17T09:42:58.675808Z"
    },
    "papermill": {
     "duration": 0.025902,
     "end_time": "2024-10-17T09:42:58.678903",
     "exception": false,
     "start_time": "2024-10-17T09:42:58.653001",
     "status": "completed"
    },
    "tags": []
   },
   "outputs": [
    {
     "data": {
      "text/plain": [
       "(1309, 13)"
      ]
     },
     "execution_count": 22,
     "metadata": {},
     "output_type": "execute_result"
    }
   ],
   "source": [
    "df_full.shape"
   ]
  },
  {
   "cell_type": "markdown",
   "id": "3d3d2c0c",
   "metadata": {
    "papermill": {
     "duration": 0.016081,
     "end_time": "2024-10-17T09:42:58.711613",
     "exception": false,
     "start_time": "2024-10-17T09:42:58.695532",
     "status": "completed"
    },
    "tags": []
   },
   "source": [
    "## Fare"
   ]
  },
  {
   "cell_type": "code",
   "execution_count": 23,
   "id": "31299e52",
   "metadata": {
    "execution": {
     "iopub.execute_input": "2024-10-17T09:42:58.745980Z",
     "iopub.status.busy": "2024-10-17T09:42:58.745304Z",
     "iopub.status.idle": "2024-10-17T09:42:58.764819Z",
     "shell.execute_reply": "2024-10-17T09:42:58.763716Z"
    },
    "papermill": {
     "duration": 0.039243,
     "end_time": "2024-10-17T09:42:58.767169",
     "exception": false,
     "start_time": "2024-10-17T09:42:58.727926",
     "status": "completed"
    },
    "tags": []
   },
   "outputs": [
    {
     "data": {
      "text/html": [
       "<div>\n",
       "<style scoped>\n",
       "    .dataframe tbody tr th:only-of-type {\n",
       "        vertical-align: middle;\n",
       "    }\n",
       "\n",
       "    .dataframe tbody tr th {\n",
       "        vertical-align: top;\n",
       "    }\n",
       "\n",
       "    .dataframe thead th {\n",
       "        text-align: right;\n",
       "    }\n",
       "</style>\n",
       "<table border=\"1\" class=\"dataframe\">\n",
       "  <thead>\n",
       "    <tr style=\"text-align: right;\">\n",
       "      <th></th>\n",
       "      <th>level_0</th>\n",
       "      <th>level_1</th>\n",
       "      <th>0</th>\n",
       "    </tr>\n",
       "  </thead>\n",
       "  <tbody>\n",
       "    <tr>\n",
       "      <th>6</th>\n",
       "      <td>Fare</td>\n",
       "      <td>Fare</td>\n",
       "      <td>1.000000</td>\n",
       "    </tr>\n",
       "    <tr>\n",
       "      <th>7</th>\n",
       "      <td>Fare</td>\n",
       "      <td>Pclass</td>\n",
       "      <td>0.558629</td>\n",
       "    </tr>\n",
       "    <tr>\n",
       "      <th>13</th>\n",
       "      <td>Fare</td>\n",
       "      <td>Embarked</td>\n",
       "      <td>0.235763</td>\n",
       "    </tr>\n",
       "    <tr>\n",
       "      <th>15</th>\n",
       "      <td>Fare</td>\n",
       "      <td>Parch</td>\n",
       "      <td>0.221539</td>\n",
       "    </tr>\n",
       "    <tr>\n",
       "      <th>22</th>\n",
       "      <td>Fare</td>\n",
       "      <td>Age</td>\n",
       "      <td>0.197878</td>\n",
       "    </tr>\n",
       "    <tr>\n",
       "      <th>24</th>\n",
       "      <td>Fare</td>\n",
       "      <td>Sex</td>\n",
       "      <td>0.185523</td>\n",
       "    </tr>\n",
       "    <tr>\n",
       "      <th>28</th>\n",
       "      <td>Fare</td>\n",
       "      <td>SibSp</td>\n",
       "      <td>0.160238</td>\n",
       "    </tr>\n",
       "  </tbody>\n",
       "</table>\n",
       "</div>"
      ],
      "text/plain": [
       "   level_0   level_1         0\n",
       "6     Fare      Fare  1.000000\n",
       "7     Fare    Pclass  0.558629\n",
       "13    Fare  Embarked  0.235763\n",
       "15    Fare     Parch  0.221539\n",
       "22    Fare       Age  0.197878\n",
       "24    Fare       Sex  0.185523\n",
       "28    Fare     SibSp  0.160238"
      ]
     },
     "execution_count": 23,
     "metadata": {},
     "output_type": "execute_result"
    }
   ],
   "source": [
    "#df is already encoded, so i am using it on behalf of df_full. Also it is very good that it is a copy of main data.\n",
    "full_cor = df[['Embarked','Pclass', 'Age','Sex','SibSp','Parch','Fare']].corr().abs().unstack().sort_values(kind=\"quicksort\", ascending=False).reset_index()\n",
    "full_cor[full_cor['level_0'] == 'Fare']"
   ]
  },
  {
   "cell_type": "code",
   "execution_count": 24,
   "id": "7e3c077d",
   "metadata": {
    "execution": {
     "iopub.execute_input": "2024-10-17T09:42:58.802041Z",
     "iopub.status.busy": "2024-10-17T09:42:58.801655Z",
     "iopub.status.idle": "2024-10-17T09:42:58.818598Z",
     "shell.execute_reply": "2024-10-17T09:42:58.817556Z"
    },
    "papermill": {
     "duration": 0.036936,
     "end_time": "2024-10-17T09:42:58.820700",
     "exception": false,
     "start_time": "2024-10-17T09:42:58.783764",
     "status": "completed"
    },
    "tags": []
   },
   "outputs": [
    {
     "data": {
      "text/html": [
       "<div>\n",
       "<style scoped>\n",
       "    .dataframe tbody tr th:only-of-type {\n",
       "        vertical-align: middle;\n",
       "    }\n",
       "\n",
       "    .dataframe tbody tr th {\n",
       "        vertical-align: top;\n",
       "    }\n",
       "\n",
       "    .dataframe thead th {\n",
       "        text-align: right;\n",
       "    }\n",
       "</style>\n",
       "<table border=\"1\" class=\"dataframe\">\n",
       "  <thead>\n",
       "    <tr style=\"text-align: right;\">\n",
       "      <th></th>\n",
       "      <th>level_0</th>\n",
       "      <th>level_1</th>\n",
       "      <th>0</th>\n",
       "    </tr>\n",
       "  </thead>\n",
       "  <tbody>\n",
       "    <tr>\n",
       "      <th>0</th>\n",
       "      <td>Embarked</td>\n",
       "      <td>Embarked</td>\n",
       "      <td>1.000000</td>\n",
       "    </tr>\n",
       "    <tr>\n",
       "      <th>1</th>\n",
       "      <td>Pclass</td>\n",
       "      <td>Pclass</td>\n",
       "      <td>1.000000</td>\n",
       "    </tr>\n",
       "    <tr>\n",
       "      <th>2</th>\n",
       "      <td>Embarked</td>\n",
       "      <td>Pclass</td>\n",
       "      <td>0.182154</td>\n",
       "    </tr>\n",
       "    <tr>\n",
       "      <th>3</th>\n",
       "      <td>Pclass</td>\n",
       "      <td>Embarked</td>\n",
       "      <td>0.182154</td>\n",
       "    </tr>\n",
       "  </tbody>\n",
       "</table>\n",
       "</div>"
      ],
      "text/plain": [
       "    level_0   level_1         0\n",
       "0  Embarked  Embarked  1.000000\n",
       "1    Pclass    Pclass  1.000000\n",
       "2  Embarked    Pclass  0.182154\n",
       "3    Pclass  Embarked  0.182154"
      ]
     },
     "execution_count": 24,
     "metadata": {},
     "output_type": "execute_result"
    }
   ],
   "source": [
    "df_cor=df[['Embarked','Pclass']].corr().abs().unstack().sort_values(kind=\"quicksort\", ascending=False).reset_index()\n",
    "df_cor\n",
    "# since the releation btw embarked and pclass is far away, so i can pick only Pclass up in estimating FARE. "
   ]
  },
  {
   "cell_type": "code",
   "execution_count": 25,
   "id": "acc5291b",
   "metadata": {
    "execution": {
     "iopub.execute_input": "2024-10-17T09:42:58.856422Z",
     "iopub.status.busy": "2024-10-17T09:42:58.855370Z",
     "iopub.status.idle": "2024-10-17T09:42:58.871919Z",
     "shell.execute_reply": "2024-10-17T09:42:58.870905Z"
    },
    "papermill": {
     "duration": 0.036828,
     "end_time": "2024-10-17T09:42:58.874159",
     "exception": false,
     "start_time": "2024-10-17T09:42:58.837331",
     "status": "completed"
    },
    "tags": []
   },
   "outputs": [
    {
     "data": {
      "text/html": [
       "<div>\n",
       "<style scoped>\n",
       "    .dataframe tbody tr th:only-of-type {\n",
       "        vertical-align: middle;\n",
       "    }\n",
       "\n",
       "    .dataframe tbody tr th {\n",
       "        vertical-align: top;\n",
       "    }\n",
       "\n",
       "    .dataframe thead th {\n",
       "        text-align: right;\n",
       "    }\n",
       "</style>\n",
       "<table border=\"1\" class=\"dataframe\">\n",
       "  <thead>\n",
       "    <tr style=\"text-align: right;\">\n",
       "      <th></th>\n",
       "      <th>PassengerId</th>\n",
       "      <th>Survived</th>\n",
       "      <th>Pclass</th>\n",
       "      <th>Name</th>\n",
       "      <th>Sex</th>\n",
       "      <th>Age</th>\n",
       "      <th>SibSp</th>\n",
       "      <th>Parch</th>\n",
       "      <th>Ticket</th>\n",
       "      <th>Fare</th>\n",
       "      <th>Embarked</th>\n",
       "      <th>AgeClass</th>\n",
       "      <th>Vulnerability</th>\n",
       "    </tr>\n",
       "  </thead>\n",
       "  <tbody>\n",
       "    <tr>\n",
       "      <th>152</th>\n",
       "      <td>1044</td>\n",
       "      <td>NaN</td>\n",
       "      <td>3</td>\n",
       "      <td>Storey, Mr. Thomas</td>\n",
       "      <td>male</td>\n",
       "      <td>60.5</td>\n",
       "      <td>0</td>\n",
       "      <td>0</td>\n",
       "      <td>3701</td>\n",
       "      <td>NaN</td>\n",
       "      <td>S</td>\n",
       "      <td>Elder</td>\n",
       "      <td>Very High</td>\n",
       "    </tr>\n",
       "  </tbody>\n",
       "</table>\n",
       "</div>"
      ],
      "text/plain": [
       "     PassengerId  Survived  Pclass                Name   Sex   Age  SibSp  \\\n",
       "152         1044       NaN       3  Storey, Mr. Thomas  male  60.5      0   \n",
       "\n",
       "     Parch Ticket  Fare Embarked AgeClass Vulnerability  \n",
       "152      0   3701   NaN        S    Elder     Very High  "
      ]
     },
     "execution_count": 25,
     "metadata": {},
     "output_type": "execute_result"
    }
   ],
   "source": [
    "df_full[df_full['Fare'].isna()]"
   ]
  },
  {
   "cell_type": "code",
   "execution_count": 26,
   "id": "0128dda4",
   "metadata": {
    "execution": {
     "iopub.execute_input": "2024-10-17T09:42:58.910068Z",
     "iopub.status.busy": "2024-10-17T09:42:58.909672Z",
     "iopub.status.idle": "2024-10-17T09:42:58.918055Z",
     "shell.execute_reply": "2024-10-17T09:42:58.916888Z"
    },
    "papermill": {
     "duration": 0.029096,
     "end_time": "2024-10-17T09:42:58.920538",
     "exception": false,
     "start_time": "2024-10-17T09:42:58.891442",
     "status": "completed"
    },
    "tags": []
   },
   "outputs": [
    {
     "name": "stdout",
     "output_type": "stream",
     "text": [
      "27.418823877327494\n"
     ]
    }
   ],
   "source": [
    "print(df_full[df_full['Embarked'] == 'S']['Fare'].mean())"
   ]
  },
  {
   "cell_type": "code",
   "execution_count": 27,
   "id": "ea24880d",
   "metadata": {
    "execution": {
     "iopub.execute_input": "2024-10-17T09:42:58.958170Z",
     "iopub.status.busy": "2024-10-17T09:42:58.957060Z",
     "iopub.status.idle": "2024-10-17T09:42:58.963266Z",
     "shell.execute_reply": "2024-10-17T09:42:58.962240Z"
    },
    "papermill": {
     "duration": 0.027296,
     "end_time": "2024-10-17T09:42:58.965439",
     "exception": false,
     "start_time": "2024-10-17T09:42:58.938143",
     "status": "completed"
    },
    "tags": []
   },
   "outputs": [],
   "source": [
    "df_full.loc[df_full['Fare'].isna(),'Fare'] = 27.42"
   ]
  },
  {
   "cell_type": "code",
   "execution_count": 28,
   "id": "db30c1e0",
   "metadata": {
    "execution": {
     "iopub.execute_input": "2024-10-17T09:42:59.001982Z",
     "iopub.status.busy": "2024-10-17T09:42:59.000877Z",
     "iopub.status.idle": "2024-10-17T09:42:59.010772Z",
     "shell.execute_reply": "2024-10-17T09:42:59.009790Z"
    },
    "papermill": {
     "duration": 0.030924,
     "end_time": "2024-10-17T09:42:59.013283",
     "exception": false,
     "start_time": "2024-10-17T09:42:58.982359",
     "status": "completed"
    },
    "tags": []
   },
   "outputs": [
    {
     "data": {
      "text/plain": [
       "PassengerId        0\n",
       "Survived         418\n",
       "Pclass             0\n",
       "Name               0\n",
       "Sex                0\n",
       "Age                0\n",
       "SibSp              0\n",
       "Parch              0\n",
       "Ticket             0\n",
       "Fare               0\n",
       "Embarked           0\n",
       "AgeClass           0\n",
       "Vulnerability      0\n",
       "dtype: int64"
      ]
     },
     "execution_count": 28,
     "metadata": {},
     "output_type": "execute_result"
    }
   ],
   "source": [
    "df_full.isna().sum()"
   ]
  },
  {
   "cell_type": "code",
   "execution_count": 29,
   "id": "6d7ade97",
   "metadata": {
    "execution": {
     "iopub.execute_input": "2024-10-17T09:42:59.048927Z",
     "iopub.status.busy": "2024-10-17T09:42:59.048525Z",
     "iopub.status.idle": "2024-10-17T09:42:59.063322Z",
     "shell.execute_reply": "2024-10-17T09:42:59.061821Z"
    },
    "papermill": {
     "duration": 0.035977,
     "end_time": "2024-10-17T09:42:59.066245",
     "exception": false,
     "start_time": "2024-10-17T09:42:59.030268",
     "status": "completed"
    },
    "tags": []
   },
   "outputs": [
    {
     "name": "stdout",
     "output_type": "stream",
     "text": [
      "First Class Max:512.3292, Min:0.0, Ave:77.41\n",
      "Second Class Max:73.5, Min:0.0, Ave:21.95\n",
      "Third Class Max:69.55, Min:0.0, Ave:13.14\n"
     ]
    }
   ],
   "source": [
    "class_fare = df_full.groupby('Pclass')['Fare'].value_counts().reset_index()\n",
    "firstC_fare = class_fare[class_fare['Pclass'] == 1]['Fare']\n",
    "secondC_fare = class_fare[class_fare['Pclass'] == 2]['Fare']\n",
    "thirdC_fare = class_fare[class_fare['Pclass'] == 3]['Fare']\n",
    "\n",
    "print('First Class Max:{0}, Min:{1}, Ave:{2}'.format(max(firstC_fare),min(firstC_fare),round(firstC_fare.mean(),2)))\n",
    "print('Second Class Max:{0}, Min:{1}, Ave:{2}'.format(max(secondC_fare),min(secondC_fare),round(secondC_fare.mean(),2)))\n",
    "print('Third Class Max:{0}, Min:{1}, Ave:{2}'.format(max(thirdC_fare),min(thirdC_fare),round(thirdC_fare.mean(),2)))"
   ]
  },
  {
   "cell_type": "code",
   "execution_count": 30,
   "id": "e8ad8fe0",
   "metadata": {
    "execution": {
     "iopub.execute_input": "2024-10-17T09:42:59.102889Z",
     "iopub.status.busy": "2024-10-17T09:42:59.102115Z",
     "iopub.status.idle": "2024-10-17T09:42:59.115712Z",
     "shell.execute_reply": "2024-10-17T09:42:59.114511Z"
    },
    "papermill": {
     "duration": 0.034236,
     "end_time": "2024-10-17T09:42:59.118006",
     "exception": false,
     "start_time": "2024-10-17T09:42:59.083770",
     "status": "completed"
    },
    "tags": []
   },
   "outputs": [
    {
     "name": "stdout",
     "output_type": "stream",
     "text": [
      "Class1--> Max:512.3292, Min:0.0, Ave:77.41\n",
      "Class2--> Max:73.5, Min:0.0, Ave:21.95\n",
      "Class3--> Max:69.55, Min:0.0, Ave:13.14\n"
     ]
    }
   ],
   "source": [
    "class_fare = df_full.groupby('Pclass')['Fare'].value_counts().reset_index()\n",
    "c_fare = []\n",
    "fare_class = {}\n",
    "for each in range(1,4):\n",
    "    C_fare = class_fare[class_fare['Pclass'] == each]['Fare']\n",
    "    print('Class{0}--> Max:{1}, Min:{2}, Ave:{3}'.format(each,max(C_fare),min(C_fare),round(C_fare.mean(),2)))\n",
    "    fare_class[each] = C_fare\n",
    "    "
   ]
  },
  {
   "cell_type": "code",
   "execution_count": 31,
   "id": "3db9b8ba",
   "metadata": {
    "execution": {
     "iopub.execute_input": "2024-10-17T09:42:59.155047Z",
     "iopub.status.busy": "2024-10-17T09:42:59.154231Z",
     "iopub.status.idle": "2024-10-17T09:43:00.148584Z",
     "shell.execute_reply": "2024-10-17T09:43:00.147505Z"
    },
    "papermill": {
     "duration": 1.016089,
     "end_time": "2024-10-17T09:43:00.151365",
     "exception": false,
     "start_time": "2024-10-17T09:42:59.135276",
     "status": "completed"
    },
    "tags": []
   },
   "outputs": [
    {
     "name": "stderr",
     "output_type": "stream",
     "text": [
      "/opt/conda/lib/python3.10/site-packages/seaborn/_oldcore.py:1119: FutureWarning: use_inf_as_na option is deprecated and will be removed in a future version. Convert inf values to NaN before operating instead.\n",
      "  with pd.option_context('mode.use_inf_as_na', True):\n",
      "/opt/conda/lib/python3.10/site-packages/seaborn/_oldcore.py:1119: FutureWarning: use_inf_as_na option is deprecated and will be removed in a future version. Convert inf values to NaN before operating instead.\n",
      "  with pd.option_context('mode.use_inf_as_na', True):\n",
      "/opt/conda/lib/python3.10/site-packages/seaborn/_oldcore.py:1119: FutureWarning: use_inf_as_na option is deprecated and will be removed in a future version. Convert inf values to NaN before operating instead.\n",
      "  with pd.option_context('mode.use_inf_as_na', True):\n"
     ]
    },
    {
     "data": {
      "image/png": "[encoded data removed]",
      "text/plain": [
       "<Figure size 1800x500 with 3 Axes>"
      ]
     },
     "metadata": {},
     "output_type": "display_data"
    }
   ],
   "source": [
    "import matplotlib.pyplot as plt\n",
    "import seaborn as sns\n",
    "\n",
    "# Create a figure and three subplots in a single row (1x3)\n",
    "fig, axes = plt.subplots(1, 3, figsize=(18, 5))\n",
    "\n",
    "for idx,k in enumerate(fare_class.keys()):\n",
    "    sns.histplot(fare_class[k], bins=10, kde=True, ax=axes[idx])  # Use `idx` to increment through axes\n",
    "    axes[idx].set_title('Distribution of Fare (Class {})'.format(k))  # Dynamic class title\n",
    "    axes[idx].set_xlabel('Fare')\n",
    "    axes[idx].set_ylabel('Frequency')\n",
    "\n",
    "# Adjust layout to avoid overlap\n",
    "plt.tight_layout()\n",
    "\n",
    "# Show the plots\n",
    "plt.show()"
   ]
  },
  {
   "cell_type": "markdown",
   "id": "c909693e",
   "metadata": {
    "papermill": {
     "duration": 0.018016,
     "end_time": "2024-10-17T09:43:00.189759",
     "exception": false,
     "start_time": "2024-10-17T09:43:00.171743",
     "status": "completed"
    },
    "tags": []
   },
   "source": [
    "* Pclass 1 (First Class):\n",
    " * Economy: 0 - 50\n",
    " * Standard: 50 - 150\n",
    " * Luxury: 150 - 300\n",
    " * Premium: 300 - 550+\n",
    "*  Pclass 2 (Second Class):\n",
    " * Basic: 0 - 10\n",
    " * Comfort: 10 - 30\n",
    " * Select: 30 - 50+\n",
    "* Pclass 3 (Third Class):\n",
    " * Budget: 0 - 10\n",
    " * Regular: 10 - 30\n",
    " * Plus: 30 - 50+"
   ]
  },
  {
   "cell_type": "code",
   "execution_count": 32,
   "id": "a93c2003",
   "metadata": {
    "execution": {
     "iopub.execute_input": "2024-10-17T09:43:00.228426Z",
     "iopub.status.busy": "2024-10-17T09:43:00.227715Z",
     "iopub.status.idle": "2024-10-17T09:43:00.249009Z",
     "shell.execute_reply": "2024-10-17T09:43:00.247982Z"
    },
    "papermill": {
     "duration": 0.043458,
     "end_time": "2024-10-17T09:43:00.251376",
     "exception": false,
     "start_time": "2024-10-17T09:43:00.207918",
     "status": "completed"
    },
    "tags": []
   },
   "outputs": [],
   "source": [
    "df_full['Fare_Class'] = ''\n",
    "\n",
    "# For Pclass 1\n",
    "df_full.loc[(df_full['Pclass'] == 1) & (df_full['Fare'] <= 50), 'Fare_Class'] = 'Economy'\n",
    "df_full.loc[(df_full['Pclass'] == 1) & (df_full['Fare'] > 50) & (df_full['Fare'] <= 150), 'Fare_Class'] = 'Standard'\n",
    "df_full.loc[(df_full['Pclass'] == 1) & (df_full['Fare'] > 150) & (df_full['Fare'] <= 300), 'Fare_Class'] = 'Luxury'\n",
    "df_full.loc[(df_full['Pclass'] == 1) & (df_full['Fare'] > 300), 'Fare_Class'] = 'Premium'\n",
    "\n",
    "# For Pclass 2\n",
    "df_full.loc[(df_full['Pclass'] == 2) & (df_full['Fare'] <= 10), 'Fare_Class'] = 'Basic'\n",
    "df_full.loc[(df_full['Pclass'] == 2) & (df_full['Fare'] > 10) & (df_full['Fare'] <= 30), 'Fare_Class'] = 'Comfort'\n",
    "df_full.loc[(df_full['Pclass'] == 2) & (df_full['Fare'] > 30), 'Fare_Class'] = 'Select'\n",
    "\n",
    "# For Pclass 3\n",
    "df_full.loc[(df_full['Pclass'] == 3) & (df_full['Fare'] <= 10), 'Fare_Class'] = 'Budget'\n",
    "df_full.loc[(df_full['Pclass'] == 3) & (df_full['Fare'] > 10) & (df_full['Fare'] <= 30), 'Fare_Class'] = 'Regular'\n",
    "df_full.loc[(df_full['Pclass'] == 3) & (df_full['Fare'] > 30), 'Fare_Class'] = 'Plus'\n"
   ]
  },
  {
   "cell_type": "code",
   "execution_count": 33,
   "id": "7dfd9969",
   "metadata": {
    "execution": {
     "iopub.execute_input": "2024-10-17T09:43:00.289542Z",
     "iopub.status.busy": "2024-10-17T09:43:00.289096Z",
     "iopub.status.idle": "2024-10-17T09:43:00.307416Z",
     "shell.execute_reply": "2024-10-17T09:43:00.306367Z"
    },
    "papermill": {
     "duration": 0.039922,
     "end_time": "2024-10-17T09:43:00.309649",
     "exception": false,
     "start_time": "2024-10-17T09:43:00.269727",
     "status": "completed"
    },
    "tags": []
   },
   "outputs": [
    {
     "data": {
      "text/html": [
       "<div>\n",
       "<style scoped>\n",
       "    .dataframe tbody tr th:only-of-type {\n",
       "        vertical-align: middle;\n",
       "    }\n",
       "\n",
       "    .dataframe tbody tr th {\n",
       "        vertical-align: top;\n",
       "    }\n",
       "\n",
       "    .dataframe thead th {\n",
       "        text-align: right;\n",
       "    }\n",
       "</style>\n",
       "<table border=\"1\" class=\"dataframe\">\n",
       "  <thead>\n",
       "    <tr style=\"text-align: right;\">\n",
       "      <th></th>\n",
       "      <th>PassengerId</th>\n",
       "      <th>Survived</th>\n",
       "      <th>Pclass</th>\n",
       "      <th>Name</th>\n",
       "      <th>Sex</th>\n",
       "      <th>Age</th>\n",
       "      <th>SibSp</th>\n",
       "      <th>Parch</th>\n",
       "      <th>Ticket</th>\n",
       "      <th>Fare</th>\n",
       "      <th>Embarked</th>\n",
       "      <th>AgeClass</th>\n",
       "      <th>Vulnerability</th>\n",
       "      <th>Fare_Class</th>\n",
       "    </tr>\n",
       "  </thead>\n",
       "  <tbody>\n",
       "    <tr>\n",
       "      <th>0</th>\n",
       "      <td>1</td>\n",
       "      <td>0.0</td>\n",
       "      <td>3</td>\n",
       "      <td>Braund, Mr. Owen Harris</td>\n",
       "      <td>male</td>\n",
       "      <td>22.0</td>\n",
       "      <td>1</td>\n",
       "      <td>0</td>\n",
       "      <td>A/5 21171</td>\n",
       "      <td>7.2500</td>\n",
       "      <td>S</td>\n",
       "      <td>Adult</td>\n",
       "      <td>Low</td>\n",
       "      <td>Budget</td>\n",
       "    </tr>\n",
       "    <tr>\n",
       "      <th>1</th>\n",
       "      <td>2</td>\n",
       "      <td>1.0</td>\n",
       "      <td>1</td>\n",
       "      <td>Cumings, Mrs. John Bradley (Florence Briggs Th...</td>\n",
       "      <td>female</td>\n",
       "      <td>38.0</td>\n",
       "      <td>1</td>\n",
       "      <td>0</td>\n",
       "      <td>PC 17599</td>\n",
       "      <td>71.2833</td>\n",
       "      <td>C</td>\n",
       "      <td>Mid-Age</td>\n",
       "      <td>Normal</td>\n",
       "      <td>Standard</td>\n",
       "    </tr>\n",
       "    <tr>\n",
       "      <th>2</th>\n",
       "      <td>3</td>\n",
       "      <td>1.0</td>\n",
       "      <td>3</td>\n",
       "      <td>Heikkinen, Miss. Laina</td>\n",
       "      <td>female</td>\n",
       "      <td>26.0</td>\n",
       "      <td>0</td>\n",
       "      <td>0</td>\n",
       "      <td>STON/O2. 3101282</td>\n",
       "      <td>7.9250</td>\n",
       "      <td>S</td>\n",
       "      <td>Adult</td>\n",
       "      <td>Low</td>\n",
       "      <td>Budget</td>\n",
       "    </tr>\n",
       "    <tr>\n",
       "      <th>3</th>\n",
       "      <td>4</td>\n",
       "      <td>1.0</td>\n",
       "      <td>1</td>\n",
       "      <td>Futrelle, Mrs. Jacques Heath (Lily May Peel)</td>\n",
       "      <td>female</td>\n",
       "      <td>35.0</td>\n",
       "      <td>1</td>\n",
       "      <td>0</td>\n",
       "      <td>113803</td>\n",
       "      <td>53.1000</td>\n",
       "      <td>S</td>\n",
       "      <td>Mid-Age</td>\n",
       "      <td>Normal</td>\n",
       "      <td>Standard</td>\n",
       "    </tr>\n",
       "    <tr>\n",
       "      <th>4</th>\n",
       "      <td>5</td>\n",
       "      <td>0.0</td>\n",
       "      <td>3</td>\n",
       "      <td>Allen, Mr. William Henry</td>\n",
       "      <td>male</td>\n",
       "      <td>35.0</td>\n",
       "      <td>0</td>\n",
       "      <td>0</td>\n",
       "      <td>373450</td>\n",
       "      <td>8.0500</td>\n",
       "      <td>S</td>\n",
       "      <td>Mid-Age</td>\n",
       "      <td>Normal</td>\n",
       "      <td>Budget</td>\n",
       "    </tr>\n",
       "  </tbody>\n",
       "</table>\n",
       "</div>"
      ],
      "text/plain": [
       "   PassengerId  Survived  Pclass  \\\n",
       "0            1       0.0       3   \n",
       "1            2       1.0       1   \n",
       "2            3       1.0       3   \n",
       "3            4       1.0       1   \n",
       "4            5       0.0       3   \n",
       "\n",
       "                                                Name     Sex   Age  SibSp  \\\n",
       "0                            Braund, Mr. Owen Harris    male  22.0      1   \n",
       "1  Cumings, Mrs. John Bradley (Florence Briggs Th...  female  38.0      1   \n",
       "2                             Heikkinen, Miss. Laina  female  26.0      0   \n",
       "3       Futrelle, Mrs. Jacques Heath (Lily May Peel)  female  35.0      1   \n",
       "4                           Allen, Mr. William Henry    male  35.0      0   \n",
       "\n",
       "   Parch            Ticket     Fare Embarked AgeClass Vulnerability Fare_Class  \n",
       "0      0         A/5 21171   7.2500        S    Adult           Low     Budget  \n",
       "1      0          PC 17599  71.2833        C  Mid-Age        Normal   Standard  \n",
       "2      0  STON/O2. 3101282   7.9250        S    Adult           Low     Budget  \n",
       "3      0            113803  53.1000        S  Mid-Age        Normal   Standard  \n",
       "4      0            373450   8.0500        S  Mid-Age        Normal     Budget  "
      ]
     },
     "execution_count": 33,
     "metadata": {},
     "output_type": "execute_result"
    }
   ],
   "source": [
    "df_full.head()"
   ]
  },
  {
   "cell_type": "markdown",
   "id": "c848c6a1",
   "metadata": {
    "papermill": {
     "duration": 0.018123,
     "end_time": "2024-10-17T09:43:00.346442",
     "exception": false,
     "start_time": "2024-10-17T09:43:00.328319",
     "status": "completed"
    },
    "tags": []
   },
   "source": [
    "## Family"
   ]
  },
  {
   "cell_type": "code",
   "execution_count": 34,
   "id": "a8553005",
   "metadata": {
    "execution": {
     "iopub.execute_input": "2024-10-17T09:43:00.385375Z",
     "iopub.status.busy": "2024-10-17T09:43:00.384969Z",
     "iopub.status.idle": "2024-10-17T09:43:00.391780Z",
     "shell.execute_reply": "2024-10-17T09:43:00.390734Z"
    },
    "papermill": {
     "duration": 0.02869,
     "end_time": "2024-10-17T09:43:00.393965",
     "exception": false,
     "start_time": "2024-10-17T09:43:00.365275",
     "status": "completed"
    },
    "tags": []
   },
   "outputs": [
    {
     "data": {
      "text/plain": [
       "(1309, 14)"
      ]
     },
     "execution_count": 34,
     "metadata": {},
     "output_type": "execute_result"
    }
   ],
   "source": [
    "df_full.shape"
   ]
  },
  {
   "cell_type": "code",
   "execution_count": 35,
   "id": "0e0206eb",
   "metadata": {
    "execution": {
     "iopub.execute_input": "2024-10-17T09:43:00.434416Z",
     "iopub.status.busy": "2024-10-17T09:43:00.433444Z",
     "iopub.status.idle": "2024-10-17T09:43:00.526650Z",
     "shell.execute_reply": "2024-10-17T09:43:00.525626Z"
    },
    "papermill": {
     "duration": 0.116425,
     "end_time": "2024-10-17T09:43:00.529368",
     "exception": false,
     "start_time": "2024-10-17T09:43:00.412943",
     "status": "completed"
    },
    "tags": []
   },
   "outputs": [],
   "source": [
    "fam_type = []\n",
    "\n",
    "for _, row in df_full.iterrows():\n",
    "    age = row['Age']\n",
    "    sib = row['SibSp']\n",
    "    par = row['Parch']\n",
    "    \n",
    "    if age < 18 and par > 0:\n",
    "        fam_type.append('Child') \n",
    "    elif age >= 18 and par > 0 and sib == 0:\n",
    "        # Adult with parent(s), no sibling or spouse\n",
    "        fam_type.append('With Parent') \n",
    "    elif age >= 18 and par > 0 and sib > 0:\n",
    "        # Adult with child(ren) or spouse\n",
    "        fam_type.append('Parent')\n",
    "    else:\n",
    "        fam_type.append('with Sibling or Wife')\n",
    "#family category    \n",
    "df_full['FamType'] = fam_type"
   ]
  },
  {
   "cell_type": "code",
   "execution_count": 36,
   "id": "4cac7fb4",
   "metadata": {
    "execution": {
     "iopub.execute_input": "2024-10-17T09:43:00.568941Z",
     "iopub.status.busy": "2024-10-17T09:43:00.568540Z",
     "iopub.status.idle": "2024-10-17T09:43:00.656287Z",
     "shell.execute_reply": "2024-10-17T09:43:00.655319Z"
    },
    "papermill": {
     "duration": 0.110513,
     "end_time": "2024-10-17T09:43:00.658766",
     "exception": false,
     "start_time": "2024-10-17T09:43:00.548253",
     "status": "completed"
    },
    "tags": []
   },
   "outputs": [],
   "source": [
    "fam_size = []\n",
    "\n",
    "for _, row in df_full.iterrows():\n",
    "    sib = row['SibSp']\n",
    "    par = row['Parch']\n",
    "    num = sib + par\n",
    "    if num == 0:\n",
    "        fam_size.append('Alone')\n",
    "    elif num > 0 and num < 4:\n",
    "        fam_size.append('Small')\n",
    "    else:\n",
    "        fam_size.append('Big')\n",
    "\n",
    "df_full['FamSize'] = fam_size"
   ]
  },
  {
   "cell_type": "markdown",
   "id": "1115ff74",
   "metadata": {
    "papermill": {
     "duration": 0.01833,
     "end_time": "2024-10-17T09:43:00.696006",
     "exception": false,
     "start_time": "2024-10-17T09:43:00.677676",
     "status": "completed"
    },
    "tags": []
   },
   "source": [
    "## Prefix"
   ]
  },
  {
   "cell_type": "code",
   "execution_count": 37,
   "id": "07a6f6e0",
   "metadata": {
    "execution": {
     "iopub.execute_input": "2024-10-17T09:43:00.735602Z",
     "iopub.status.busy": "2024-10-17T09:43:00.734696Z",
     "iopub.status.idle": "2024-10-17T09:43:00.751057Z",
     "shell.execute_reply": "2024-10-17T09:43:00.749852Z"
    },
    "papermill": {
     "duration": 0.039351,
     "end_time": "2024-10-17T09:43:00.753898",
     "exception": false,
     "start_time": "2024-10-17T09:43:00.714547",
     "status": "completed"
    },
    "tags": []
   },
   "outputs": [],
   "source": [
    "mylist = []\n",
    "for each in df_full['Name']:\n",
    "    parts_after_comma = each.split(',')\n",
    "    before_dot = parts_after_comma[1].split('.')[0].strip()\n",
    "    mylist.append(before_dot)\n",
    "        \n",
    "df_full['Prefix'] = mylist\n",
    "\n",
    "df_full['Prefix'] = df_full['Prefix'].replace(['Lady', 'Capt', 'Col','Don', 'Dr', 'Major', 'Rev', 'Jonkheer', 'Dona'], 'Rare')\n",
    "df_full['Prefix'] = df_full['Prefix'].replace(['Countess', 'Lady', 'Sir'], 'Royal')\n",
    "df_full['Prefix'] = df_full['Prefix'].replace('Mlle', 'Miss')\n",
    "df_full['Prefix'] = df_full['Prefix'].replace('Ms', 'Miss')\n",
    "df_full['Prefix'] = df_full['Prefix'].replace('Mme', 'Mrs')"
   ]
  },
  {
   "cell_type": "markdown",
   "id": "a6866c9d",
   "metadata": {
    "papermill": {
     "duration": 0.018493,
     "end_time": "2024-10-17T09:43:00.791935",
     "exception": false,
     "start_time": "2024-10-17T09:43:00.773442",
     "status": "completed"
    },
    "tags": []
   },
   "source": [
    "# How the data looks like:"
   ]
  },
  {
   "cell_type": "code",
   "execution_count": 38,
   "id": "e7d65ce1",
   "metadata": {
    "execution": {
     "iopub.execute_input": "2024-10-17T09:43:00.831348Z",
     "iopub.status.busy": "2024-10-17T09:43:00.830921Z",
     "iopub.status.idle": "2024-10-17T09:43:00.849597Z",
     "shell.execute_reply": "2024-10-17T09:43:00.848525Z"
    },
    "papermill": {
     "duration": 0.04097,
     "end_time": "2024-10-17T09:43:00.851805",
     "exception": false,
     "start_time": "2024-10-17T09:43:00.810835",
     "status": "completed"
    },
    "tags": []
   },
   "outputs": [
    {
     "data": {
      "text/html": [
       "<div>\n",
       "<style scoped>\n",
       "    .dataframe tbody tr th:only-of-type {\n",
       "        vertical-align: middle;\n",
       "    }\n",
       "\n",
       "    .dataframe tbody tr th {\n",
       "        vertical-align: top;\n",
       "    }\n",
       "\n",
       "    .dataframe thead th {\n",
       "        text-align: right;\n",
       "    }\n",
       "</style>\n",
       "<table border=\"1\" class=\"dataframe\">\n",
       "  <thead>\n",
       "    <tr style=\"text-align: right;\">\n",
       "      <th></th>\n",
       "      <th>PassengerId</th>\n",
       "      <th>Survived</th>\n",
       "      <th>Pclass</th>\n",
       "      <th>Name</th>\n",
       "      <th>Sex</th>\n",
       "      <th>Age</th>\n",
       "      <th>SibSp</th>\n",
       "      <th>Parch</th>\n",
       "      <th>Ticket</th>\n",
       "      <th>Fare</th>\n",
       "      <th>Embarked</th>\n",
       "      <th>AgeClass</th>\n",
       "      <th>Vulnerability</th>\n",
       "      <th>Fare_Class</th>\n",
       "      <th>FamType</th>\n",
       "      <th>FamSize</th>\n",
       "      <th>Prefix</th>\n",
       "    </tr>\n",
       "  </thead>\n",
       "  <tbody>\n",
       "    <tr>\n",
       "      <th>0</th>\n",
       "      <td>1</td>\n",
       "      <td>0.0</td>\n",
       "      <td>3</td>\n",
       "      <td>Braund, Mr. Owen Harris</td>\n",
       "      <td>male</td>\n",
       "      <td>22.0</td>\n",
       "      <td>1</td>\n",
       "      <td>0</td>\n",
       "      <td>A/5 21171</td>\n",
       "      <td>7.2500</td>\n",
       "      <td>S</td>\n",
       "      <td>Adult</td>\n",
       "      <td>Low</td>\n",
       "      <td>Budget</td>\n",
       "      <td>with Sibling or Wife</td>\n",
       "      <td>Small</td>\n",
       "      <td>Mr</td>\n",
       "    </tr>\n",
       "    <tr>\n",
       "      <th>1</th>\n",
       "      <td>2</td>\n",
       "      <td>1.0</td>\n",
       "      <td>1</td>\n",
       "      <td>Cumings, Mrs. John Bradley (Florence Briggs Th...</td>\n",
       "      <td>female</td>\n",
       "      <td>38.0</td>\n",
       "      <td>1</td>\n",
       "      <td>0</td>\n",
       "      <td>PC 17599</td>\n",
       "      <td>71.2833</td>\n",
       "      <td>C</td>\n",
       "      <td>Mid-Age</td>\n",
       "      <td>Normal</td>\n",
       "      <td>Standard</td>\n",
       "      <td>with Sibling or Wife</td>\n",
       "      <td>Small</td>\n",
       "      <td>Mrs</td>\n",
       "    </tr>\n",
       "    <tr>\n",
       "      <th>2</th>\n",
       "      <td>3</td>\n",
       "      <td>1.0</td>\n",
       "      <td>3</td>\n",
       "      <td>Heikkinen, Miss. Laina</td>\n",
       "      <td>female</td>\n",
       "      <td>26.0</td>\n",
       "      <td>0</td>\n",
       "      <td>0</td>\n",
       "      <td>STON/O2. 3101282</td>\n",
       "      <td>7.9250</td>\n",
       "      <td>S</td>\n",
       "      <td>Adult</td>\n",
       "      <td>Low</td>\n",
       "      <td>Budget</td>\n",
       "      <td>with Sibling or Wife</td>\n",
       "      <td>Alone</td>\n",
       "      <td>Miss</td>\n",
       "    </tr>\n",
       "  </tbody>\n",
       "</table>\n",
       "</div>"
      ],
      "text/plain": [
       "   PassengerId  Survived  Pclass  \\\n",
       "0            1       0.0       3   \n",
       "1            2       1.0       1   \n",
       "2            3       1.0       3   \n",
       "\n",
       "                                                Name     Sex   Age  SibSp  \\\n",
       "0                            Braund, Mr. Owen Harris    male  22.0      1   \n",
       "1  Cumings, Mrs. John Bradley (Florence Briggs Th...  female  38.0      1   \n",
       "2                             Heikkinen, Miss. Laina  female  26.0      0   \n",
       "\n",
       "   Parch            Ticket     Fare Embarked AgeClass Vulnerability  \\\n",
       "0      0         A/5 21171   7.2500        S    Adult           Low   \n",
       "1      0          PC 17599  71.2833        C  Mid-Age        Normal   \n",
       "2      0  STON/O2. 3101282   7.9250        S    Adult           Low   \n",
       "\n",
       "  Fare_Class               FamType FamSize Prefix  \n",
       "0     Budget  with Sibling or Wife   Small     Mr  \n",
       "1   Standard  with Sibling or Wife   Small    Mrs  \n",
       "2     Budget  with Sibling or Wife   Alone   Miss  "
      ]
     },
     "execution_count": 38,
     "metadata": {},
     "output_type": "execute_result"
    }
   ],
   "source": [
    "df_full.head(3)"
   ]
  },
  {
   "cell_type": "markdown",
   "id": "9a212205",
   "metadata": {
    "papermill": {
     "duration": 0.018563,
     "end_time": "2024-10-17T09:43:00.889218",
     "exception": false,
     "start_time": "2024-10-17T09:43:00.870655",
     "status": "completed"
    },
    "tags": []
   },
   "source": [
    "# Data Split and Encoding"
   ]
  },
  {
   "cell_type": "code",
   "execution_count": 39,
   "id": "5e41c911",
   "metadata": {
    "execution": {
     "iopub.execute_input": "2024-10-17T09:43:00.929036Z",
     "iopub.status.busy": "2024-10-17T09:43:00.928322Z",
     "iopub.status.idle": "2024-10-17T09:43:00.940974Z",
     "shell.execute_reply": "2024-10-17T09:43:00.939804Z"
    },
    "papermill": {
     "duration": 0.035248,
     "end_time": "2024-10-17T09:43:00.943361",
     "exception": false,
     "start_time": "2024-10-17T09:43:00.908113",
     "status": "completed"
    },
    "tags": []
   },
   "outputs": [],
   "source": [
    "from sklearn.preprocessing import LabelEncoder\n",
    "label_encoder = LabelEncoder()\n",
    "\n",
    "df_full['Sex'] = label_encoder.fit_transform(df_full['Sex'])\n",
    "df_full['Embarked'] = label_encoder.fit_transform(df_full['Embarked'])\n",
    "df_full['FamType'] = label_encoder.fit_transform(df_full['FamType'])\n",
    "df_full['FamSize'] = label_encoder.fit_transform(df_full['FamSize'])\n",
    "df_full['Prefix'] = label_encoder.fit_transform(df_full['Prefix'])\n",
    "df_full['AgeClass'] = label_encoder.fit_transform(df_full['AgeClass'])\n",
    "df_full['Vulnerability'] = label_encoder.fit_transform(df_full['Vulnerability'])\n",
    "df_full['Fare_Class'] = label_encoder.fit_transform(df_full['Fare_Class'])"
   ]
  },
  {
   "cell_type": "code",
   "execution_count": 40,
   "id": "9d8ee6a1",
   "metadata": {
    "execution": {
     "iopub.execute_input": "2024-10-17T09:43:00.983239Z",
     "iopub.status.busy": "2024-10-17T09:43:00.982825Z",
     "iopub.status.idle": "2024-10-17T09:43:01.000814Z",
     "shell.execute_reply": "2024-10-17T09:43:00.999754Z"
    },
    "papermill": {
     "duration": 0.04078,
     "end_time": "2024-10-17T09:43:01.003040",
     "exception": false,
     "start_time": "2024-10-17T09:43:00.962260",
     "status": "completed"
    },
    "tags": []
   },
   "outputs": [
    {
     "data": {
      "text/html": [
       "<div>\n",
       "<style scoped>\n",
       "    .dataframe tbody tr th:only-of-type {\n",
       "        vertical-align: middle;\n",
       "    }\n",
       "\n",
       "    .dataframe tbody tr th {\n",
       "        vertical-align: top;\n",
       "    }\n",
       "\n",
       "    .dataframe thead th {\n",
       "        text-align: right;\n",
       "    }\n",
       "</style>\n",
       "<table border=\"1\" class=\"dataframe\">\n",
       "  <thead>\n",
       "    <tr style=\"text-align: right;\">\n",
       "      <th></th>\n",
       "      <th>PassengerId</th>\n",
       "      <th>Survived</th>\n",
       "      <th>Pclass</th>\n",
       "      <th>Name</th>\n",
       "      <th>Sex</th>\n",
       "      <th>Age</th>\n",
       "      <th>SibSp</th>\n",
       "      <th>Parch</th>\n",
       "      <th>Ticket</th>\n",
       "      <th>Fare</th>\n",
       "      <th>Embarked</th>\n",
       "      <th>AgeClass</th>\n",
       "      <th>Vulnerability</th>\n",
       "      <th>Fare_Class</th>\n",
       "      <th>FamType</th>\n",
       "      <th>FamSize</th>\n",
       "      <th>Prefix</th>\n",
       "    </tr>\n",
       "  </thead>\n",
       "  <tbody>\n",
       "    <tr>\n",
       "      <th>0</th>\n",
       "      <td>1</td>\n",
       "      <td>0.0</td>\n",
       "      <td>3</td>\n",
       "      <td>Braund, Mr. Owen Harris</td>\n",
       "      <td>1</td>\n",
       "      <td>22.0</td>\n",
       "      <td>1</td>\n",
       "      <td>0</td>\n",
       "      <td>A/5 21171</td>\n",
       "      <td>7.2500</td>\n",
       "      <td>2</td>\n",
       "      <td>0</td>\n",
       "      <td>1</td>\n",
       "      <td>1</td>\n",
       "      <td>3</td>\n",
       "      <td>2</td>\n",
       "      <td>2</td>\n",
       "    </tr>\n",
       "    <tr>\n",
       "      <th>1</th>\n",
       "      <td>2</td>\n",
       "      <td>1.0</td>\n",
       "      <td>1</td>\n",
       "      <td>Cumings, Mrs. John Bradley (Florence Briggs Th...</td>\n",
       "      <td>0</td>\n",
       "      <td>38.0</td>\n",
       "      <td>1</td>\n",
       "      <td>0</td>\n",
       "      <td>PC 17599</td>\n",
       "      <td>71.2833</td>\n",
       "      <td>0</td>\n",
       "      <td>3</td>\n",
       "      <td>2</td>\n",
       "      <td>9</td>\n",
       "      <td>3</td>\n",
       "      <td>2</td>\n",
       "      <td>3</td>\n",
       "    </tr>\n",
       "    <tr>\n",
       "      <th>2</th>\n",
       "      <td>3</td>\n",
       "      <td>1.0</td>\n",
       "      <td>3</td>\n",
       "      <td>Heikkinen, Miss. Laina</td>\n",
       "      <td>0</td>\n",
       "      <td>26.0</td>\n",
       "      <td>0</td>\n",
       "      <td>0</td>\n",
       "      <td>STON/O2. 3101282</td>\n",
       "      <td>7.9250</td>\n",
       "      <td>2</td>\n",
       "      <td>0</td>\n",
       "      <td>1</td>\n",
       "      <td>1</td>\n",
       "      <td>3</td>\n",
       "      <td>0</td>\n",
       "      <td>1</td>\n",
       "    </tr>\n",
       "  </tbody>\n",
       "</table>\n",
       "</div>"
      ],
      "text/plain": [
       "   PassengerId  Survived  Pclass  \\\n",
       "0            1       0.0       3   \n",
       "1            2       1.0       1   \n",
       "2            3       1.0       3   \n",
       "\n",
       "                                                Name  Sex   Age  SibSp  Parch  \\\n",
       "0                            Braund, Mr. Owen Harris    1  22.0      1      0   \n",
       "1  Cumings, Mrs. John Bradley (Florence Briggs Th...    0  38.0      1      0   \n",
       "2                             Heikkinen, Miss. Laina    0  26.0      0      0   \n",
       "\n",
       "             Ticket     Fare  Embarked  AgeClass  Vulnerability  Fare_Class  \\\n",
       "0         A/5 21171   7.2500         2         0              1           1   \n",
       "1          PC 17599  71.2833         0         3              2           9   \n",
       "2  STON/O2. 3101282   7.9250         2         0              1           1   \n",
       "\n",
       "   FamType  FamSize  Prefix  \n",
       "0        3        2       2  \n",
       "1        3        2       3  \n",
       "2        3        0       1  "
      ]
     },
     "execution_count": 40,
     "metadata": {},
     "output_type": "execute_result"
    }
   ],
   "source": [
    "df_full.head(3)"
   ]
  },
  {
   "cell_type": "code",
   "execution_count": 41,
   "id": "501db057",
   "metadata": {
    "execution": {
     "iopub.execute_input": "2024-10-17T09:43:01.049752Z",
     "iopub.status.busy": "2024-10-17T09:43:01.048755Z",
     "iopub.status.idle": "2024-10-17T09:43:01.057843Z",
     "shell.execute_reply": "2024-10-17T09:43:01.056718Z"
    },
    "papermill": {
     "duration": 0.037856,
     "end_time": "2024-10-17T09:43:01.060908",
     "exception": false,
     "start_time": "2024-10-17T09:43:01.023052",
     "status": "completed"
    },
    "tags": []
   },
   "outputs": [],
   "source": [
    "drop_feature = ['PassengerId','Name','Ticket']\n",
    "df_full= df_full.drop(drop_feature,axis = 1)"
   ]
  },
  {
   "cell_type": "code",
   "execution_count": 42,
   "id": "bbf08282",
   "metadata": {
    "execution": {
     "iopub.execute_input": "2024-10-17T09:43:01.109954Z",
     "iopub.status.busy": "2024-10-17T09:43:01.109056Z",
     "iopub.status.idle": "2024-10-17T09:43:01.115943Z",
     "shell.execute_reply": "2024-10-17T09:43:01.114822Z"
    },
    "papermill": {
     "duration": 0.030703,
     "end_time": "2024-10-17T09:43:01.118119",
     "exception": false,
     "start_time": "2024-10-17T09:43:01.087416",
     "status": "completed"
    },
    "tags": []
   },
   "outputs": [],
   "source": [
    "drop_feature = ['Age']\n",
    "df_full= df_full.drop(drop_feature,axis = 1)"
   ]
  },
  {
   "cell_type": "code",
   "execution_count": 43,
   "id": "76f0d143",
   "metadata": {
    "execution": {
     "iopub.execute_input": "2024-10-17T09:43:01.163586Z",
     "iopub.status.busy": "2024-10-17T09:43:01.163072Z",
     "iopub.status.idle": "2024-10-17T09:43:01.180463Z",
     "shell.execute_reply": "2024-10-17T09:43:01.178344Z"
    },
    "papermill": {
     "duration": 0.045755,
     "end_time": "2024-10-17T09:43:01.183754",
     "exception": false,
     "start_time": "2024-10-17T09:43:01.137999",
     "status": "completed"
    },
    "tags": []
   },
   "outputs": [
    {
     "data": {
      "text/html": [
       "<div>\n",
       "<style scoped>\n",
       "    .dataframe tbody tr th:only-of-type {\n",
       "        vertical-align: middle;\n",
       "    }\n",
       "\n",
       "    .dataframe tbody tr th {\n",
       "        vertical-align: top;\n",
       "    }\n",
       "\n",
       "    .dataframe thead th {\n",
       "        text-align: right;\n",
       "    }\n",
       "</style>\n",
       "<table border=\"1\" class=\"dataframe\">\n",
       "  <thead>\n",
       "    <tr style=\"text-align: right;\">\n",
       "      <th></th>\n",
       "      <th>Survived</th>\n",
       "      <th>Pclass</th>\n",
       "      <th>Sex</th>\n",
       "      <th>SibSp</th>\n",
       "      <th>Parch</th>\n",
       "      <th>Fare</th>\n",
       "      <th>Embarked</th>\n",
       "      <th>AgeClass</th>\n",
       "      <th>Vulnerability</th>\n",
       "      <th>Fare_Class</th>\n",
       "      <th>FamType</th>\n",
       "      <th>FamSize</th>\n",
       "      <th>Prefix</th>\n",
       "    </tr>\n",
       "  </thead>\n",
       "  <tbody>\n",
       "    <tr>\n",
       "      <th>0</th>\n",
       "      <td>0.0</td>\n",
       "      <td>3</td>\n",
       "      <td>1</td>\n",
       "      <td>1</td>\n",
       "      <td>0</td>\n",
       "      <td>7.2500</td>\n",
       "      <td>2</td>\n",
       "      <td>0</td>\n",
       "      <td>1</td>\n",
       "      <td>1</td>\n",
       "      <td>3</td>\n",
       "      <td>2</td>\n",
       "      <td>2</td>\n",
       "    </tr>\n",
       "    <tr>\n",
       "      <th>1</th>\n",
       "      <td>1.0</td>\n",
       "      <td>1</td>\n",
       "      <td>0</td>\n",
       "      <td>1</td>\n",
       "      <td>0</td>\n",
       "      <td>71.2833</td>\n",
       "      <td>0</td>\n",
       "      <td>3</td>\n",
       "      <td>2</td>\n",
       "      <td>9</td>\n",
       "      <td>3</td>\n",
       "      <td>2</td>\n",
       "      <td>3</td>\n",
       "    </tr>\n",
       "    <tr>\n",
       "      <th>2</th>\n",
       "      <td>1.0</td>\n",
       "      <td>3</td>\n",
       "      <td>0</td>\n",
       "      <td>0</td>\n",
       "      <td>0</td>\n",
       "      <td>7.9250</td>\n",
       "      <td>2</td>\n",
       "      <td>0</td>\n",
       "      <td>1</td>\n",
       "      <td>1</td>\n",
       "      <td>3</td>\n",
       "      <td>0</td>\n",
       "      <td>1</td>\n",
       "    </tr>\n",
       "  </tbody>\n",
       "</table>\n",
       "</div>"
      ],
      "text/plain": [
       "   Survived  Pclass  Sex  SibSp  Parch     Fare  Embarked  AgeClass  \\\n",
       "0       0.0       3    1      1      0   7.2500         2         0   \n",
       "1       1.0       1    0      1      0  71.2833         0         3   \n",
       "2       1.0       3    0      0      0   7.9250         2         0   \n",
       "\n",
       "   Vulnerability  Fare_Class  FamType  FamSize  Prefix  \n",
       "0              1           1        3        2       2  \n",
       "1              2           9        3        2       3  \n",
       "2              1           1        3        0       1  "
      ]
     },
     "execution_count": 43,
     "metadata": {},
     "output_type": "execute_result"
    }
   ],
   "source": [
    "df_full.head(3)"
   ]
  },
  {
   "cell_type": "code",
   "execution_count": 44,
   "id": "e39eb3cc",
   "metadata": {
    "execution": {
     "iopub.execute_input": "2024-10-17T09:43:01.239725Z",
     "iopub.status.busy": "2024-10-17T09:43:01.239274Z",
     "iopub.status.idle": "2024-10-17T09:43:01.262451Z",
     "shell.execute_reply": "2024-10-17T09:43:01.261434Z"
    },
    "papermill": {
     "duration": 0.05393,
     "end_time": "2024-10-17T09:43:01.264748",
     "exception": false,
     "start_time": "2024-10-17T09:43:01.210818",
     "status": "completed"
    },
    "tags": []
   },
   "outputs": [
    {
     "data": {
      "text/html": [
       "<div>\n",
       "<style scoped>\n",
       "    .dataframe tbody tr th:only-of-type {\n",
       "        vertical-align: middle;\n",
       "    }\n",
       "\n",
       "    .dataframe tbody tr th {\n",
       "        vertical-align: top;\n",
       "    }\n",
       "\n",
       "    .dataframe thead th {\n",
       "        text-align: right;\n",
       "    }\n",
       "</style>\n",
       "<table border=\"1\" class=\"dataframe\">\n",
       "  <thead>\n",
       "    <tr style=\"text-align: right;\">\n",
       "      <th></th>\n",
       "      <th>level_0</th>\n",
       "      <th>level_1</th>\n",
       "      <th>0</th>\n",
       "    </tr>\n",
       "  </thead>\n",
       "  <tbody>\n",
       "    <tr>\n",
       "      <th>0</th>\n",
       "      <td>Survived</td>\n",
       "      <td>Survived</td>\n",
       "      <td>1.000000</td>\n",
       "    </tr>\n",
       "    <tr>\n",
       "      <th>15</th>\n",
       "      <td>Survived</td>\n",
       "      <td>Sex</td>\n",
       "      <td>0.543351</td>\n",
       "    </tr>\n",
       "    <tr>\n",
       "      <th>31</th>\n",
       "      <td>Survived</td>\n",
       "      <td>Pclass</td>\n",
       "      <td>0.338481</td>\n",
       "    </tr>\n",
       "    <tr>\n",
       "      <th>34</th>\n",
       "      <td>Survived</td>\n",
       "      <td>Fare</td>\n",
       "      <td>0.257307</td>\n",
       "    </tr>\n",
       "    <tr>\n",
       "      <th>37</th>\n",
       "      <td>Survived</td>\n",
       "      <td>FamSize</td>\n",
       "      <td>0.249714</td>\n",
       "    </tr>\n",
       "    <tr>\n",
       "      <th>59</th>\n",
       "      <td>Survived</td>\n",
       "      <td>FamType</td>\n",
       "      <td>0.137674</td>\n",
       "    </tr>\n",
       "    <tr>\n",
       "      <th>64</th>\n",
       "      <td>Survived</td>\n",
       "      <td>AgeClass</td>\n",
       "      <td>0.101990</td>\n",
       "    </tr>\n",
       "    <tr>\n",
       "      <th>71</th>\n",
       "      <td>Survived</td>\n",
       "      <td>Vulnerability</td>\n",
       "      <td>0.085744</td>\n",
       "    </tr>\n",
       "    <tr>\n",
       "      <th>73</th>\n",
       "      <td>Survived</td>\n",
       "      <td>Parch</td>\n",
       "      <td>0.081629</td>\n",
       "    </tr>\n",
       "    <tr>\n",
       "      <th>90</th>\n",
       "      <td>Survived</td>\n",
       "      <td>SibSp</td>\n",
       "      <td>0.035322</td>\n",
       "    </tr>\n",
       "  </tbody>\n",
       "</table>\n",
       "</div>"
      ],
      "text/plain": [
       "     level_0        level_1         0\n",
       "0   Survived       Survived  1.000000\n",
       "15  Survived            Sex  0.543351\n",
       "31  Survived         Pclass  0.338481\n",
       "34  Survived           Fare  0.257307\n",
       "37  Survived        FamSize  0.249714\n",
       "59  Survived        FamType  0.137674\n",
       "64  Survived       AgeClass  0.101990\n",
       "71  Survived  Vulnerability  0.085744\n",
       "73  Survived          Parch  0.081629\n",
       "90  Survived          SibSp  0.035322"
      ]
     },
     "execution_count": 44,
     "metadata": {},
     "output_type": "execute_result"
    }
   ],
   "source": [
    "full_cor = df_full[['Survived','Pclass','Sex','SibSp','Parch','Fare','FamType','FamSize','AgeClass','Vulnerability']].corr().abs().unstack().sort_values(kind=\"quicksort\", ascending=False).reset_index()\n",
    "full_cor[full_cor['level_0'] == 'Survived']"
   ]
  },
  {
   "cell_type": "code",
   "execution_count": 45,
   "id": "799a5b04",
   "metadata": {
    "execution": {
     "iopub.execute_input": "2024-10-17T09:43:01.305702Z",
     "iopub.status.busy": "2024-10-17T09:43:01.305257Z",
     "iopub.status.idle": "2024-10-17T09:43:01.329584Z",
     "shell.execute_reply": "2024-10-17T09:43:01.328479Z"
    },
    "papermill": {
     "duration": 0.047463,
     "end_time": "2024-10-17T09:43:01.331979",
     "exception": false,
     "start_time": "2024-10-17T09:43:01.284516",
     "status": "completed"
    },
    "tags": []
   },
   "outputs": [
    {
     "data": {
      "text/html": [
       "<div>\n",
       "<style scoped>\n",
       "    .dataframe tbody tr th:only-of-type {\n",
       "        vertical-align: middle;\n",
       "    }\n",
       "\n",
       "    .dataframe tbody tr th {\n",
       "        vertical-align: top;\n",
       "    }\n",
       "\n",
       "    .dataframe thead th {\n",
       "        text-align: right;\n",
       "    }\n",
       "</style>\n",
       "<table border=\"1\" class=\"dataframe\">\n",
       "  <thead>\n",
       "    <tr style=\"text-align: right;\">\n",
       "      <th></th>\n",
       "      <th>level_0</th>\n",
       "      <th>level_1</th>\n",
       "      <th>0</th>\n",
       "    </tr>\n",
       "  </thead>\n",
       "  <tbody>\n",
       "    <tr>\n",
       "      <th>0</th>\n",
       "      <td>Survived</td>\n",
       "      <td>Survived</td>\n",
       "      <td>1.000000</td>\n",
       "    </tr>\n",
       "    <tr>\n",
       "      <th>17</th>\n",
       "      <td>Survived</td>\n",
       "      <td>Sex</td>\n",
       "      <td>0.543351</td>\n",
       "    </tr>\n",
       "    <tr>\n",
       "      <th>40</th>\n",
       "      <td>Survived</td>\n",
       "      <td>Pclass</td>\n",
       "      <td>0.338481</td>\n",
       "    </tr>\n",
       "    <tr>\n",
       "      <th>48</th>\n",
       "      <td>Survived</td>\n",
       "      <td>Fare_Class</td>\n",
       "      <td>0.266302</td>\n",
       "    </tr>\n",
       "    <tr>\n",
       "      <th>49</th>\n",
       "      <td>Survived</td>\n",
       "      <td>Fare</td>\n",
       "      <td>0.257307</td>\n",
       "    </tr>\n",
       "    <tr>\n",
       "      <th>52</th>\n",
       "      <td>Survived</td>\n",
       "      <td>FamSize</td>\n",
       "      <td>0.249714</td>\n",
       "    </tr>\n",
       "    <tr>\n",
       "      <th>78</th>\n",
       "      <td>Survived</td>\n",
       "      <td>FamType</td>\n",
       "      <td>0.137674</td>\n",
       "    </tr>\n",
       "    <tr>\n",
       "      <th>83</th>\n",
       "      <td>Survived</td>\n",
       "      <td>AgeClass</td>\n",
       "      <td>0.101990</td>\n",
       "    </tr>\n",
       "    <tr>\n",
       "      <th>90</th>\n",
       "      <td>Survived</td>\n",
       "      <td>Vulnerability</td>\n",
       "      <td>0.085744</td>\n",
       "    </tr>\n",
       "    <tr>\n",
       "      <th>91</th>\n",
       "      <td>Survived</td>\n",
       "      <td>Parch</td>\n",
       "      <td>0.081629</td>\n",
       "    </tr>\n",
       "    <tr>\n",
       "      <th>111</th>\n",
       "      <td>Survived</td>\n",
       "      <td>SibSp</td>\n",
       "      <td>0.035322</td>\n",
       "    </tr>\n",
       "  </tbody>\n",
       "</table>\n",
       "</div>"
      ],
      "text/plain": [
       "      level_0        level_1         0\n",
       "0    Survived       Survived  1.000000\n",
       "17   Survived            Sex  0.543351\n",
       "40   Survived         Pclass  0.338481\n",
       "48   Survived     Fare_Class  0.266302\n",
       "49   Survived           Fare  0.257307\n",
       "52   Survived        FamSize  0.249714\n",
       "78   Survived        FamType  0.137674\n",
       "83   Survived       AgeClass  0.101990\n",
       "90   Survived  Vulnerability  0.085744\n",
       "91   Survived          Parch  0.081629\n",
       "111  Survived          SibSp  0.035322"
      ]
     },
     "execution_count": 45,
     "metadata": {},
     "output_type": "execute_result"
    }
   ],
   "source": [
    "full_cor = df_full[['Survived','Pclass','Sex','SibSp','Parch','Fare','FamType','FamSize','AgeClass','Vulnerability','Fare_Class']].corr().abs().unstack().sort_values(kind=\"quicksort\", ascending=False).reset_index()\n",
    "full_cor[full_cor['level_0'] == 'Survived']"
   ]
  },
  {
   "cell_type": "markdown",
   "id": "038c1d48",
   "metadata": {
    "papermill": {
     "duration": 0.019248,
     "end_time": "2024-10-17T09:43:01.371110",
     "exception": false,
     "start_time": "2024-10-17T09:43:01.351862",
     "status": "completed"
    },
    "tags": []
   },
   "source": [
    "*Seeing that it's nice that fare_class is more effective than fare.*"
   ]
  },
  {
   "cell_type": "code",
   "execution_count": 46,
   "id": "c6976fa5",
   "metadata": {
    "execution": {
     "iopub.execute_input": "2024-10-17T09:43:01.411993Z",
     "iopub.status.busy": "2024-10-17T09:43:01.411585Z",
     "iopub.status.idle": "2024-10-17T09:43:01.417376Z",
     "shell.execute_reply": "2024-10-17T09:43:01.416273Z"
    },
    "papermill": {
     "duration": 0.028819,
     "end_time": "2024-10-17T09:43:01.419605",
     "exception": false,
     "start_time": "2024-10-17T09:43:01.390786",
     "status": "completed"
    },
    "tags": []
   },
   "outputs": [],
   "source": [
    "df_train = df_full.iloc[:890]\n",
    "df_test = df_full.iloc[891:]"
   ]
  },
  {
   "cell_type": "code",
   "execution_count": 47,
   "id": "8c304e09",
   "metadata": {
    "execution": {
     "iopub.execute_input": "2024-10-17T09:43:01.461048Z",
     "iopub.status.busy": "2024-10-17T09:43:01.460340Z",
     "iopub.status.idle": "2024-10-17T09:43:01.467117Z",
     "shell.execute_reply": "2024-10-17T09:43:01.466001Z"
    },
    "papermill": {
     "duration": 0.030035,
     "end_time": "2024-10-17T09:43:01.469301",
     "exception": false,
     "start_time": "2024-10-17T09:43:01.439266",
     "status": "completed"
    },
    "tags": []
   },
   "outputs": [],
   "source": [
    "y = df_train['Survived']\n",
    "df_train = df_train.drop('Survived',axis =  1)"
   ]
  },
  {
   "cell_type": "code",
   "execution_count": 48,
   "id": "54beaef3",
   "metadata": {
    "execution": {
     "iopub.execute_input": "2024-10-17T09:43:01.518648Z",
     "iopub.status.busy": "2024-10-17T09:43:01.518195Z",
     "iopub.status.idle": "2024-10-17T09:43:01.535716Z",
     "shell.execute_reply": "2024-10-17T09:43:01.534585Z"
    },
    "papermill": {
     "duration": 0.043491,
     "end_time": "2024-10-17T09:43:01.538278",
     "exception": false,
     "start_time": "2024-10-17T09:43:01.494787",
     "status": "completed"
    },
    "tags": []
   },
   "outputs": [
    {
     "data": {
      "text/html": [
       "<div>\n",
       "<style scoped>\n",
       "    .dataframe tbody tr th:only-of-type {\n",
       "        vertical-align: middle;\n",
       "    }\n",
       "\n",
       "    .dataframe tbody tr th {\n",
       "        vertical-align: top;\n",
       "    }\n",
       "\n",
       "    .dataframe thead th {\n",
       "        text-align: right;\n",
       "    }\n",
       "</style>\n",
       "<table border=\"1\" class=\"dataframe\">\n",
       "  <thead>\n",
       "    <tr style=\"text-align: right;\">\n",
       "      <th></th>\n",
       "      <th>Pclass</th>\n",
       "      <th>Sex</th>\n",
       "      <th>SibSp</th>\n",
       "      <th>Parch</th>\n",
       "      <th>Fare</th>\n",
       "      <th>Embarked</th>\n",
       "      <th>AgeClass</th>\n",
       "      <th>Vulnerability</th>\n",
       "      <th>Fare_Class</th>\n",
       "      <th>FamType</th>\n",
       "      <th>FamSize</th>\n",
       "      <th>Prefix</th>\n",
       "    </tr>\n",
       "  </thead>\n",
       "  <tbody>\n",
       "    <tr>\n",
       "      <th>0</th>\n",
       "      <td>3</td>\n",
       "      <td>1</td>\n",
       "      <td>1</td>\n",
       "      <td>0</td>\n",
       "      <td>7.2500</td>\n",
       "      <td>2</td>\n",
       "      <td>0</td>\n",
       "      <td>1</td>\n",
       "      <td>1</td>\n",
       "      <td>3</td>\n",
       "      <td>2</td>\n",
       "      <td>2</td>\n",
       "    </tr>\n",
       "    <tr>\n",
       "      <th>1</th>\n",
       "      <td>1</td>\n",
       "      <td>0</td>\n",
       "      <td>1</td>\n",
       "      <td>0</td>\n",
       "      <td>71.2833</td>\n",
       "      <td>0</td>\n",
       "      <td>3</td>\n",
       "      <td>2</td>\n",
       "      <td>9</td>\n",
       "      <td>3</td>\n",
       "      <td>2</td>\n",
       "      <td>3</td>\n",
       "    </tr>\n",
       "    <tr>\n",
       "      <th>2</th>\n",
       "      <td>3</td>\n",
       "      <td>0</td>\n",
       "      <td>0</td>\n",
       "      <td>0</td>\n",
       "      <td>7.9250</td>\n",
       "      <td>2</td>\n",
       "      <td>0</td>\n",
       "      <td>1</td>\n",
       "      <td>1</td>\n",
       "      <td>3</td>\n",
       "      <td>0</td>\n",
       "      <td>1</td>\n",
       "    </tr>\n",
       "    <tr>\n",
       "      <th>3</th>\n",
       "      <td>1</td>\n",
       "      <td>0</td>\n",
       "      <td>1</td>\n",
       "      <td>0</td>\n",
       "      <td>53.1000</td>\n",
       "      <td>2</td>\n",
       "      <td>3</td>\n",
       "      <td>2</td>\n",
       "      <td>9</td>\n",
       "      <td>3</td>\n",
       "      <td>2</td>\n",
       "      <td>3</td>\n",
       "    </tr>\n",
       "    <tr>\n",
       "      <th>4</th>\n",
       "      <td>3</td>\n",
       "      <td>1</td>\n",
       "      <td>0</td>\n",
       "      <td>0</td>\n",
       "      <td>8.0500</td>\n",
       "      <td>2</td>\n",
       "      <td>3</td>\n",
       "      <td>2</td>\n",
       "      <td>1</td>\n",
       "      <td>3</td>\n",
       "      <td>0</td>\n",
       "      <td>2</td>\n",
       "    </tr>\n",
       "  </tbody>\n",
       "</table>\n",
       "</div>"
      ],
      "text/plain": [
       "   Pclass  Sex  SibSp  Parch     Fare  Embarked  AgeClass  Vulnerability  \\\n",
       "0       3    1      1      0   7.2500         2         0              1   \n",
       "1       1    0      1      0  71.2833         0         3              2   \n",
       "2       3    0      0      0   7.9250         2         0              1   \n",
       "3       1    0      1      0  53.1000         2         3              2   \n",
       "4       3    1      0      0   8.0500         2         3              2   \n",
       "\n",
       "   Fare_Class  FamType  FamSize  Prefix  \n",
       "0           1        3        2       2  \n",
       "1           9        3        2       3  \n",
       "2           1        3        0       1  \n",
       "3           9        3        2       3  \n",
       "4           1        3        0       2  "
      ]
     },
     "execution_count": 48,
     "metadata": {},
     "output_type": "execute_result"
    }
   ],
   "source": [
    "df_train.head()"
   ]
  },
  {
   "cell_type": "code",
   "execution_count": 49,
   "id": "6106f1df",
   "metadata": {
    "execution": {
     "iopub.execute_input": "2024-10-17T09:43:01.584031Z",
     "iopub.status.busy": "2024-10-17T09:43:01.583627Z",
     "iopub.status.idle": "2024-10-17T09:43:01.590962Z",
     "shell.execute_reply": "2024-10-17T09:43:01.589810Z"
    },
    "papermill": {
     "duration": 0.033427,
     "end_time": "2024-10-17T09:43:01.593675",
     "exception": false,
     "start_time": "2024-10-17T09:43:01.560248",
     "status": "completed"
    },
    "tags": []
   },
   "outputs": [],
   "source": [
    "df_test = df_test.drop('Survived',axis =  1)"
   ]
  },
  {
   "cell_type": "code",
   "execution_count": 50,
   "id": "9e90f0c5",
   "metadata": {
    "execution": {
     "iopub.execute_input": "2024-10-17T09:43:01.636758Z",
     "iopub.status.busy": "2024-10-17T09:43:01.635371Z",
     "iopub.status.idle": "2024-10-17T09:43:01.651144Z",
     "shell.execute_reply": "2024-10-17T09:43:01.649808Z"
    },
    "papermill": {
     "duration": 0.039565,
     "end_time": "2024-10-17T09:43:01.653513",
     "exception": false,
     "start_time": "2024-10-17T09:43:01.613948",
     "status": "completed"
    },
    "tags": []
   },
   "outputs": [
    {
     "data": {
      "text/html": [
       "<div>\n",
       "<style scoped>\n",
       "    .dataframe tbody tr th:only-of-type {\n",
       "        vertical-align: middle;\n",
       "    }\n",
       "\n",
       "    .dataframe tbody tr th {\n",
       "        vertical-align: top;\n",
       "    }\n",
       "\n",
       "    .dataframe thead th {\n",
       "        text-align: right;\n",
       "    }\n",
       "</style>\n",
       "<table border=\"1\" class=\"dataframe\">\n",
       "  <thead>\n",
       "    <tr style=\"text-align: right;\">\n",
       "      <th></th>\n",
       "      <th>Pclass</th>\n",
       "      <th>Sex</th>\n",
       "      <th>SibSp</th>\n",
       "      <th>Parch</th>\n",
       "      <th>Fare</th>\n",
       "      <th>Embarked</th>\n",
       "      <th>AgeClass</th>\n",
       "      <th>Vulnerability</th>\n",
       "      <th>Fare_Class</th>\n",
       "      <th>FamType</th>\n",
       "      <th>FamSize</th>\n",
       "      <th>Prefix</th>\n",
       "    </tr>\n",
       "  </thead>\n",
       "  <tbody>\n",
       "    <tr>\n",
       "      <th>0</th>\n",
       "      <td>3</td>\n",
       "      <td>1</td>\n",
       "      <td>0</td>\n",
       "      <td>0</td>\n",
       "      <td>7.8292</td>\n",
       "      <td>1</td>\n",
       "      <td>3</td>\n",
       "      <td>2</td>\n",
       "      <td>1</td>\n",
       "      <td>3</td>\n",
       "      <td>0</td>\n",
       "      <td>2</td>\n",
       "    </tr>\n",
       "    <tr>\n",
       "      <th>1</th>\n",
       "      <td>3</td>\n",
       "      <td>0</td>\n",
       "      <td>1</td>\n",
       "      <td>0</td>\n",
       "      <td>7.0000</td>\n",
       "      <td>2</td>\n",
       "      <td>3</td>\n",
       "      <td>2</td>\n",
       "      <td>1</td>\n",
       "      <td>3</td>\n",
       "      <td>2</td>\n",
       "      <td>3</td>\n",
       "    </tr>\n",
       "    <tr>\n",
       "      <th>2</th>\n",
       "      <td>2</td>\n",
       "      <td>1</td>\n",
       "      <td>0</td>\n",
       "      <td>0</td>\n",
       "      <td>9.6875</td>\n",
       "      <td>1</td>\n",
       "      <td>2</td>\n",
       "      <td>3</td>\n",
       "      <td>0</td>\n",
       "      <td>3</td>\n",
       "      <td>0</td>\n",
       "      <td>2</td>\n",
       "    </tr>\n",
       "    <tr>\n",
       "      <th>3</th>\n",
       "      <td>3</td>\n",
       "      <td>1</td>\n",
       "      <td>0</td>\n",
       "      <td>0</td>\n",
       "      <td>8.6625</td>\n",
       "      <td>2</td>\n",
       "      <td>0</td>\n",
       "      <td>1</td>\n",
       "      <td>1</td>\n",
       "      <td>3</td>\n",
       "      <td>0</td>\n",
       "      <td>2</td>\n",
       "    </tr>\n",
       "    <tr>\n",
       "      <th>4</th>\n",
       "      <td>3</td>\n",
       "      <td>0</td>\n",
       "      <td>1</td>\n",
       "      <td>1</td>\n",
       "      <td>12.2875</td>\n",
       "      <td>2</td>\n",
       "      <td>0</td>\n",
       "      <td>1</td>\n",
       "      <td>7</td>\n",
       "      <td>1</td>\n",
       "      <td>2</td>\n",
       "      <td>3</td>\n",
       "    </tr>\n",
       "  </tbody>\n",
       "</table>\n",
       "</div>"
      ],
      "text/plain": [
       "   Pclass  Sex  SibSp  Parch     Fare  Embarked  AgeClass  Vulnerability  \\\n",
       "0       3    1      0      0   7.8292         1         3              2   \n",
       "1       3    0      1      0   7.0000         2         3              2   \n",
       "2       2    1      0      0   9.6875         1         2              3   \n",
       "3       3    1      0      0   8.6625         2         0              1   \n",
       "4       3    0      1      1  12.2875         2         0              1   \n",
       "\n",
       "   Fare_Class  FamType  FamSize  Prefix  \n",
       "0           1        3        0       2  \n",
       "1           1        3        2       3  \n",
       "2           0        3        0       2  \n",
       "3           1        3        0       2  \n",
       "4           7        1        2       3  "
      ]
     },
     "execution_count": 50,
     "metadata": {},
     "output_type": "execute_result"
    }
   ],
   "source": [
    "df_test.head()"
   ]
  },
  {
   "cell_type": "markdown",
   "id": "5d68daaa",
   "metadata": {
    "papermill": {
     "duration": 0.019844,
     "end_time": "2024-10-17T09:43:01.693688",
     "exception": false,
     "start_time": "2024-10-17T09:43:01.673844",
     "status": "completed"
    },
    "tags": []
   },
   "source": [
    "## Model Training"
   ]
  },
  {
   "cell_type": "code",
   "execution_count": 51,
   "id": "b3e3e468",
   "metadata": {
    "execution": {
     "iopub.execute_input": "2024-10-17T09:43:01.736548Z",
     "iopub.status.busy": "2024-10-17T09:43:01.735480Z",
     "iopub.status.idle": "2024-10-17T09:43:01.743428Z",
     "shell.execute_reply": "2024-10-17T09:43:01.742358Z"
    },
    "papermill": {
     "duration": 0.031749,
     "end_time": "2024-10-17T09:43:01.745625",
     "exception": false,
     "start_time": "2024-10-17T09:43:01.713876",
     "status": "completed"
    },
    "tags": []
   },
   "outputs": [
    {
     "data": {
      "text/plain": [
       "' A little bit overfitting here \\n\\nfrom sklearn.pipeline import Pipeline\\nfrom sklearn.preprocessing import StandardScaler, OneHotEncoder\\nfrom sklearn.ensemble import RandomForestClassifier\\nfrom sklearn.compose import ColumnTransformer\\nfrom sklearn.metrics import accuracy_score\\nfrom sklearn.ensemble import GradientBoostingClassifier\\nfrom sklearn.svm import SVC\\nfrom sklearn.model_selection import train_test_split\\n\\nnumerical_transformer = StandardScaler()\\ncategorical_transformer = OneHotEncoder(handle_unknown=\\'ignore\\')\\n\\ncat_list = [\\'Pclass\\',\\'Sex\\',\\'SibSp\\',\\'Parch\\',\\'Embarked\\',\\'Prefix\\',\\'FamType\\',\\'FamSize\\',\\'AgeClass\\',\\'Vulnerability\\',\\'Fare_Class\\']\\n#num_list = [\\'Fare\\']\\n\\npreprocessor = ColumnTransformer(\\n    transformers=[\\n        #(\\'num\\', numerical_transformer, num_list)\\n        (\\'cat\\', categorical_transformer, cat_list)\\n    ])\\n\\nmodel = Pipeline(steps=[\\n    (\\'preprocessor\\', preprocessor),\\n    (\\'classifier\\',  SVC())])\\n\\n\\nX_train, X_test, y_train, y_test = train_test_split(df_train, y, train_size=0.8, random_state=42)\\nmodel.fit(X_train, y_train)\\ny_pred = model.predict(X_test)\\n\\naccuracy = accuracy_score(y_test, y_pred)\\nprint(\"Accuracy for {}\".format(accuracy))\\n'"
      ]
     },
     "execution_count": 51,
     "metadata": {},
     "output_type": "execute_result"
    }
   ],
   "source": [
    "''' A little bit overfitting here \n",
    "\n",
    "from sklearn.pipeline import Pipeline\n",
    "from sklearn.preprocessing import StandardScaler, OneHotEncoder\n",
    "from sklearn.ensemble import RandomForestClassifier\n",
    "from sklearn.compose import ColumnTransformer\n",
    "from sklearn.metrics import accuracy_score\n",
    "from sklearn.ensemble import GradientBoostingClassifier\n",
    "from sklearn.svm import SVC\n",
    "from sklearn.model_selection import train_test_split\n",
    "\n",
    "numerical_transformer = StandardScaler()\n",
    "categorical_transformer = OneHotEncoder(handle_unknown='ignore')\n",
    "\n",
    "cat_list = ['Pclass','Sex','SibSp','Parch','Embarked','Prefix','FamType','FamSize','AgeClass','Vulnerability','Fare_Class']\n",
    "#num_list = ['Fare']\n",
    "\n",
    "preprocessor = ColumnTransformer(\n",
    "    transformers=[\n",
    "        #('num', numerical_transformer, num_list)\n",
    "        ('cat', categorical_transformer, cat_list)\n",
    "    ])\n",
    "\n",
    "model = Pipeline(steps=[\n",
    "    ('preprocessor', preprocessor),\n",
    "    ('classifier',  SVC())])\n",
    "\n",
    "\n",
    "X_train, X_test, y_train, y_test = train_test_split(df_train, y, train_size=0.8, random_state=42)\n",
    "model.fit(X_train, y_train)\n",
    "y_pred = model.predict(X_test)\n",
    "\n",
    "accuracy = accuracy_score(y_test, y_pred)\n",
    "print(\"Accuracy for {}\".format(accuracy))\n",
    "'''"
   ]
  },
  {
   "cell_type": "code",
   "execution_count": 52,
   "id": "260452dc",
   "metadata": {
    "execution": {
     "iopub.execute_input": "2024-10-17T09:43:01.789510Z",
     "iopub.status.busy": "2024-10-17T09:43:01.788469Z",
     "iopub.status.idle": "2024-10-17T09:43:03.034335Z",
     "shell.execute_reply": "2024-10-17T09:43:03.033275Z"
    },
    "papermill": {
     "duration": 1.270288,
     "end_time": "2024-10-17T09:43:03.036884",
     "exception": false,
     "start_time": "2024-10-17T09:43:01.766596",
     "status": "completed"
    },
    "tags": []
   },
   "outputs": [
    {
     "name": "stdout",
     "output_type": "stream",
     "text": [
      "Accuracy for 0.848314606741573\n",
      "Accuracy for 0.8202247191011236\n",
      "Accuracy for 0.848314606741573\n",
      "Accuracy for 0.797752808988764\n",
      "Accuracy for 0.8202247191011236\n"
     ]
    }
   ],
   "source": [
    "from sklearn.model_selection import KFold\n",
    "from sklearn.ensemble import GradientBoostingClassifier\n",
    "from sklearn.pipeline import Pipeline\n",
    "from sklearn.preprocessing import StandardScaler, OneHotEncoder\n",
    "from sklearn.ensemble import RandomForestClassifier\n",
    "from sklearn.compose import ColumnTransformer\n",
    "from sklearn.metrics import accuracy_score\n",
    "from sklearn.ensemble import GradientBoostingClassifier\n",
    "from sklearn.svm import SVC\n",
    "from sklearn.model_selection import train_test_split\n",
    "\n",
    "numerical_transformer = StandardScaler()\n",
    "categorical_transformer = OneHotEncoder(handle_unknown='ignore')\n",
    "\n",
    "cat_list = ['Pclass','Sex','SibSp','Parch','Embarked','Prefix','FamType','FamSize','AgeClass','Vulnerability','Fare_Class']\n",
    "#num_list = ['Fare']\n",
    "\n",
    "preprocessor = ColumnTransformer(\n",
    "    transformers=[\n",
    "        #('num', numerical_transformer, num_list),\n",
    "        ('cat', categorical_transformer, cat_list)\n",
    "    ])\n",
    "\n",
    "feature=cat_list#+num_list\n",
    "\n",
    "# Define your pipeline\n",
    "model = Pipeline(steps=[\n",
    "    ('preprocessor', preprocessor),\n",
    "    ('classifier', GradientBoostingClassifier(\n",
    "        n_estimators=300,\n",
    "        learning_rate=0.05,\n",
    "        random_state=100,\n",
    "        max_features=5,\n",
    "        n_iter_no_change=10,  # Early stopping after 10 rounds of no improvement\n",
    "        validation_fraction=0.1  # Use 20% of training data as validation set\n",
    "    ))\n",
    "])\n",
    "\n",
    "\n",
    "errors = []\n",
    "kf = KFold(n_splits=5, shuffle=True, random_state=42)\n",
    "\n",
    "for train_index, test_index in kf.split(df_train):\n",
    "    X_train, X_test = df_train.iloc[train_index], df_train.iloc[test_index]\n",
    "    y_train, y_test = y[train_index], y[test_index]\n",
    "    \n",
    "    model.fit(X_train,y_train)\n",
    "    y_pred = model.predict(X_test)\n",
    "    y_pred =[int(each) for each in y_pred]\n",
    "    accuracy = accuracy_score(y_pred, y_test)\n",
    "    print(\"Accuracy for {}\".format(accuracy))\n",
    "\n"
   ]
  },
  {
   "cell_type": "code",
   "execution_count": 53,
   "id": "811a545b",
   "metadata": {
    "execution": {
     "iopub.execute_input": "2024-10-17T09:43:03.081252Z",
     "iopub.status.busy": "2024-10-17T09:43:03.080824Z",
     "iopub.status.idle": "2024-10-17T09:43:03.095704Z",
     "shell.execute_reply": "2024-10-17T09:43:03.094365Z"
    },
    "papermill": {
     "duration": 0.039245,
     "end_time": "2024-10-17T09:43:03.098005",
     "exception": false,
     "start_time": "2024-10-17T09:43:03.058760",
     "status": "completed"
    },
    "tags": []
   },
   "outputs": [],
   "source": [
    "yped = model.predict(df_test)"
   ]
  },
  {
   "cell_type": "code",
   "execution_count": 54,
   "id": "71e82ac4",
   "metadata": {
    "execution": {
     "iopub.execute_input": "2024-10-17T09:43:03.141655Z",
     "iopub.status.busy": "2024-10-17T09:43:03.140527Z",
     "iopub.status.idle": "2024-10-17T09:43:03.153367Z",
     "shell.execute_reply": "2024-10-17T09:43:03.152401Z"
    },
    "papermill": {
     "duration": 0.037115,
     "end_time": "2024-10-17T09:43:03.155897",
     "exception": false,
     "start_time": "2024-10-17T09:43:03.118782",
     "status": "completed"
    },
    "tags": []
   },
   "outputs": [],
   "source": [
    "p_id = pd.read_csv('/kaggle/input/titanic/gender_submission.csv')['PassengerId']"
   ]
  },
  {
   "cell_type": "code",
   "execution_count": 55,
   "id": "3a66a762",
   "metadata": {
    "execution": {
     "iopub.execute_input": "2024-10-17T09:43:03.252281Z",
     "iopub.status.busy": "2024-10-17T09:43:03.251442Z",
     "iopub.status.idle": "2024-10-17T09:43:03.256839Z",
     "shell.execute_reply": "2024-10-17T09:43:03.255569Z"
    },
    "papermill": {
     "duration": 0.029656,
     "end_time": "2024-10-17T09:43:03.259115",
     "exception": false,
     "start_time": "2024-10-17T09:43:03.229459",
     "status": "completed"
    },
    "tags": []
   },
   "outputs": [],
   "source": [
    "yped =[int(each) for each in yped]"
   ]
  },
  {
   "cell_type": "code",
   "execution_count": 56,
   "id": "5c873ef0",
   "metadata": {
    "execution": {
     "iopub.execute_input": "2024-10-17T09:43:03.302597Z",
     "iopub.status.busy": "2024-10-17T09:43:03.301884Z",
     "iopub.status.idle": "2024-10-17T09:43:03.312113Z",
     "shell.execute_reply": "2024-10-17T09:43:03.310706Z"
    },
    "papermill": {
     "duration": 0.034641,
     "end_time": "2024-10-17T09:43:03.314642",
     "exception": false,
     "start_time": "2024-10-17T09:43:03.280001",
     "status": "completed"
    },
    "tags": []
   },
   "outputs": [],
   "source": [
    "mycsv = {\n",
    "    'PassengerId' : p_id,\n",
    "    'Survived' : yped\n",
    "}\n",
    "\n",
    "mydata = pd.DataFrame(mycsv) \n",
    "mydata.to_csv('/kaggle/working/myoutput.csv', index=False)"
   ]
  },
  {
   "cell_type": "code",
   "execution_count": 57,
   "id": "fd33a9c1",
   "metadata": {
    "execution": {
     "iopub.execute_input": "2024-10-17T09:43:03.358303Z",
     "iopub.status.busy": "2024-10-17T09:43:03.357898Z",
     "iopub.status.idle": "2024-10-17T09:43:03.370726Z",
     "shell.execute_reply": "2024-10-17T09:43:03.369560Z"
    },
    "papermill": {
     "duration": 0.037949,
     "end_time": "2024-10-17T09:43:03.373350",
     "exception": false,
     "start_time": "2024-10-17T09:43:03.335401",
     "status": "completed"
    },
    "tags": []
   },
   "outputs": [],
   "source": [
    "full_of_correct = pd.read_csv('/kaggle/input/titanic-competition-how-top-lb-got-their-score/submission.csv')['Survived']"
   ]
  },
  {
   "cell_type": "code",
   "execution_count": 58,
   "id": "eb3f6cee",
   "metadata": {
    "execution": {
     "iopub.execute_input": "2024-10-17T09:43:03.418108Z",
     "iopub.status.busy": "2024-10-17T09:43:03.417051Z",
     "iopub.status.idle": "2024-10-17T09:43:03.424144Z",
     "shell.execute_reply": "2024-10-17T09:43:03.423010Z"
    },
    "papermill": {
     "duration": 0.031916,
     "end_time": "2024-10-17T09:43:03.426331",
     "exception": false,
     "start_time": "2024-10-17T09:43:03.394415",
     "status": "completed"
    },
    "tags": []
   },
   "outputs": [
    {
     "name": "stdout",
     "output_type": "stream",
     "text": [
      "Accuracy for 0.7870813397129187\n"
     ]
    }
   ],
   "source": [
    "accuracy = accuracy_score(yped, full_of_correct)\n",
    "print(\"Accuracy for {}\".format(accuracy))"
   ]
  }
 ],
 "metadata": {
  "kaggle": {
   "accelerator": "none",
   "dataSources": [
    {
     "databundleVersionId": 26502,
     "sourceId": 3136,
     "sourceType": "competition"
    },
    {
     "sourceId": 29021360,
     "sourceType": "kernelVersion"
    }
   ],
   "dockerImageVersionId": 30786,
   "isGpuEnabled": false,
   "isInternetEnabled": true,
   "language": "python",
   "sourceType": "notebook"
  },
  "kernelspec": {
   "display_name": "Python 3",
   "language": "python",
   "name": "python3"
  },
  "language_info": {
   "codemirror_mode": {
    "name": "ipython",
    "version": 3
   },
   "file_extension": ".py",
   "mimetype": "text/x-python",
   "name": "python",
   "nbconvert_exporter": "python",
   "pygments_lexer": "ipython3",
   "version": "3.10.14"
  },
  "papermill": {
   "default_parameters": {},
   "duration": 12.662309,
   "end_time": "2024-10-17T09:43:04.169090",
   "environment_variables": {},
   "exception": null,
   "input_path": "__notebook__.ipynb",
   "output_path": "__notebook__.ipynb",
   "parameters": {},
   "start_time": "2024-10-17T09:42:51.506781",
   "version": "2.6.0"
  }
 },
 "nbformat": 4,
 "nbformat_minor": 5
}
