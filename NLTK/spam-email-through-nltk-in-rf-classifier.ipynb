{
 "cells": [
  {
   "cell_type": "code",
   "execution_count": 1,
   "id": "e735acbc",
   "metadata": {
    "execution": {
     "iopub.execute_input": "2024-07-02T12:34:56.702504Z",
     "iopub.status.busy": "2024-07-02T12:34:56.702002Z",
     "iopub.status.idle": "2024-07-02T12:35:00.077963Z",
     "shell.execute_reply": "2024-07-02T12:35:00.076716Z"
    },
    "papermill": {
     "duration": 3.390718,
     "end_time": "2024-07-02T12:35:00.080465",
     "exception": false,
     "start_time": "2024-07-02T12:34:56.689747",
     "status": "completed"
    },
    "tags": []
   },
   "outputs": [
    {
     "name": "stdout",
     "output_type": "stream",
     "text": [
      "[nltk_data] Downloading package punkt to /usr/share/nltk_data...\n",
      "[nltk_data]   Package punkt is already up-to-date!\n"
     ]
    },
    {
     "data": {
      "text/plain": [
       "'\\nFirst of all, I had used email_classification.csv but since the data is very small, my accuracy turned out 100 percent. In order to validate\\nmy model, I am using sms_spam data which is huge comparing to old one. \\n'"
      ]
     },
     "execution_count": 1,
     "metadata": {},
     "output_type": "execute_result"
    }
   ],
   "source": [
    "#lets getting dataset from the kaggle\n",
    "\n",
    "import pandas as pd\n",
    "import numpy as np\n",
    "import statistics\n",
    "import numpy as np\n",
    "\n",
    "#needed for preprocessing in text for email part of this data\n",
    "from nltk.tokenize import word_tokenize\n",
    "from nltk.corpus import stopwords\n",
    "from nltk.stem import WordNetLemmatizer\n",
    "import nltk\n",
    "nltk.download('punkt')\n",
    "import re\n",
    "    \n",
    "import os\n",
    "df = pd.read_csv('/kaggle/input/sms-spam-collection-dataset/spam.csv',encoding = 'latin-1')\n",
    "'''\n",
    "First of all, I had used email_classification.csv but since the data is very small, my accuracy turned out 100 percent. In order to validate\n",
    "my model, I am using sms_spam data which is huge comparing to old one. \n",
    "'''\n"
   ]
  },
  {
   "cell_type": "code",
   "execution_count": 2,
   "id": "6f279054",
   "metadata": {
    "execution": {
     "iopub.execute_input": "2024-07-02T12:35:00.103048Z",
     "iopub.status.busy": "2024-07-02T12:35:00.102592Z",
     "iopub.status.idle": "2024-07-02T12:35:00.125755Z",
     "shell.execute_reply": "2024-07-02T12:35:00.124512Z"
    },
    "papermill": {
     "duration": 0.037473,
     "end_time": "2024-07-02T12:35:00.128339",
     "exception": false,
     "start_time": "2024-07-02T12:35:00.090866",
     "status": "completed"
    },
    "tags": []
   },
   "outputs": [
    {
     "data": {
      "text/html": [
       "<div>\n",
       "<style scoped>\n",
       "    .dataframe tbody tr th:only-of-type {\n",
       "        vertical-align: middle;\n",
       "    }\n",
       "\n",
       "    .dataframe tbody tr th {\n",
       "        vertical-align: top;\n",
       "    }\n",
       "\n",
       "    .dataframe thead th {\n",
       "        text-align: right;\n",
       "    }\n",
       "</style>\n",
       "<table border=\"1\" class=\"dataframe\">\n",
       "  <thead>\n",
       "    <tr style=\"text-align: right;\">\n",
       "      <th></th>\n",
       "      <th>v1</th>\n",
       "      <th>v2</th>\n",
       "      <th>Unnamed: 2</th>\n",
       "      <th>Unnamed: 3</th>\n",
       "      <th>Unnamed: 4</th>\n",
       "    </tr>\n",
       "  </thead>\n",
       "  <tbody>\n",
       "    <tr>\n",
       "      <th>0</th>\n",
       "      <td>ham</td>\n",
       "      <td>Go until jurong point, crazy.. Available only ...</td>\n",
       "      <td>NaN</td>\n",
       "      <td>NaN</td>\n",
       "      <td>NaN</td>\n",
       "    </tr>\n",
       "    <tr>\n",
       "      <th>1</th>\n",
       "      <td>ham</td>\n",
       "      <td>Ok lar... Joking wif u oni...</td>\n",
       "      <td>NaN</td>\n",
       "      <td>NaN</td>\n",
       "      <td>NaN</td>\n",
       "    </tr>\n",
       "    <tr>\n",
       "      <th>2</th>\n",
       "      <td>spam</td>\n",
       "      <td>Free entry in 2 a wkly comp to win FA Cup fina...</td>\n",
       "      <td>NaN</td>\n",
       "      <td>NaN</td>\n",
       "      <td>NaN</td>\n",
       "    </tr>\n",
       "    <tr>\n",
       "      <th>3</th>\n",
       "      <td>ham</td>\n",
       "      <td>U dun say so early hor... U c already then say...</td>\n",
       "      <td>NaN</td>\n",
       "      <td>NaN</td>\n",
       "      <td>NaN</td>\n",
       "    </tr>\n",
       "    <tr>\n",
       "      <th>4</th>\n",
       "      <td>ham</td>\n",
       "      <td>Nah I don't think he goes to usf, he lives aro...</td>\n",
       "      <td>NaN</td>\n",
       "      <td>NaN</td>\n",
       "      <td>NaN</td>\n",
       "    </tr>\n",
       "  </tbody>\n",
       "</table>\n",
       "</div>"
      ],
      "text/plain": [
       "     v1                                                 v2 Unnamed: 2  \\\n",
       "0   ham  Go until jurong point, crazy.. Available only ...        NaN   \n",
       "1   ham                      Ok lar... Joking wif u oni...        NaN   \n",
       "2  spam  Free entry in 2 a wkly comp to win FA Cup fina...        NaN   \n",
       "3   ham  U dun say so early hor... U c already then say...        NaN   \n",
       "4   ham  Nah I don't think he goes to usf, he lives aro...        NaN   \n",
       "\n",
       "  Unnamed: 3 Unnamed: 4  \n",
       "0        NaN        NaN  \n",
       "1        NaN        NaN  \n",
       "2        NaN        NaN  \n",
       "3        NaN        NaN  \n",
       "4        NaN        NaN  "
      ]
     },
     "execution_count": 2,
     "metadata": {},
     "output_type": "execute_result"
    }
   ],
   "source": [
    "df.head()"
   ]
  },
  {
   "cell_type": "code",
   "execution_count": 3,
   "id": "2362e8cd",
   "metadata": {
    "execution": {
     "iopub.execute_input": "2024-07-02T12:35:00.153034Z",
     "iopub.status.busy": "2024-07-02T12:35:00.151804Z",
     "iopub.status.idle": "2024-07-02T12:35:00.187100Z",
     "shell.execute_reply": "2024-07-02T12:35:00.185936Z"
    },
    "papermill": {
     "duration": 0.050377,
     "end_time": "2024-07-02T12:35:00.189791",
     "exception": false,
     "start_time": "2024-07-02T12:35:00.139414",
     "status": "completed"
    },
    "tags": []
   },
   "outputs": [
    {
     "data": {
      "text/html": [
       "<div>\n",
       "<style scoped>\n",
       "    .dataframe tbody tr th:only-of-type {\n",
       "        vertical-align: middle;\n",
       "    }\n",
       "\n",
       "    .dataframe tbody tr th {\n",
       "        vertical-align: top;\n",
       "    }\n",
       "\n",
       "    .dataframe thead th {\n",
       "        text-align: right;\n",
       "    }\n",
       "</style>\n",
       "<table border=\"1\" class=\"dataframe\">\n",
       "  <thead>\n",
       "    <tr style=\"text-align: right;\">\n",
       "      <th></th>\n",
       "      <th>v1</th>\n",
       "      <th>v2</th>\n",
       "      <th>Unnamed: 2</th>\n",
       "      <th>Unnamed: 3</th>\n",
       "      <th>Unnamed: 4</th>\n",
       "    </tr>\n",
       "  </thead>\n",
       "  <tbody>\n",
       "    <tr>\n",
       "      <th>count</th>\n",
       "      <td>5572</td>\n",
       "      <td>5572</td>\n",
       "      <td>50</td>\n",
       "      <td>12</td>\n",
       "      <td>6</td>\n",
       "    </tr>\n",
       "    <tr>\n",
       "      <th>unique</th>\n",
       "      <td>2</td>\n",
       "      <td>5169</td>\n",
       "      <td>43</td>\n",
       "      <td>10</td>\n",
       "      <td>5</td>\n",
       "    </tr>\n",
       "    <tr>\n",
       "      <th>top</th>\n",
       "      <td>ham</td>\n",
       "      <td>Sorry, I'll call later</td>\n",
       "      <td>bt not his girlfrnd... G o o d n i g h t . . .@\"</td>\n",
       "      <td>MK17 92H. 450Ppw 16\"</td>\n",
       "      <td>GNT:-)\"</td>\n",
       "    </tr>\n",
       "    <tr>\n",
       "      <th>freq</th>\n",
       "      <td>4825</td>\n",
       "      <td>30</td>\n",
       "      <td>3</td>\n",
       "      <td>2</td>\n",
       "      <td>2</td>\n",
       "    </tr>\n",
       "  </tbody>\n",
       "</table>\n",
       "</div>"
      ],
      "text/plain": [
       "          v1                      v2  \\\n",
       "count   5572                    5572   \n",
       "unique     2                    5169   \n",
       "top      ham  Sorry, I'll call later   \n",
       "freq    4825                      30   \n",
       "\n",
       "                                               Unnamed: 2  \\\n",
       "count                                                  50   \n",
       "unique                                                 43   \n",
       "top      bt not his girlfrnd... G o o d n i g h t . . .@\"   \n",
       "freq                                                    3   \n",
       "\n",
       "                   Unnamed: 3 Unnamed: 4  \n",
       "count                      12          6  \n",
       "unique                     10          5  \n",
       "top      MK17 92H. 450Ppw 16\"    GNT:-)\"  \n",
       "freq                        2          2  "
      ]
     },
     "execution_count": 3,
     "metadata": {},
     "output_type": "execute_result"
    }
   ],
   "source": [
    "df.describe()"
   ]
  },
  {
   "cell_type": "code",
   "execution_count": 4,
   "id": "d4c159ec",
   "metadata": {
    "execution": {
     "iopub.execute_input": "2024-07-02T12:35:00.213185Z",
     "iopub.status.busy": "2024-07-02T12:35:00.212732Z",
     "iopub.status.idle": "2024-07-02T12:35:00.222462Z",
     "shell.execute_reply": "2024-07-02T12:35:00.221282Z"
    },
    "papermill": {
     "duration": 0.024287,
     "end_time": "2024-07-02T12:35:00.225053",
     "exception": false,
     "start_time": "2024-07-02T12:35:00.200766",
     "status": "completed"
    },
    "tags": []
   },
   "outputs": [
    {
     "name": "stdout",
     "output_type": "stream",
     "text": [
      "v1               0\n",
      "v2               0\n",
      "Unnamed: 2    5522\n",
      "Unnamed: 3    5560\n",
      "Unnamed: 4    5566\n",
      "dtype: int64\n"
     ]
    }
   ],
   "source": [
    "print(df.isnull().sum())"
   ]
  },
  {
   "cell_type": "code",
   "execution_count": 5,
   "id": "87f0ba57",
   "metadata": {
    "execution": {
     "iopub.execute_input": "2024-07-02T12:35:00.249069Z",
     "iopub.status.busy": "2024-07-02T12:35:00.248624Z",
     "iopub.status.idle": "2024-07-02T12:35:00.257046Z",
     "shell.execute_reply": "2024-07-02T12:35:00.255843Z"
    },
    "papermill": {
     "duration": 0.023285,
     "end_time": "2024-07-02T12:35:00.259667",
     "exception": false,
     "start_time": "2024-07-02T12:35:00.236382",
     "status": "completed"
    },
    "tags": []
   },
   "outputs": [
    {
     "name": "stdout",
     "output_type": "stream",
     "text": [
      "v1\n",
      "ham     4825\n",
      "spam     747\n",
      "Name: count, dtype: int64\n"
     ]
    }
   ],
   "source": [
    "variant_counts = df['v1'].value_counts()\n",
    "print(variant_counts)"
   ]
  },
  {
   "cell_type": "code",
   "execution_count": 6,
   "id": "b5ce66c4",
   "metadata": {
    "execution": {
     "iopub.execute_input": "2024-07-02T12:35:00.283775Z",
     "iopub.status.busy": "2024-07-02T12:35:00.283335Z",
     "iopub.status.idle": "2024-07-02T12:35:00.816105Z",
     "shell.execute_reply": "2024-07-02T12:35:00.814474Z"
    },
    "papermill": {
     "duration": 0.548198,
     "end_time": "2024-07-02T12:35:00.819011",
     "exception": false,
     "start_time": "2024-07-02T12:35:00.270813",
     "status": "completed"
    },
    "tags": []
   },
   "outputs": [
    {
     "data": {
      "image/png": "[encoded data removed]",
      "text/plain": [
       "<Figure size 400x400 with 1 Axes>"
      ]
     },
     "metadata": {},
     "output_type": "display_data"
    }
   ],
   "source": [
    "import matplotlib.pyplot as plt\n",
    "import seaborn as sns\n",
    "\n",
    "\n",
    "# Count the number of occurrences for each class\n",
    "class_counts = df['v1'].value_counts()\n",
    "\n",
    "# Create a pie chart\n",
    "plt.figure(figsize=(4, 4))\n",
    "plt.pie(class_counts, labels=class_counts.index, autopct='%1.1f%%', startangle=140, colors=sns.color_palette(\"viridis\", len(class_counts)))\n",
    "plt.title('Label Distribution')\n",
    "plt.show()\n"
   ]
  },
  {
   "cell_type": "code",
   "execution_count": 7,
   "id": "4b85da0b",
   "metadata": {
    "execution": {
     "iopub.execute_input": "2024-07-02T12:35:00.843568Z",
     "iopub.status.busy": "2024-07-02T12:35:00.843148Z",
     "iopub.status.idle": "2024-07-02T12:35:00.855535Z",
     "shell.execute_reply": "2024-07-02T12:35:00.854175Z"
    },
    "papermill": {
     "duration": 0.028502,
     "end_time": "2024-07-02T12:35:00.858964",
     "exception": false,
     "start_time": "2024-07-02T12:35:00.830462",
     "status": "completed"
    },
    "tags": []
   },
   "outputs": [
    {
     "name": "stdout",
     "output_type": "stream",
     "text": [
      "Index(['v1', 'v2'], dtype='object')\n"
     ]
    }
   ],
   "source": [
    "#remove the redundant features from my original data\n",
    "drop_features = ['Unnamed: 2', 'Unnamed: 3', 'Unnamed: 4']\n",
    "\n",
    "# Drop the columns\n",
    "df.drop(drop_features, axis=1, inplace=True)\n",
    "\n",
    "# Verify that the columns have been dropped\n",
    "print(df.columns)"
   ]
  },
  {
   "cell_type": "code",
   "execution_count": 8,
   "id": "c901e741",
   "metadata": {
    "execution": {
     "iopub.execute_input": "2024-07-02T12:35:00.884582Z",
     "iopub.status.busy": "2024-07-02T12:35:00.884162Z",
     "iopub.status.idle": "2024-07-02T12:35:00.896629Z",
     "shell.execute_reply": "2024-07-02T12:35:00.895286Z"
    },
    "papermill": {
     "duration": 0.028426,
     "end_time": "2024-07-02T12:35:00.899431",
     "exception": false,
     "start_time": "2024-07-02T12:35:00.871005",
     "status": "completed"
    },
    "tags": []
   },
   "outputs": [
    {
     "data": {
      "text/html": [
       "<div>\n",
       "<style scoped>\n",
       "    .dataframe tbody tr th:only-of-type {\n",
       "        vertical-align: middle;\n",
       "    }\n",
       "\n",
       "    .dataframe tbody tr th {\n",
       "        vertical-align: top;\n",
       "    }\n",
       "\n",
       "    .dataframe thead th {\n",
       "        text-align: right;\n",
       "    }\n",
       "</style>\n",
       "<table border=\"1\" class=\"dataframe\">\n",
       "  <thead>\n",
       "    <tr style=\"text-align: right;\">\n",
       "      <th></th>\n",
       "      <th>v1</th>\n",
       "      <th>v2</th>\n",
       "    </tr>\n",
       "  </thead>\n",
       "  <tbody>\n",
       "    <tr>\n",
       "      <th>0</th>\n",
       "      <td>ham</td>\n",
       "      <td>Go until jurong point, crazy.. Available only ...</td>\n",
       "    </tr>\n",
       "    <tr>\n",
       "      <th>1</th>\n",
       "      <td>ham</td>\n",
       "      <td>Ok lar... Joking wif u oni...</td>\n",
       "    </tr>\n",
       "    <tr>\n",
       "      <th>2</th>\n",
       "      <td>spam</td>\n",
       "      <td>Free entry in 2 a wkly comp to win FA Cup fina...</td>\n",
       "    </tr>\n",
       "    <tr>\n",
       "      <th>3</th>\n",
       "      <td>ham</td>\n",
       "      <td>U dun say so early hor... U c already then say...</td>\n",
       "    </tr>\n",
       "    <tr>\n",
       "      <th>4</th>\n",
       "      <td>ham</td>\n",
       "      <td>Nah I don't think he goes to usf, he lives aro...</td>\n",
       "    </tr>\n",
       "    <tr>\n",
       "      <th>5</th>\n",
       "      <td>spam</td>\n",
       "      <td>FreeMsg Hey there darling it's been 3 week's n...</td>\n",
       "    </tr>\n",
       "    <tr>\n",
       "      <th>6</th>\n",
       "      <td>ham</td>\n",
       "      <td>Even my brother is not like to speak with me. ...</td>\n",
       "    </tr>\n",
       "    <tr>\n",
       "      <th>7</th>\n",
       "      <td>ham</td>\n",
       "      <td>As per your request 'Melle Melle (Oru Minnamin...</td>\n",
       "    </tr>\n",
       "    <tr>\n",
       "      <th>8</th>\n",
       "      <td>spam</td>\n",
       "      <td>WINNER!! As a valued network customer you have...</td>\n",
       "    </tr>\n",
       "    <tr>\n",
       "      <th>9</th>\n",
       "      <td>spam</td>\n",
       "      <td>Had your mobile 11 months or more? U R entitle...</td>\n",
       "    </tr>\n",
       "  </tbody>\n",
       "</table>\n",
       "</div>"
      ],
      "text/plain": [
       "     v1                                                 v2\n",
       "0   ham  Go until jurong point, crazy.. Available only ...\n",
       "1   ham                      Ok lar... Joking wif u oni...\n",
       "2  spam  Free entry in 2 a wkly comp to win FA Cup fina...\n",
       "3   ham  U dun say so early hor... U c already then say...\n",
       "4   ham  Nah I don't think he goes to usf, he lives aro...\n",
       "5  spam  FreeMsg Hey there darling it's been 3 week's n...\n",
       "6   ham  Even my brother is not like to speak with me. ...\n",
       "7   ham  As per your request 'Melle Melle (Oru Minnamin...\n",
       "8  spam  WINNER!! As a valued network customer you have...\n",
       "9  spam  Had your mobile 11 months or more? U R entitle..."
      ]
     },
     "execution_count": 8,
     "metadata": {},
     "output_type": "execute_result"
    }
   ],
   "source": [
    "df.head(10)"
   ]
  },
  {
   "cell_type": "code",
   "execution_count": 9,
   "id": "e1694c2e",
   "metadata": {
    "execution": {
     "iopub.execute_input": "2024-07-02T12:35:00.925154Z",
     "iopub.status.busy": "2024-07-02T12:35:00.924686Z",
     "iopub.status.idle": "2024-07-02T12:35:00.932646Z",
     "shell.execute_reply": "2024-07-02T12:35:00.931382Z"
    },
    "papermill": {
     "duration": 0.024365,
     "end_time": "2024-07-02T12:35:00.935652",
     "exception": false,
     "start_time": "2024-07-02T12:35:00.911287",
     "status": "completed"
    },
    "tags": []
   },
   "outputs": [],
   "source": [
    "#original structure is built having email and label accordingly. So i needed to fix it like this:\n",
    "column_name = ['email', 'label']\n",
    "\n",
    "df = pd.DataFrame({column_name[0]: df['v2'], column_name[1]: df['v1']})"
   ]
  },
  {
   "cell_type": "code",
   "execution_count": 10,
   "id": "7d93f2dd",
   "metadata": {
    "execution": {
     "iopub.execute_input": "2024-07-02T12:35:00.961237Z",
     "iopub.status.busy": "2024-07-02T12:35:00.960789Z",
     "iopub.status.idle": "2024-07-02T12:35:00.973815Z",
     "shell.execute_reply": "2024-07-02T12:35:00.972582Z"
    },
    "papermill": {
     "duration": 0.029216,
     "end_time": "2024-07-02T12:35:00.976574",
     "exception": false,
     "start_time": "2024-07-02T12:35:00.947358",
     "status": "completed"
    },
    "tags": []
   },
   "outputs": [
    {
     "data": {
      "text/html": [
       "<div>\n",
       "<style scoped>\n",
       "    .dataframe tbody tr th:only-of-type {\n",
       "        vertical-align: middle;\n",
       "    }\n",
       "\n",
       "    .dataframe tbody tr th {\n",
       "        vertical-align: top;\n",
       "    }\n",
       "\n",
       "    .dataframe thead th {\n",
       "        text-align: right;\n",
       "    }\n",
       "</style>\n",
       "<table border=\"1\" class=\"dataframe\">\n",
       "  <thead>\n",
       "    <tr style=\"text-align: right;\">\n",
       "      <th></th>\n",
       "      <th>email</th>\n",
       "      <th>label</th>\n",
       "    </tr>\n",
       "  </thead>\n",
       "  <tbody>\n",
       "    <tr>\n",
       "      <th>0</th>\n",
       "      <td>Go until jurong point, crazy.. Available only ...</td>\n",
       "      <td>ham</td>\n",
       "    </tr>\n",
       "    <tr>\n",
       "      <th>1</th>\n",
       "      <td>Ok lar... Joking wif u oni...</td>\n",
       "      <td>ham</td>\n",
       "    </tr>\n",
       "    <tr>\n",
       "      <th>2</th>\n",
       "      <td>Free entry in 2 a wkly comp to win FA Cup fina...</td>\n",
       "      <td>spam</td>\n",
       "    </tr>\n",
       "    <tr>\n",
       "      <th>3</th>\n",
       "      <td>U dun say so early hor... U c already then say...</td>\n",
       "      <td>ham</td>\n",
       "    </tr>\n",
       "    <tr>\n",
       "      <th>4</th>\n",
       "      <td>Nah I don't think he goes to usf, he lives aro...</td>\n",
       "      <td>ham</td>\n",
       "    </tr>\n",
       "    <tr>\n",
       "      <th>5</th>\n",
       "      <td>FreeMsg Hey there darling it's been 3 week's n...</td>\n",
       "      <td>spam</td>\n",
       "    </tr>\n",
       "    <tr>\n",
       "      <th>6</th>\n",
       "      <td>Even my brother is not like to speak with me. ...</td>\n",
       "      <td>ham</td>\n",
       "    </tr>\n",
       "    <tr>\n",
       "      <th>7</th>\n",
       "      <td>As per your request 'Melle Melle (Oru Minnamin...</td>\n",
       "      <td>ham</td>\n",
       "    </tr>\n",
       "    <tr>\n",
       "      <th>8</th>\n",
       "      <td>WINNER!! As a valued network customer you have...</td>\n",
       "      <td>spam</td>\n",
       "    </tr>\n",
       "    <tr>\n",
       "      <th>9</th>\n",
       "      <td>Had your mobile 11 months or more? U R entitle...</td>\n",
       "      <td>spam</td>\n",
       "    </tr>\n",
       "  </tbody>\n",
       "</table>\n",
       "</div>"
      ],
      "text/plain": [
       "                                               email label\n",
       "0  Go until jurong point, crazy.. Available only ...   ham\n",
       "1                      Ok lar... Joking wif u oni...   ham\n",
       "2  Free entry in 2 a wkly comp to win FA Cup fina...  spam\n",
       "3  U dun say so early hor... U c already then say...   ham\n",
       "4  Nah I don't think he goes to usf, he lives aro...   ham\n",
       "5  FreeMsg Hey there darling it's been 3 week's n...  spam\n",
       "6  Even my brother is not like to speak with me. ...   ham\n",
       "7  As per your request 'Melle Melle (Oru Minnamin...   ham\n",
       "8  WINNER!! As a valued network customer you have...  spam\n",
       "9  Had your mobile 11 months or more? U R entitle...  spam"
      ]
     },
     "execution_count": 10,
     "metadata": {},
     "output_type": "execute_result"
    }
   ],
   "source": [
    "df.head(10)"
   ]
  },
  {
   "cell_type": "code",
   "execution_count": 11,
   "id": "4eca151b",
   "metadata": {
    "execution": {
     "iopub.execute_input": "2024-07-02T12:35:01.003892Z",
     "iopub.status.busy": "2024-07-02T12:35:01.002819Z",
     "iopub.status.idle": "2024-07-02T12:35:01.011483Z",
     "shell.execute_reply": "2024-07-02T12:35:01.010252Z"
    },
    "papermill": {
     "duration": 0.0247,
     "end_time": "2024-07-02T12:35:01.013948",
     "exception": false,
     "start_time": "2024-07-02T12:35:00.989248",
     "status": "completed"
    },
    "tags": []
   },
   "outputs": [],
   "source": [
    "#MOST IMPORTANT PART IS:\n",
    "def preprocessing_words(mylist):\n",
    "\n",
    "    \n",
    "    #first, get rid of non-alphabetics in the data\n",
    "    mylist = re.sub('[^a-zA-Z]', ' ', mylist)\n",
    "   \n",
    "    #second, make the text to tokens as lowercases\n",
    "    tokens = word_tokenize(mylist.lower())\n",
    "    \n",
    "    #third, remove the stopwords from my data\n",
    "    filtered_sentence = []\n",
    "    stop_words = set(stopwords.words('english'))    #my stopwords that i want to remove is based on english\n",
    "    for w in tokens:                                #going through each tokens in email datas. \n",
    "        if w not in stop_words:                     #if no stopword is found,then save it into list (filtered_sentence)\n",
    "            filtered_sentence.append(w)\n",
    "            \n",
    "    from nltk.stem import PorterStemmer\n",
    "    #forth, go deeper until the stem of the saved token in filtered sentence\n",
    "    ps = PorterStemmer()\n",
    "    stemmed_tokens = [ps.stem(token) for token in filtered_sentence] \n",
    "    #ps.stem(word) -- finding out the stem of word!, then add it into stemmed_token serie\n",
    "    return stemmed_tokens"
   ]
  },
  {
   "cell_type": "code",
   "execution_count": 12,
   "id": "a842912b",
   "metadata": {
    "execution": {
     "iopub.execute_input": "2024-07-02T12:35:01.040320Z",
     "iopub.status.busy": "2024-07-02T12:35:01.039438Z",
     "iopub.status.idle": "2024-07-02T12:35:05.503213Z",
     "shell.execute_reply": "2024-07-02T12:35:05.501629Z"
    },
    "papermill": {
     "duration": 4.480351,
     "end_time": "2024-07-02T12:35:05.506441",
     "exception": false,
     "start_time": "2024-07-02T12:35:01.026090",
     "status": "completed"
    },
    "tags": []
   },
   "outputs": [],
   "source": [
    "#after each token was stemmed, save all of tokens in stemmed format into new place in df ['email_processed']\n",
    "df['email_processed'] = df['email'].apply(preprocessing_words)"
   ]
  },
  {
   "cell_type": "code",
   "execution_count": 13,
   "id": "b4bb133c",
   "metadata": {
    "execution": {
     "iopub.execute_input": "2024-07-02T12:35:05.533490Z",
     "iopub.status.busy": "2024-07-02T12:35:05.533084Z",
     "iopub.status.idle": "2024-07-02T12:35:05.552960Z",
     "shell.execute_reply": "2024-07-02T12:35:05.551870Z"
    },
    "papermill": {
     "duration": 0.036314,
     "end_time": "2024-07-02T12:35:05.555663",
     "exception": false,
     "start_time": "2024-07-02T12:35:05.519349",
     "status": "completed"
    },
    "tags": []
   },
   "outputs": [
    {
     "data": {
      "text/html": [
       "<div>\n",
       "<style scoped>\n",
       "    .dataframe tbody tr th:only-of-type {\n",
       "        vertical-align: middle;\n",
       "    }\n",
       "\n",
       "    .dataframe tbody tr th {\n",
       "        vertical-align: top;\n",
       "    }\n",
       "\n",
       "    .dataframe thead th {\n",
       "        text-align: right;\n",
       "    }\n",
       "</style>\n",
       "<table border=\"1\" class=\"dataframe\">\n",
       "  <thead>\n",
       "    <tr style=\"text-align: right;\">\n",
       "      <th></th>\n",
       "      <th>email</th>\n",
       "      <th>label</th>\n",
       "      <th>email_processed</th>\n",
       "    </tr>\n",
       "  </thead>\n",
       "  <tbody>\n",
       "    <tr>\n",
       "      <th>0</th>\n",
       "      <td>Go until jurong point, crazy.. Available only ...</td>\n",
       "      <td>ham</td>\n",
       "      <td>[go, jurong, point, crazi, avail, bugi, n, gre...</td>\n",
       "    </tr>\n",
       "    <tr>\n",
       "      <th>1</th>\n",
       "      <td>Ok lar... Joking wif u oni...</td>\n",
       "      <td>ham</td>\n",
       "      <td>[ok, lar, joke, wif, u, oni]</td>\n",
       "    </tr>\n",
       "    <tr>\n",
       "      <th>2</th>\n",
       "      <td>Free entry in 2 a wkly comp to win FA Cup fina...</td>\n",
       "      <td>spam</td>\n",
       "      <td>[free, entri, wkli, comp, win, fa, cup, final,...</td>\n",
       "    </tr>\n",
       "    <tr>\n",
       "      <th>3</th>\n",
       "      <td>U dun say so early hor... U c already then say...</td>\n",
       "      <td>ham</td>\n",
       "      <td>[u, dun, say, earli, hor, u, c, alreadi, say]</td>\n",
       "    </tr>\n",
       "    <tr>\n",
       "      <th>4</th>\n",
       "      <td>Nah I don't think he goes to usf, he lives aro...</td>\n",
       "      <td>ham</td>\n",
       "      <td>[nah, think, goe, usf, live, around, though]</td>\n",
       "    </tr>\n",
       "    <tr>\n",
       "      <th>5</th>\n",
       "      <td>FreeMsg Hey there darling it's been 3 week's n...</td>\n",
       "      <td>spam</td>\n",
       "      <td>[freemsg, hey, darl, week, word, back, like, f...</td>\n",
       "    </tr>\n",
       "    <tr>\n",
       "      <th>6</th>\n",
       "      <td>Even my brother is not like to speak with me. ...</td>\n",
       "      <td>ham</td>\n",
       "      <td>[even, brother, like, speak, treat, like, aid,...</td>\n",
       "    </tr>\n",
       "    <tr>\n",
       "      <th>7</th>\n",
       "      <td>As per your request 'Melle Melle (Oru Minnamin...</td>\n",
       "      <td>ham</td>\n",
       "      <td>[per, request, mell, mell, oru, minnaminungint...</td>\n",
       "    </tr>\n",
       "    <tr>\n",
       "      <th>8</th>\n",
       "      <td>WINNER!! As a valued network customer you have...</td>\n",
       "      <td>spam</td>\n",
       "      <td>[winner, valu, network, custom, select, receiv...</td>\n",
       "    </tr>\n",
       "    <tr>\n",
       "      <th>9</th>\n",
       "      <td>Had your mobile 11 months or more? U R entitle...</td>\n",
       "      <td>spam</td>\n",
       "      <td>[mobil, month, u, r, entitl, updat, latest, co...</td>\n",
       "    </tr>\n",
       "  </tbody>\n",
       "</table>\n",
       "</div>"
      ],
      "text/plain": [
       "                                               email label  \\\n",
       "0  Go until jurong point, crazy.. Available only ...   ham   \n",
       "1                      Ok lar... Joking wif u oni...   ham   \n",
       "2  Free entry in 2 a wkly comp to win FA Cup fina...  spam   \n",
       "3  U dun say so early hor... U c already then say...   ham   \n",
       "4  Nah I don't think he goes to usf, he lives aro...   ham   \n",
       "5  FreeMsg Hey there darling it's been 3 week's n...  spam   \n",
       "6  Even my brother is not like to speak with me. ...   ham   \n",
       "7  As per your request 'Melle Melle (Oru Minnamin...   ham   \n",
       "8  WINNER!! As a valued network customer you have...  spam   \n",
       "9  Had your mobile 11 months or more? U R entitle...  spam   \n",
       "\n",
       "                                     email_processed  \n",
       "0  [go, jurong, point, crazi, avail, bugi, n, gre...  \n",
       "1                       [ok, lar, joke, wif, u, oni]  \n",
       "2  [free, entri, wkli, comp, win, fa, cup, final,...  \n",
       "3      [u, dun, say, earli, hor, u, c, alreadi, say]  \n",
       "4       [nah, think, goe, usf, live, around, though]  \n",
       "5  [freemsg, hey, darl, week, word, back, like, f...  \n",
       "6  [even, brother, like, speak, treat, like, aid,...  \n",
       "7  [per, request, mell, mell, oru, minnaminungint...  \n",
       "8  [winner, valu, network, custom, select, receiv...  \n",
       "9  [mobil, month, u, r, entitl, updat, latest, co...  "
      ]
     },
     "execution_count": 13,
     "metadata": {},
     "output_type": "execute_result"
    }
   ],
   "source": [
    "df.head(10)"
   ]
  },
  {
   "cell_type": "code",
   "execution_count": 14,
   "id": "4e937850",
   "metadata": {
    "execution": {
     "iopub.execute_input": "2024-07-02T12:35:05.582658Z",
     "iopub.status.busy": "2024-07-02T12:35:05.582209Z",
     "iopub.status.idle": "2024-07-02T12:35:05.718609Z",
     "shell.execute_reply": "2024-07-02T12:35:05.717366Z"
    },
    "papermill": {
     "duration": 0.153123,
     "end_time": "2024-07-02T12:35:05.721429",
     "exception": false,
     "start_time": "2024-07-02T12:35:05.568306",
     "status": "completed"
    },
    "tags": []
   },
   "outputs": [],
   "source": [
    "#seperate all emails into ham and spam data as a 2 different list\n",
    "\n",
    "all_ham_data = []\n",
    "all_spam_data = []\n",
    "\n",
    "for i in range(len(df['label'])):\n",
    "    if df['label'][i] == 'ham':\n",
    "        all_ham_data += [df['email'][i]]\n",
    "    else:\n",
    "       all_spam_data += [df['email'][i]] "
   ]
  },
  {
   "cell_type": "code",
   "execution_count": 15,
   "id": "f649b9db",
   "metadata": {
    "execution": {
     "iopub.execute_input": "2024-07-02T12:35:05.748974Z",
     "iopub.status.busy": "2024-07-02T12:35:05.747691Z",
     "iopub.status.idle": "2024-07-02T12:35:05.755083Z",
     "shell.execute_reply": "2024-07-02T12:35:05.753924Z"
    },
    "papermill": {
     "duration": 0.023885,
     "end_time": "2024-07-02T12:35:05.757830",
     "exception": false,
     "start_time": "2024-07-02T12:35:05.733945",
     "status": "completed"
    },
    "tags": []
   },
   "outputs": [
    {
     "data": {
      "text/plain": [
       "list"
      ]
     },
     "execution_count": 15,
     "metadata": {},
     "output_type": "execute_result"
    }
   ],
   "source": [
    "type(all_spam_data)"
   ]
  },
  {
   "cell_type": "code",
   "execution_count": 16,
   "id": "9e56bd5e",
   "metadata": {
    "execution": {
     "iopub.execute_input": "2024-07-02T12:35:05.785841Z",
     "iopub.status.busy": "2024-07-02T12:35:05.785379Z",
     "iopub.status.idle": "2024-07-02T12:35:05.791423Z",
     "shell.execute_reply": "2024-07-02T12:35:05.790329Z"
    },
    "papermill": {
     "duration": 0.023382,
     "end_time": "2024-07-02T12:35:05.794017",
     "exception": false,
     "start_time": "2024-07-02T12:35:05.770635",
     "status": "completed"
    },
    "tags": []
   },
   "outputs": [],
   "source": [
    "#spam and ham data to string format of spam and ham data\n",
    "#the reason is to be used in wordcloud. Word cloud needs to take input in string format. Thats why i need to change from list to string \n",
    "str_spam_data = ' '.join(all_spam_data)\n",
    "str_ham_data = ' '.join(all_ham_data)"
   ]
  },
  {
   "cell_type": "code",
   "execution_count": 17,
   "id": "eed3cc88",
   "metadata": {
    "execution": {
     "iopub.execute_input": "2024-07-02T12:35:05.820927Z",
     "iopub.status.busy": "2024-07-02T12:35:05.820488Z",
     "iopub.status.idle": "2024-07-02T12:35:09.379149Z",
     "shell.execute_reply": "2024-07-02T12:35:09.377576Z"
    },
    "papermill": {
     "duration": 3.576792,
     "end_time": "2024-07-02T12:35:09.383400",
     "exception": false,
     "start_time": "2024-07-02T12:35:05.806608",
     "status": "completed"
    },
    "tags": []
   },
   "outputs": [
    {
     "data": {
      "image/png": "[encoded data removed]",
      "text/plain": [
       "<Figure size 640x480 with 2 Axes>"
      ]
     },
     "metadata": {},
     "output_type": "display_data"
    }
   ],
   "source": [
    "from wordcloud import WordCloud\n",
    "import matplotlib.pyplot as plt\n",
    "\n",
    "\n",
    "# Ham word cloud\n",
    "plt.subplot(1, 2, 1)\n",
    "ham_wordcloud = WordCloud(width=800, height=600, background_color='white').generate(str_ham_data)\n",
    "plt.imshow(ham_wordcloud, interpolation='bilinear')\n",
    "plt.axis('off')\n",
    "plt.title('Word Cloud for Ham Emails')\n",
    "\n",
    "# Spam word cloud\n",
    "plt.subplot(1, 2, 2)\n",
    "spam_wordcloud =  WordCloud(width=800, height=600, background_color='white').generate(str_spam_data)\n",
    "plt.imshow(spam_wordcloud, interpolation='bilinear')\n",
    "plt.axis('off')\n",
    "plt.title('Word Cloud for Spam Emails')\n",
    "\n",
    "plt.show()"
   ]
  },
  {
   "cell_type": "code",
   "execution_count": 18,
   "id": "a3fab2ef",
   "metadata": {
    "execution": {
     "iopub.execute_input": "2024-07-02T12:35:09.427426Z",
     "iopub.status.busy": "2024-07-02T12:35:09.426720Z",
     "iopub.status.idle": "2024-07-02T12:35:09.436255Z",
     "shell.execute_reply": "2024-07-02T12:35:09.434839Z"
    },
    "papermill": {
     "duration": 0.029456,
     "end_time": "2024-07-02T12:35:09.439188",
     "exception": false,
     "start_time": "2024-07-02T12:35:09.409732",
     "status": "completed"
    },
    "tags": []
   },
   "outputs": [],
   "source": [
    "#after stemmign, I am wondering which word was used and how many times. \n",
    "# Addition to that, these words will be using in vectorise the email data so that i will go the model like features    \n",
    "\n",
    "def token_most_common(spam_or_ham):\n",
    "    from collections import Counter\n",
    "\n",
    "    # fetch the data in series form \n",
    "    series_data = df['email_processed'][df['label'] == spam_or_ham]\n",
    "    \n",
    "    # change to list so that it would be flattened\n",
    "    flattened_list = [item for sublist in series_data for item in sublist]\n",
    "\n",
    "    # Join list into a single string\n",
    "    str_data = ' '.join(flattened_list)\n",
    "    \n",
    "    #find the 20 most used words in ham and spam emails \n",
    "    c = Counter(word_tokenize(str_data))\n",
    "    return c.most_common(20)\n"
   ]
  },
  {
   "cell_type": "code",
   "execution_count": 19,
   "id": "6a82adbb",
   "metadata": {
    "execution": {
     "iopub.execute_input": "2024-07-02T12:35:09.472118Z",
     "iopub.status.busy": "2024-07-02T12:35:09.471545Z",
     "iopub.status.idle": "2024-07-02T12:35:09.909460Z",
     "shell.execute_reply": "2024-07-02T12:35:09.908241Z"
    },
    "papermill": {
     "duration": 0.457575,
     "end_time": "2024-07-02T12:35:09.912347",
     "exception": false,
     "start_time": "2024-07-02T12:35:09.454772",
     "status": "completed"
    },
    "tags": []
   },
   "outputs": [],
   "source": [
    "#calling most used common word function here\n",
    "most_common_ham = token_most_common('ham')\n",
    "most_common_spam = token_most_common('spam')"
   ]
  },
  {
   "cell_type": "code",
   "execution_count": 20,
   "id": "73a04e4b",
   "metadata": {
    "execution": {
     "iopub.execute_input": "2024-07-02T12:35:09.944976Z",
     "iopub.status.busy": "2024-07-02T12:35:09.943807Z",
     "iopub.status.idle": "2024-07-02T12:35:10.950550Z",
     "shell.execute_reply": "2024-07-02T12:35:10.949438Z"
    },
    "papermill": {
     "duration": 1.02596,
     "end_time": "2024-07-02T12:35:10.953295",
     "exception": false,
     "start_time": "2024-07-02T12:35:09.927335",
     "status": "completed"
    },
    "tags": []
   },
   "outputs": [
    {
     "data": {
      "image/png": "[encoded data removed]",
      "text/plain": [
       "<Figure size 1000x1000 with 2 Axes>"
      ]
     },
     "metadata": {},
     "output_type": "display_data"
    }
   ],
   "source": [
    "# let see how to visualise which word was used at most and how many times\n",
    "\n",
    "# Extract x and y values for both data sets\n",
    "x_values1 = [item[0] for item in most_common_ham]\n",
    "y_values1 = [item[1] for item in most_common_ham]\n",
    "\n",
    "x_values2 = [item[0] for item in most_common_spam]\n",
    "y_values2 = [item[1] for item in most_common_spam]\n",
    "\n",
    "# Create a figure and a set of subplots\n",
    "fig, (ax1, ax2) = plt.subplots(2, 1, figsize=(10, 10))\n",
    "\n",
    "# Plot the first data set on the first subplot\n",
    "ax1.bar(x_values1, y_values1, color='blue')\n",
    "ax1.set_title('The First 20 Common Words in Ham Emails')\n",
    "ax1.set_xlabel('X-axis')\n",
    "ax1.set_ylabel('Y-axis')\n",
    "ax1.set_xticks(range(len(x_values1)))  # Set the ticks to the number of items\n",
    "ax1.set_xticklabels(x_values1, rotation=45, ha='right')  # Rotate the labels\n",
    "\n",
    "# Plot the second data set on the second subplot\n",
    "ax2.bar(x_values2, y_values2, color='red')\n",
    "ax2.set_title('The First 20 Common Words in Spam Emails')\n",
    "ax2.set_xlabel('X-axis')\n",
    "ax2.set_ylabel('Y-axis')\n",
    "ax2.set_xticks(range(len(x_values2)))  # Set the ticks to the number of items\n",
    "ax2.set_xticklabels(x_values2, rotation=45, ha='right')  # Rotate the labels\n",
    "\n",
    "# Adjust layout to prevent overlap\n",
    "plt.tight_layout()\n",
    "\n",
    "# Show the plot\n",
    "plt.show()"
   ]
  },
  {
   "cell_type": "code",
   "execution_count": 21,
   "id": "9ed956cc",
   "metadata": {
    "execution": {
     "iopub.execute_input": "2024-07-02T12:35:10.989012Z",
     "iopub.status.busy": "2024-07-02T12:35:10.988541Z",
     "iopub.status.idle": "2024-07-02T12:35:10.997518Z",
     "shell.execute_reply": "2024-07-02T12:35:10.996092Z"
    },
    "papermill": {
     "duration": 0.029806,
     "end_time": "2024-07-02T12:35:11.000323",
     "exception": false,
     "start_time": "2024-07-02T12:35:10.970517",
     "status": "completed"
    },
    "tags": []
   },
   "outputs": [],
   "source": [
    "from sklearn.preprocessing import LabelEncoder\n",
    "label_encoder = LabelEncoder()\n",
    "df['label_encoded'] = label_encoder.fit_transform(df['label'])"
   ]
  },
  {
   "cell_type": "code",
   "execution_count": 22,
   "id": "a66979a0",
   "metadata": {
    "execution": {
     "iopub.execute_input": "2024-07-02T12:35:11.034573Z",
     "iopub.status.busy": "2024-07-02T12:35:11.034142Z",
     "iopub.status.idle": "2024-07-02T12:35:11.053123Z",
     "shell.execute_reply": "2024-07-02T12:35:11.051699Z"
    },
    "papermill": {
     "duration": 0.039488,
     "end_time": "2024-07-02T12:35:11.055812",
     "exception": false,
     "start_time": "2024-07-02T12:35:11.016324",
     "status": "completed"
    },
    "tags": []
   },
   "outputs": [
    {
     "data": {
      "text/html": [
       "<div>\n",
       "<style scoped>\n",
       "    .dataframe tbody tr th:only-of-type {\n",
       "        vertical-align: middle;\n",
       "    }\n",
       "\n",
       "    .dataframe tbody tr th {\n",
       "        vertical-align: top;\n",
       "    }\n",
       "\n",
       "    .dataframe thead th {\n",
       "        text-align: right;\n",
       "    }\n",
       "</style>\n",
       "<table border=\"1\" class=\"dataframe\">\n",
       "  <thead>\n",
       "    <tr style=\"text-align: right;\">\n",
       "      <th></th>\n",
       "      <th>email</th>\n",
       "      <th>label</th>\n",
       "      <th>email_processed</th>\n",
       "      <th>label_encoded</th>\n",
       "    </tr>\n",
       "  </thead>\n",
       "  <tbody>\n",
       "    <tr>\n",
       "      <th>0</th>\n",
       "      <td>Go until jurong point, crazy.. Available only ...</td>\n",
       "      <td>ham</td>\n",
       "      <td>[go, jurong, point, crazi, avail, bugi, n, gre...</td>\n",
       "      <td>0</td>\n",
       "    </tr>\n",
       "    <tr>\n",
       "      <th>1</th>\n",
       "      <td>Ok lar... Joking wif u oni...</td>\n",
       "      <td>ham</td>\n",
       "      <td>[ok, lar, joke, wif, u, oni]</td>\n",
       "      <td>0</td>\n",
       "    </tr>\n",
       "    <tr>\n",
       "      <th>2</th>\n",
       "      <td>Free entry in 2 a wkly comp to win FA Cup fina...</td>\n",
       "      <td>spam</td>\n",
       "      <td>[free, entri, wkli, comp, win, fa, cup, final,...</td>\n",
       "      <td>1</td>\n",
       "    </tr>\n",
       "    <tr>\n",
       "      <th>3</th>\n",
       "      <td>U dun say so early hor... U c already then say...</td>\n",
       "      <td>ham</td>\n",
       "      <td>[u, dun, say, earli, hor, u, c, alreadi, say]</td>\n",
       "      <td>0</td>\n",
       "    </tr>\n",
       "    <tr>\n",
       "      <th>4</th>\n",
       "      <td>Nah I don't think he goes to usf, he lives aro...</td>\n",
       "      <td>ham</td>\n",
       "      <td>[nah, think, goe, usf, live, around, though]</td>\n",
       "      <td>0</td>\n",
       "    </tr>\n",
       "    <tr>\n",
       "      <th>5</th>\n",
       "      <td>FreeMsg Hey there darling it's been 3 week's n...</td>\n",
       "      <td>spam</td>\n",
       "      <td>[freemsg, hey, darl, week, word, back, like, f...</td>\n",
       "      <td>1</td>\n",
       "    </tr>\n",
       "    <tr>\n",
       "      <th>6</th>\n",
       "      <td>Even my brother is not like to speak with me. ...</td>\n",
       "      <td>ham</td>\n",
       "      <td>[even, brother, like, speak, treat, like, aid,...</td>\n",
       "      <td>0</td>\n",
       "    </tr>\n",
       "    <tr>\n",
       "      <th>7</th>\n",
       "      <td>As per your request 'Melle Melle (Oru Minnamin...</td>\n",
       "      <td>ham</td>\n",
       "      <td>[per, request, mell, mell, oru, minnaminungint...</td>\n",
       "      <td>0</td>\n",
       "    </tr>\n",
       "    <tr>\n",
       "      <th>8</th>\n",
       "      <td>WINNER!! As a valued network customer you have...</td>\n",
       "      <td>spam</td>\n",
       "      <td>[winner, valu, network, custom, select, receiv...</td>\n",
       "      <td>1</td>\n",
       "    </tr>\n",
       "    <tr>\n",
       "      <th>9</th>\n",
       "      <td>Had your mobile 11 months or more? U R entitle...</td>\n",
       "      <td>spam</td>\n",
       "      <td>[mobil, month, u, r, entitl, updat, latest, co...</td>\n",
       "      <td>1</td>\n",
       "    </tr>\n",
       "  </tbody>\n",
       "</table>\n",
       "</div>"
      ],
      "text/plain": [
       "                                               email label  \\\n",
       "0  Go until jurong point, crazy.. Available only ...   ham   \n",
       "1                      Ok lar... Joking wif u oni...   ham   \n",
       "2  Free entry in 2 a wkly comp to win FA Cup fina...  spam   \n",
       "3  U dun say so early hor... U c already then say...   ham   \n",
       "4  Nah I don't think he goes to usf, he lives aro...   ham   \n",
       "5  FreeMsg Hey there darling it's been 3 week's n...  spam   \n",
       "6  Even my brother is not like to speak with me. ...   ham   \n",
       "7  As per your request 'Melle Melle (Oru Minnamin...   ham   \n",
       "8  WINNER!! As a valued network customer you have...  spam   \n",
       "9  Had your mobile 11 months or more? U R entitle...  spam   \n",
       "\n",
       "                                     email_processed  label_encoded  \n",
       "0  [go, jurong, point, crazi, avail, bugi, n, gre...              0  \n",
       "1                       [ok, lar, joke, wif, u, oni]              0  \n",
       "2  [free, entri, wkli, comp, win, fa, cup, final,...              1  \n",
       "3      [u, dun, say, earli, hor, u, c, alreadi, say]              0  \n",
       "4       [nah, think, goe, usf, live, around, though]              0  \n",
       "5  [freemsg, hey, darl, week, word, back, like, f...              1  \n",
       "6  [even, brother, like, speak, treat, like, aid,...              0  \n",
       "7  [per, request, mell, mell, oru, minnaminungint...              0  \n",
       "8  [winner, valu, network, custom, select, receiv...              1  \n",
       "9  [mobil, month, u, r, entitl, updat, latest, co...              1  "
      ]
     },
     "execution_count": 22,
     "metadata": {},
     "output_type": "execute_result"
    }
   ],
   "source": [
    "df.head(10)"
   ]
  },
  {
   "cell_type": "code",
   "execution_count": 23,
   "id": "9f9b7b00",
   "metadata": {
    "execution": {
     "iopub.execute_input": "2024-07-02T12:35:11.090945Z",
     "iopub.status.busy": "2024-07-02T12:35:11.090117Z",
     "iopub.status.idle": "2024-07-02T12:35:11.097221Z",
     "shell.execute_reply": "2024-07-02T12:35:11.096054Z"
    },
    "papermill": {
     "duration": 0.027359,
     "end_time": "2024-07-02T12:35:11.099601",
     "exception": false,
     "start_time": "2024-07-02T12:35:11.072242",
     "status": "completed"
    },
    "tags": []
   },
   "outputs": [
    {
     "data": {
      "text/plain": [
       "(5572, 4)"
      ]
     },
     "execution_count": 23,
     "metadata": {},
     "output_type": "execute_result"
    }
   ],
   "source": [
    "df.shape"
   ]
  },
  {
   "cell_type": "code",
   "execution_count": 24,
   "id": "38cd3b2a",
   "metadata": {
    "execution": {
     "iopub.execute_input": "2024-07-02T12:35:11.134468Z",
     "iopub.status.busy": "2024-07-02T12:35:11.133998Z",
     "iopub.status.idle": "2024-07-02T12:35:11.473287Z",
     "shell.execute_reply": "2024-07-02T12:35:11.472114Z"
    },
    "papermill": {
     "duration": 0.360151,
     "end_time": "2024-07-02T12:35:11.476114",
     "exception": false,
     "start_time": "2024-07-02T12:35:11.115963",
     "status": "completed"
    },
    "tags": []
   },
   "outputs": [],
   "source": [
    "from sklearn.model_selection import train_test_split\n",
    "from sklearn.feature_extraction.text import TfidfVectorizer\n",
    "\n",
    "# Ensure that 'email_processed' column is of type string\n",
    "X = df['email_processed'].astype(str)\n",
    "y = df['label_encoded']\n",
    "\n",
    "# Initialize the TF-IDF Vectorizer\n",
    "vectorizer = TfidfVectorizer()\n",
    "\n",
    "# Fit and transform the text data\n",
    "# Important! vectorizer.fit_transform() expect the string format data!!!! thats why: X = df['email_processed'].astype(str)\n",
    "tfidf_matrix = vectorizer.fit_transform(X)\n",
    "\n",
    "\n",
    "# Convert the TF-IDF matrix to a DataFrame\n",
    "tfidf_df = pd.DataFrame(tfidf_matrix.toarray(), columns=vectorizer.get_feature_names_out())\n",
    "# here, we are able to see HOW X data was splitted into words. As I mentioned before, each word will be working as if feauture in training the model\n"
   ]
  },
  {
   "cell_type": "code",
   "execution_count": 25,
   "id": "e97c775f",
   "metadata": {
    "execution": {
     "iopub.execute_input": "2024-07-02T12:35:11.510958Z",
     "iopub.status.busy": "2024-07-02T12:35:11.510519Z",
     "iopub.status.idle": "2024-07-02T12:35:11.563722Z",
     "shell.execute_reply": "2024-07-02T12:35:11.562604Z"
    },
    "papermill": {
     "duration": 0.073585,
     "end_time": "2024-07-02T12:35:11.566155",
     "exception": false,
     "start_time": "2024-07-02T12:35:11.492570",
     "status": "completed"
    },
    "tags": []
   },
   "outputs": [
    {
     "data": {
      "text/html": [
       "<div>\n",
       "<style scoped>\n",
       "    .dataframe tbody tr th:only-of-type {\n",
       "        vertical-align: middle;\n",
       "    }\n",
       "\n",
       "    .dataframe tbody tr th {\n",
       "        vertical-align: top;\n",
       "    }\n",
       "\n",
       "    .dataframe thead th {\n",
       "        text-align: right;\n",
       "    }\n",
       "</style>\n",
       "<table border=\"1\" class=\"dataframe\">\n",
       "  <thead>\n",
       "    <tr style=\"text-align: right;\">\n",
       "      <th></th>\n",
       "      <th>aa</th>\n",
       "      <th>aah</th>\n",
       "      <th>aaniy</th>\n",
       "      <th>aaooooright</th>\n",
       "      <th>aathi</th>\n",
       "      <th>ab</th>\n",
       "      <th>abbey</th>\n",
       "      <th>abdomen</th>\n",
       "      <th>abeg</th>\n",
       "      <th>abel</th>\n",
       "      <th>...</th>\n",
       "      <th>zero</th>\n",
       "      <th>zf</th>\n",
       "      <th>zhong</th>\n",
       "      <th>zindgi</th>\n",
       "      <th>zoe</th>\n",
       "      <th>zogtoriu</th>\n",
       "      <th>zoom</th>\n",
       "      <th>zouk</th>\n",
       "      <th>zs</th>\n",
       "      <th>zyada</th>\n",
       "    </tr>\n",
       "  </thead>\n",
       "  <tbody>\n",
       "    <tr>\n",
       "      <th>750</th>\n",
       "      <td>0.0</td>\n",
       "      <td>0.0</td>\n",
       "      <td>0.0</td>\n",
       "      <td>0.0</td>\n",
       "      <td>0.0</td>\n",
       "      <td>0.0</td>\n",
       "      <td>0.0</td>\n",
       "      <td>0.0</td>\n",
       "      <td>0.0</td>\n",
       "      <td>0.0</td>\n",
       "      <td>...</td>\n",
       "      <td>0.0</td>\n",
       "      <td>0.0</td>\n",
       "      <td>0.0</td>\n",
       "      <td>0.0</td>\n",
       "      <td>0.0</td>\n",
       "      <td>0.0</td>\n",
       "      <td>0.0</td>\n",
       "      <td>0.0</td>\n",
       "      <td>0.0</td>\n",
       "      <td>0.0</td>\n",
       "    </tr>\n",
       "    <tr>\n",
       "      <th>751</th>\n",
       "      <td>0.0</td>\n",
       "      <td>0.0</td>\n",
       "      <td>0.0</td>\n",
       "      <td>0.0</td>\n",
       "      <td>0.0</td>\n",
       "      <td>0.0</td>\n",
       "      <td>0.0</td>\n",
       "      <td>0.0</td>\n",
       "      <td>0.0</td>\n",
       "      <td>0.0</td>\n",
       "      <td>...</td>\n",
       "      <td>0.0</td>\n",
       "      <td>0.0</td>\n",
       "      <td>0.0</td>\n",
       "      <td>0.0</td>\n",
       "      <td>0.0</td>\n",
       "      <td>0.0</td>\n",
       "      <td>0.0</td>\n",
       "      <td>0.0</td>\n",
       "      <td>0.0</td>\n",
       "      <td>0.0</td>\n",
       "    </tr>\n",
       "    <tr>\n",
       "      <th>752</th>\n",
       "      <td>0.0</td>\n",
       "      <td>0.0</td>\n",
       "      <td>0.0</td>\n",
       "      <td>0.0</td>\n",
       "      <td>0.0</td>\n",
       "      <td>0.0</td>\n",
       "      <td>0.0</td>\n",
       "      <td>0.0</td>\n",
       "      <td>0.0</td>\n",
       "      <td>0.0</td>\n",
       "      <td>...</td>\n",
       "      <td>0.0</td>\n",
       "      <td>0.0</td>\n",
       "      <td>0.0</td>\n",
       "      <td>0.0</td>\n",
       "      <td>0.0</td>\n",
       "      <td>0.0</td>\n",
       "      <td>0.0</td>\n",
       "      <td>0.0</td>\n",
       "      <td>0.0</td>\n",
       "      <td>0.0</td>\n",
       "    </tr>\n",
       "    <tr>\n",
       "      <th>753</th>\n",
       "      <td>0.0</td>\n",
       "      <td>0.0</td>\n",
       "      <td>0.0</td>\n",
       "      <td>0.0</td>\n",
       "      <td>0.0</td>\n",
       "      <td>0.0</td>\n",
       "      <td>0.0</td>\n",
       "      <td>0.0</td>\n",
       "      <td>0.0</td>\n",
       "      <td>0.0</td>\n",
       "      <td>...</td>\n",
       "      <td>0.0</td>\n",
       "      <td>0.0</td>\n",
       "      <td>0.0</td>\n",
       "      <td>0.0</td>\n",
       "      <td>0.0</td>\n",
       "      <td>0.0</td>\n",
       "      <td>0.0</td>\n",
       "      <td>0.0</td>\n",
       "      <td>0.0</td>\n",
       "      <td>0.0</td>\n",
       "    </tr>\n",
       "    <tr>\n",
       "      <th>754</th>\n",
       "      <td>0.0</td>\n",
       "      <td>0.0</td>\n",
       "      <td>0.0</td>\n",
       "      <td>0.0</td>\n",
       "      <td>0.0</td>\n",
       "      <td>0.0</td>\n",
       "      <td>0.0</td>\n",
       "      <td>0.0</td>\n",
       "      <td>0.0</td>\n",
       "      <td>0.0</td>\n",
       "      <td>...</td>\n",
       "      <td>0.0</td>\n",
       "      <td>0.0</td>\n",
       "      <td>0.0</td>\n",
       "      <td>0.0</td>\n",
       "      <td>0.0</td>\n",
       "      <td>0.0</td>\n",
       "      <td>0.0</td>\n",
       "      <td>0.0</td>\n",
       "      <td>0.0</td>\n",
       "      <td>0.0</td>\n",
       "    </tr>\n",
       "    <tr>\n",
       "      <th>...</th>\n",
       "      <td>...</td>\n",
       "      <td>...</td>\n",
       "      <td>...</td>\n",
       "      <td>...</td>\n",
       "      <td>...</td>\n",
       "      <td>...</td>\n",
       "      <td>...</td>\n",
       "      <td>...</td>\n",
       "      <td>...</td>\n",
       "      <td>...</td>\n",
       "      <td>...</td>\n",
       "      <td>...</td>\n",
       "      <td>...</td>\n",
       "      <td>...</td>\n",
       "      <td>...</td>\n",
       "      <td>...</td>\n",
       "      <td>...</td>\n",
       "      <td>...</td>\n",
       "      <td>...</td>\n",
       "      <td>...</td>\n",
       "      <td>...</td>\n",
       "    </tr>\n",
       "    <tr>\n",
       "      <th>895</th>\n",
       "      <td>0.0</td>\n",
       "      <td>0.0</td>\n",
       "      <td>0.0</td>\n",
       "      <td>0.0</td>\n",
       "      <td>0.0</td>\n",
       "      <td>0.0</td>\n",
       "      <td>0.0</td>\n",
       "      <td>0.0</td>\n",
       "      <td>0.0</td>\n",
       "      <td>0.0</td>\n",
       "      <td>...</td>\n",
       "      <td>0.0</td>\n",
       "      <td>0.0</td>\n",
       "      <td>0.0</td>\n",
       "      <td>0.0</td>\n",
       "      <td>0.0</td>\n",
       "      <td>0.0</td>\n",
       "      <td>0.0</td>\n",
       "      <td>0.0</td>\n",
       "      <td>0.0</td>\n",
       "      <td>0.0</td>\n",
       "    </tr>\n",
       "    <tr>\n",
       "      <th>896</th>\n",
       "      <td>0.0</td>\n",
       "      <td>0.0</td>\n",
       "      <td>0.0</td>\n",
       "      <td>0.0</td>\n",
       "      <td>0.0</td>\n",
       "      <td>0.0</td>\n",
       "      <td>0.0</td>\n",
       "      <td>0.0</td>\n",
       "      <td>0.0</td>\n",
       "      <td>0.0</td>\n",
       "      <td>...</td>\n",
       "      <td>0.0</td>\n",
       "      <td>0.0</td>\n",
       "      <td>0.0</td>\n",
       "      <td>0.0</td>\n",
       "      <td>0.0</td>\n",
       "      <td>0.0</td>\n",
       "      <td>0.0</td>\n",
       "      <td>0.0</td>\n",
       "      <td>0.0</td>\n",
       "      <td>0.0</td>\n",
       "    </tr>\n",
       "    <tr>\n",
       "      <th>897</th>\n",
       "      <td>0.0</td>\n",
       "      <td>0.0</td>\n",
       "      <td>0.0</td>\n",
       "      <td>0.0</td>\n",
       "      <td>0.0</td>\n",
       "      <td>0.0</td>\n",
       "      <td>0.0</td>\n",
       "      <td>0.0</td>\n",
       "      <td>0.0</td>\n",
       "      <td>0.0</td>\n",
       "      <td>...</td>\n",
       "      <td>0.0</td>\n",
       "      <td>0.0</td>\n",
       "      <td>0.0</td>\n",
       "      <td>0.0</td>\n",
       "      <td>0.0</td>\n",
       "      <td>0.0</td>\n",
       "      <td>0.0</td>\n",
       "      <td>0.0</td>\n",
       "      <td>0.0</td>\n",
       "      <td>0.0</td>\n",
       "    </tr>\n",
       "    <tr>\n",
       "      <th>898</th>\n",
       "      <td>0.0</td>\n",
       "      <td>0.0</td>\n",
       "      <td>0.0</td>\n",
       "      <td>0.0</td>\n",
       "      <td>0.0</td>\n",
       "      <td>0.0</td>\n",
       "      <td>0.0</td>\n",
       "      <td>0.0</td>\n",
       "      <td>0.0</td>\n",
       "      <td>0.0</td>\n",
       "      <td>...</td>\n",
       "      <td>0.0</td>\n",
       "      <td>0.0</td>\n",
       "      <td>0.0</td>\n",
       "      <td>0.0</td>\n",
       "      <td>0.0</td>\n",
       "      <td>0.0</td>\n",
       "      <td>0.0</td>\n",
       "      <td>0.0</td>\n",
       "      <td>0.0</td>\n",
       "      <td>0.0</td>\n",
       "    </tr>\n",
       "    <tr>\n",
       "      <th>899</th>\n",
       "      <td>0.0</td>\n",
       "      <td>0.0</td>\n",
       "      <td>0.0</td>\n",
       "      <td>0.0</td>\n",
       "      <td>0.0</td>\n",
       "      <td>0.0</td>\n",
       "      <td>0.0</td>\n",
       "      <td>0.0</td>\n",
       "      <td>0.0</td>\n",
       "      <td>0.0</td>\n",
       "      <td>...</td>\n",
       "      <td>0.0</td>\n",
       "      <td>0.0</td>\n",
       "      <td>0.0</td>\n",
       "      <td>0.0</td>\n",
       "      <td>0.0</td>\n",
       "      <td>0.0</td>\n",
       "      <td>0.0</td>\n",
       "      <td>0.0</td>\n",
       "      <td>0.0</td>\n",
       "      <td>0.0</td>\n",
       "    </tr>\n",
       "  </tbody>\n",
       "</table>\n",
       "<p>150 rows × 6217 columns</p>\n",
       "</div>"
      ],
      "text/plain": [
       "      aa  aah  aaniy  aaooooright  aathi   ab  abbey  abdomen  abeg  abel  \\\n",
       "750  0.0  0.0    0.0          0.0    0.0  0.0    0.0      0.0   0.0   0.0   \n",
       "751  0.0  0.0    0.0          0.0    0.0  0.0    0.0      0.0   0.0   0.0   \n",
       "752  0.0  0.0    0.0          0.0    0.0  0.0    0.0      0.0   0.0   0.0   \n",
       "753  0.0  0.0    0.0          0.0    0.0  0.0    0.0      0.0   0.0   0.0   \n",
       "754  0.0  0.0    0.0          0.0    0.0  0.0    0.0      0.0   0.0   0.0   \n",
       "..   ...  ...    ...          ...    ...  ...    ...      ...   ...   ...   \n",
       "895  0.0  0.0    0.0          0.0    0.0  0.0    0.0      0.0   0.0   0.0   \n",
       "896  0.0  0.0    0.0          0.0    0.0  0.0    0.0      0.0   0.0   0.0   \n",
       "897  0.0  0.0    0.0          0.0    0.0  0.0    0.0      0.0   0.0   0.0   \n",
       "898  0.0  0.0    0.0          0.0    0.0  0.0    0.0      0.0   0.0   0.0   \n",
       "899  0.0  0.0    0.0          0.0    0.0  0.0    0.0      0.0   0.0   0.0   \n",
       "\n",
       "     ...  zero   zf  zhong  zindgi  zoe  zogtoriu  zoom  zouk   zs  zyada  \n",
       "750  ...   0.0  0.0    0.0     0.0  0.0       0.0   0.0   0.0  0.0    0.0  \n",
       "751  ...   0.0  0.0    0.0     0.0  0.0       0.0   0.0   0.0  0.0    0.0  \n",
       "752  ...   0.0  0.0    0.0     0.0  0.0       0.0   0.0   0.0  0.0    0.0  \n",
       "753  ...   0.0  0.0    0.0     0.0  0.0       0.0   0.0   0.0  0.0    0.0  \n",
       "754  ...   0.0  0.0    0.0     0.0  0.0       0.0   0.0   0.0  0.0    0.0  \n",
       "..   ...   ...  ...    ...     ...  ...       ...   ...   ...  ...    ...  \n",
       "895  ...   0.0  0.0    0.0     0.0  0.0       0.0   0.0   0.0  0.0    0.0  \n",
       "896  ...   0.0  0.0    0.0     0.0  0.0       0.0   0.0   0.0  0.0    0.0  \n",
       "897  ...   0.0  0.0    0.0     0.0  0.0       0.0   0.0   0.0  0.0    0.0  \n",
       "898  ...   0.0  0.0    0.0     0.0  0.0       0.0   0.0   0.0  0.0    0.0  \n",
       "899  ...   0.0  0.0    0.0     0.0  0.0       0.0   0.0   0.0  0.0    0.0  \n",
       "\n",
       "[150 rows x 6217 columns]"
      ]
     },
     "execution_count": 25,
     "metadata": {},
     "output_type": "execute_result"
    }
   ],
   "source": [
    "tfidf_df.iloc[750:900]\n",
    "#X has 6217 words now, even though the row does not have any, it refers 0.0 weights. So it means no effect here. "
   ]
  },
  {
   "cell_type": "code",
   "execution_count": 26,
   "id": "de8c2473",
   "metadata": {
    "execution": {
     "iopub.execute_input": "2024-07-02T12:35:11.602833Z",
     "iopub.status.busy": "2024-07-02T12:35:11.602327Z",
     "iopub.status.idle": "2024-07-02T12:35:15.229439Z",
     "shell.execute_reply": "2024-07-02T12:35:15.228404Z"
    },
    "papermill": {
     "duration": 3.648845,
     "end_time": "2024-07-02T12:35:15.232216",
     "exception": false,
     "start_time": "2024-07-02T12:35:11.583371",
     "status": "completed"
    },
    "tags": []
   },
   "outputs": [
    {
     "name": "stdout",
     "output_type": "stream",
     "text": [
      "Training set size: (3733, 6217)\n",
      "Test set size: (1839, 6217)\n"
     ]
    }
   ],
   "source": [
    "from sklearn.ensemble import RandomForestClassifier\n",
    "from sklearn.feature_extraction.text import TfidfVectorizer\n",
    "from sklearn.metrics import accuracy_score, classification_report, confusion_matrix\n",
    "\n",
    "# Split the data into training and testing sets\n",
    "X_train, X_test, y_train, y_test = train_test_split(tfidf_matrix, y, test_size=0.33, random_state=42)\n",
    "\n",
    "# Ensure no data leakage (check if any training sample is in test set)\n",
    "print(\"Training set size:\", X_train.shape)\n",
    "print(\"Test set size:\", X_test.shape)\n",
    "\n",
    "# Initialize the Random Forest Classifier\n",
    "rf_classifier = RandomForestClassifier(n_estimators=100, random_state=42)\n",
    "\n",
    "# Train the model\n",
    "rf_classifier.fit(X_train, y_train)\n",
    "\n",
    "# Make predictions on the test data\n",
    "y_pred = rf_classifier.predict(X_test)"
   ]
  },
  {
   "cell_type": "code",
   "execution_count": 27,
   "id": "65660167",
   "metadata": {
    "execution": {
     "iopub.execute_input": "2024-07-02T12:35:15.269581Z",
     "iopub.status.busy": "2024-07-02T12:35:15.269041Z",
     "iopub.status.idle": "2024-07-02T12:35:15.281849Z",
     "shell.execute_reply": "2024-07-02T12:35:15.280571Z"
    },
    "papermill": {
     "duration": 0.034877,
     "end_time": "2024-07-02T12:35:15.284610",
     "exception": false,
     "start_time": "2024-07-02T12:35:15.249733",
     "status": "completed"
    },
    "tags": []
   },
   "outputs": [
    {
     "data": {
      "text/html": [
       "<div>\n",
       "<style scoped>\n",
       "    .dataframe tbody tr th:only-of-type {\n",
       "        vertical-align: middle;\n",
       "    }\n",
       "\n",
       "    .dataframe tbody tr th {\n",
       "        vertical-align: top;\n",
       "    }\n",
       "\n",
       "    .dataframe thead th {\n",
       "        text-align: right;\n",
       "    }\n",
       "</style>\n",
       "<table border=\"1\" class=\"dataframe\">\n",
       "  <thead>\n",
       "    <tr style=\"text-align: right;\">\n",
       "      <th></th>\n",
       "      <th>prediction</th>\n",
       "      <th>real</th>\n",
       "    </tr>\n",
       "  </thead>\n",
       "  <tbody>\n",
       "    <tr>\n",
       "      <th>3245</th>\n",
       "      <td>0</td>\n",
       "      <td>0</td>\n",
       "    </tr>\n",
       "    <tr>\n",
       "      <th>944</th>\n",
       "      <td>0</td>\n",
       "      <td>0</td>\n",
       "    </tr>\n",
       "    <tr>\n",
       "      <th>1044</th>\n",
       "      <td>1</td>\n",
       "      <td>1</td>\n",
       "    </tr>\n",
       "    <tr>\n",
       "      <th>2484</th>\n",
       "      <td>0</td>\n",
       "      <td>0</td>\n",
       "    </tr>\n",
       "    <tr>\n",
       "      <th>812</th>\n",
       "      <td>1</td>\n",
       "      <td>1</td>\n",
       "    </tr>\n",
       "    <tr>\n",
       "      <th>2973</th>\n",
       "      <td>0</td>\n",
       "      <td>0</td>\n",
       "    </tr>\n",
       "    <tr>\n",
       "      <th>2991</th>\n",
       "      <td>0</td>\n",
       "      <td>0</td>\n",
       "    </tr>\n",
       "    <tr>\n",
       "      <th>2942</th>\n",
       "      <td>0</td>\n",
       "      <td>0</td>\n",
       "    </tr>\n",
       "    <tr>\n",
       "      <th>230</th>\n",
       "      <td>0</td>\n",
       "      <td>0</td>\n",
       "    </tr>\n",
       "    <tr>\n",
       "      <th>1181</th>\n",
       "      <td>0</td>\n",
       "      <td>0</td>\n",
       "    </tr>\n",
       "  </tbody>\n",
       "</table>\n",
       "</div>"
      ],
      "text/plain": [
       "      prediction  real\n",
       "3245           0     0\n",
       "944            0     0\n",
       "1044           1     1\n",
       "2484           0     0\n",
       "812            1     1\n",
       "2973           0     0\n",
       "2991           0     0\n",
       "2942           0     0\n",
       "230            0     0\n",
       "1181           0     0"
      ]
     },
     "execution_count": 27,
     "metadata": {},
     "output_type": "execute_result"
    }
   ],
   "source": [
    "mydict = {'prediction': y_pred,\n",
    "         'real': y_test}\n",
    "\n",
    "pd.DataFrame(mydict).head(10)"
   ]
  },
  {
   "cell_type": "code",
   "execution_count": 28,
   "id": "61e77351",
   "metadata": {
    "execution": {
     "iopub.execute_input": "2024-07-02T12:35:15.321785Z",
     "iopub.status.busy": "2024-07-02T12:35:15.321362Z",
     "iopub.status.idle": "2024-07-02T12:35:15.345192Z",
     "shell.execute_reply": "2024-07-02T12:35:15.343715Z"
    },
    "papermill": {
     "duration": 0.045629,
     "end_time": "2024-07-02T12:35:15.347993",
     "exception": false,
     "start_time": "2024-07-02T12:35:15.302364",
     "status": "completed"
    },
    "tags": []
   },
   "outputs": [
    {
     "name": "stdout",
     "output_type": "stream",
     "text": [
      "Accuracy: 97.77%\n",
      "Classification Report:\n",
      "              precision    recall  f1-score   support\n",
      "\n",
      "           0       0.97      1.00      0.99      1587\n",
      "           1       1.00      0.84      0.91       252\n",
      "\n",
      "    accuracy                           0.98      1839\n",
      "   macro avg       0.99      0.92      0.95      1839\n",
      "weighted avg       0.98      0.98      0.98      1839\n",
      "\n",
      "Confusion Matrix:\n",
      "[[1587    0]\n",
      " [  41  211]]\n"
     ]
    }
   ],
   "source": [
    "accuracy = accuracy_score(y_test, y_pred)\n",
    "print(f\"Accuracy: {accuracy * 100:.2f}%\")\n",
    "\n",
    "# Print classification report\n",
    "print(\"Classification Report:\")\n",
    "print(classification_report(y_test, y_pred))\n",
    "\n",
    "# Print confusion matrix\n",
    "print(\"Confusion Matrix:\")\n",
    "cm = confusion_matrix(y_test, y_pred)\n",
    "print(cm)"
   ]
  },
  {
   "cell_type": "code",
   "execution_count": 29,
   "id": "7cd60765",
   "metadata": {
    "execution": {
     "iopub.execute_input": "2024-07-02T12:35:15.385800Z",
     "iopub.status.busy": "2024-07-02T12:35:15.384851Z",
     "iopub.status.idle": "2024-07-02T12:35:15.734057Z",
     "shell.execute_reply": "2024-07-02T12:35:15.732660Z"
    },
    "papermill": {
     "duration": 0.370988,
     "end_time": "2024-07-02T12:35:15.736789",
     "exception": false,
     "start_time": "2024-07-02T12:35:15.365801",
     "status": "completed"
    },
    "tags": []
   },
   "outputs": [
    {
     "data": {
      "image/png": "[encoded data removed]",
      "text/plain": [
       "<Figure size 1000x700 with 2 Axes>"
      ]
     },
     "metadata": {},
     "output_type": "display_data"
    }
   ],
   "source": [
    "import matplotlib.pyplot as plt\n",
    "import seaborn as sns\n",
    "\n",
    "# Plot the confusion matrix\n",
    "plt.figure(figsize=(10, 7))\n",
    "sns.heatmap(cm, annot=True, fmt='d', cmap='Blues', xticklabels=['HAM', 'Spam'], yticklabels=['HAM', 'Spam'])\n",
    "plt.xlabel('Predicted')\n",
    "plt.ylabel('True')\n",
    "plt.title('Confusion Matrix')\n",
    "plt.show()"
   ]
  }
 ],
 "metadata": {
  "kaggle": {
   "accelerator": "none",
   "dataSources": [
    {
     "datasetId": 4812840,
     "sourceId": 8140416,
     "sourceType": "datasetVersion"
    },
    {
     "datasetId": 483,
     "sourceId": 982,
     "sourceType": "datasetVersion"
    }
   ],
   "dockerImageVersionId": 30732,
   "isGpuEnabled": false,
   "isInternetEnabled": true,
   "language": "python",
   "sourceType": "notebook"
  },
  "kernelspec": {
   "display_name": "Python 3",
   "language": "python",
   "name": "python3"
  },
  "language_info": {
   "codemirror_mode": {
    "name": "ipython",
    "version": 3
   },
   "file_extension": ".py",
   "mimetype": "text/x-python",
   "name": "python",
   "nbconvert_exporter": "python",
   "pygments_lexer": "ipython3",
   "version": "3.10.13"
  },
  "papermill": {
   "default_parameters": {},
   "duration": 23.059814,
   "end_time": "2024-07-02T12:35:16.578298",
   "environment_variables": {},
   "exception": null,
   "input_path": "__notebook__.ipynb",
   "output_path": "__notebook__.ipynb",
   "parameters": {},
   "start_time": "2024-07-02T12:34:53.518484",
   "version": "2.5.0"
  }
 },
 "nbformat": 4,
 "nbformat_minor": 5
}
